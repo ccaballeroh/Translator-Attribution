{
 "cells": [
  {
   "cell_type": "code",
   "execution_count": 126,
   "metadata": {},
   "outputs": [],
   "source": [
    "import os\n",
    "import numpy as np\n",
    "from collections import defaultdict\n",
    "from sklearn.feature_extraction import DictVectorizer\n",
    "from sklearn.preprocessing import LabelEncoder\n",
    "from sklearn.linear_model import LogisticRegression\n",
    "from sklearn.svm import LinearSVC\n",
    "from sklearn.model_selection import KFold\n",
    "from sklearn.model_selection import cross_val_score"
   ]
  },
  {
   "cell_type": "code",
   "execution_count": 116,
   "metadata": {},
   "outputs": [],
   "source": [
    "from helper.functions import get_dataset_from_json"
   ]
  },
  {
   "cell_type": "code",
   "execution_count": 117,
   "metadata": {},
   "outputs": [],
   "source": [
    "FOLDER = \".\\\\auxfiles\\\\json\\\\\"\n",
    "file_list = os.listdir(FOLDER)\n",
    "features_files = [file for file in file_list if file.startswith(\"features\")]"
   ]
  },
  {
   "cell_type": "code",
   "execution_count": 118,
   "metadata": {},
   "outputs": [],
   "source": [
    "file = \"featuresQuixote_cohesive_punctuation.json\""
   ]
  },
  {
   "cell_type": "code",
   "execution_count": 119,
   "metadata": {},
   "outputs": [],
   "source": [
    "X_dict, y_str = get_dataset_from_json(file, folder=FOLDER)\n",
    "v = DictVectorizer(sparse=True)\n",
    "encoder = LabelEncoder()\n",
    "\n",
    "X = v.fit_transform(X_dict, )\n",
    "y = encoder.fit_transform(y_str)\n",
    "\n",
    "dimension = X.shape[1]"
   ]
  },
  {
   "cell_type": "code",
   "execution_count": 120,
   "metadata": {},
   "outputs": [],
   "source": [
    "kf = KFold(n_splits=10, shuffle=True, random_state=42)"
   ]
  },
  {
   "cell_type": "code",
   "execution_count": 113,
   "metadata": {},
   "outputs": [],
   "source": [
    "log_model = LogisticRegression()\n",
    "cv_log = cross_val_score(log_model, X, y, cv=kf, n_jobs=-1)\n",
    "cv_log"
   ]
  },
  {
   "cell_type": "code",
   "execution_count": 127,
   "metadata": {},
   "outputs": [
    {
     "name": "stderr",
     "output_type": "stream",
     "text": [
      "D:\\ProgramData\\Anaconda3\\envs\\spacy\\lib\\site-packages\\sklearn\\linear_model\\logistic.py:432: FutureWarning: Default solver will be changed to 'lbfgs' in 0.22. Specify a solver to silence this warning.\n",
      "  FutureWarning)\n",
      "D:\\ProgramData\\Anaconda3\\envs\\spacy\\lib\\site-packages\\sklearn\\linear_model\\logistic.py:469: FutureWarning: Default multi_class will be changed to 'auto' in 0.22. Specify the multi_class option to silence this warning.\n",
      "  \"this warning.\", FutureWarning)\n"
     ]
    }
   ],
   "source": [
    "clf = log_model.fit(X,y)"
   ]
  },
  {
   "cell_type": "code",
   "execution_count": 128,
   "metadata": {},
   "outputs": [],
   "source": [
    "def return_n_most_important(clf, v, encoder, n= 10):\n",
    "    most_important = defaultdict(list)\n",
    "    for i in range(len(encoder.classes_)):\n",
    "        indices = clf.coef_[i].argsort()[-n:][::-1]\n",
    "        for index in indices:\n",
    "            most_important[encoder.inverse_transform([i])[0]].append(v.get_feature_names()[index])\n",
    "    return dict(most_important)"
   ]
  },
  {
   "cell_type": "code",
   "execution_count": 129,
   "metadata": {},
   "outputs": [
    {
     "data": {
      "text/plain": [
       "{'Jarvis': ['. in short,',\n",
       "  '; and,',\n",
       "  '. then',\n",
       "  '. but',\n",
       "  '\"and',\n",
       "  'up to',\n",
       "  'still',\n",
       "  ', in short,',\n",
       "  '\" and,',\n",
       "  ', since'],\n",
       " 'Ormsby': [', however,',\n",
       "  '--and',\n",
       "  'now,',\n",
       "  ', while',\n",
       "  'so far',\n",
       "  'before',\n",
       "  'far',\n",
       "  'there',\n",
       "  '\"that is',\n",
       "  'that is'],\n",
       " 'Shelton': [', yet',\n",
       "  \"'and\",\n",
       "  ', although',\n",
       "  \"'but\",\n",
       "  'likewise',\n",
       "  'therefore',\n",
       "  \"'there\",\n",
       "  \"'since\",\n",
       "  'after,',\n",
       "  \"' and\"]}"
      ]
     },
     "execution_count": 129,
     "metadata": {},
     "output_type": "execute_result"
    }
   ],
   "source": [
    "return_n_most_important(clf, v, encoder)"
   ]
  }
 ],
 "metadata": {
  "kernelspec": {
   "display_name": "Python [conda env:spacy]",
   "language": "python",
   "name": "conda-env-spacy-py"
  },
  "language_info": {
   "codemirror_mode": {
    "name": "ipython",
    "version": 3
   },
   "file_extension": ".py",
   "mimetype": "text/x-python",
   "name": "python",
   "nbconvert_exporter": "python",
   "pygments_lexer": "ipython3",
   "version": "3.6.7"
  }
 },
 "nbformat": 4,
 "nbformat_minor": 4
}
