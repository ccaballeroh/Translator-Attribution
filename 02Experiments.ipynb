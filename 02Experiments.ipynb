{
  "nbformat": 4,
  "nbformat_minor": 0,
  "metadata": {
    "kernelspec": {
      "name": "python3",
      "display_name": "Python 3"
    },
    "colab": {
      "name": "08Experiments_dimensions.ipynb",
      "provenance": [],
      "collapsed_sections": [],
      "machine_shape": "hm",
      "include_colab_link": true
    }
  },
  "cells": [
    {
      "cell_type": "markdown",
      "metadata": {
        "id": "view-in-github",
        "colab_type": "text"
      },
      "source": [
        "<a href=\"https://colab.research.google.com/github/ccaballeroh/Translator-Attribution/blob/master/02Experiments.ipynb\" target=\"_parent\"><img src=\"https://colab.research.google.com/assets/colab-badge.svg\" alt=\"Open In Colab\"/></a>"
      ]
    },
    {
      "cell_type": "code",
      "metadata": {
        "id": "c2HB1lIjAf7b",
        "colab_type": "code",
        "colab": {}
      },
      "source": [
        "from sklearn.feature_extraction import DictVectorizer\n",
        "from sklearn.preprocessing import LabelEncoder\n",
        "from sklearn.naive_bayes import GaussianNB\n",
        "from sklearn.tree import DecisionTreeClassifier\n",
        "from sklearn.linear_model import LogisticRegression\n",
        "from sklearn.preprocessing import StandardScaler\n",
        "from sklearn.model_selection import KFold\n",
        "from sklearn.model_selection import cross_val_score\n",
        "from sklearn.svm import LinearSVC\n",
        "from sklearn.pipeline import Pipeline\n",
        "import os\n",
        "import numpy as np\n",
        "from collections import defaultdict\n",
        "import pandas as pd\n",
        "from pathlib import Path\n",
        "\n",
        "import warnings\n",
        "warnings.filterwarnings(\"ignore\")"
      ],
      "execution_count": 0,
      "outputs": []
    },
    {
      "cell_type": "code",
      "metadata": {
        "id": "cHZufhVsAzv5",
        "colab_type": "code",
        "outputId": "8d260286-e615-4272-a9aa-3b17d92d0862",
        "colab": {
          "base_uri": "https://localhost:8080/",
          "height": 122
        }
      },
      "source": [
        "from google.colab import drive\n",
        "drive.mount('/content/drive/')"
      ],
      "execution_count": 2,
      "outputs": [
        {
          "output_type": "stream",
          "text": [
            "Go to this URL in a browser: https://accounts.google.com/o/oauth2/auth?client_id=947318989803-6bn6qk8qdgf4n4g3pfee6491hc0brc4i.apps.googleusercontent.com&redirect_uri=urn%3aietf%3awg%3aoauth%3a2.0%3aoob&response_type=code&scope=email%20https%3a%2f%2fwww.googleapis.com%2fauth%2fdocs.test%20https%3a%2f%2fwww.googleapis.com%2fauth%2fdrive%20https%3a%2f%2fwww.googleapis.com%2fauth%2fdrive.photos.readonly%20https%3a%2f%2fwww.googleapis.com%2fauth%2fpeopleapi.readonly\n",
            "\n",
            "Enter your authorization code:\n",
            "··········\n",
            "Mounted at /content/drive/\n"
          ],
          "name": "stdout"
        }
      ]
    },
    {
      "cell_type": "code",
      "metadata": {
        "id": "4zBE4cWSBWCD",
        "colab_type": "code",
        "colab": {}
      },
      "source": [
        "FOLDER_thesis = Path(r\"./drive/My Drive/00Tesis/\")"
      ],
      "execution_count": 0,
      "outputs": []
    },
    {
      "cell_type": "code",
      "metadata": {
        "id": "S4DhUlUGAf7g",
        "colab_type": "code",
        "colab": {}
      },
      "source": [
        "import sys\n",
        "sys.path.insert(0,f\"{FOLDER_thesis}/helper/\")\n",
        "from analysis import get_dataset_from_json"
      ],
      "execution_count": 0,
      "outputs": []
    },
    {
      "cell_type": "code",
      "metadata": {
        "id": "vInwzfEwAf7k",
        "colab_type": "code",
        "colab": {}
      },
      "source": [
        "FOLDER = FOLDER_thesis/\"auxfiles/json/\"\n",
        "LOG_PATH = FOLDER_thesis/\"auxfiles/logs/\""
      ],
      "execution_count": 0,
      "outputs": []
    },
    {
      "cell_type": "code",
      "metadata": {
        "colab_type": "code",
        "id": "cdEa73lfCGXY",
        "colab": {}
      },
      "source": [
        "features_files = [file for file in FOLDER.iterdir() if file.name.startswith(\"features\")]"
      ],
      "execution_count": 0,
      "outputs": []
    },
    {
      "cell_type": "code",
      "metadata": {
        "id": "ZwMKE7KtAf7w",
        "colab_type": "code",
        "colab": {}
      },
      "source": [
        "results_all_corpora = defaultdict(pd.DataFrame)\n",
        "\n",
        "for translator in [\"Quixote\",\"Ibsen\"]:\n",
        "    indexes = []\n",
        "    cols = [\"Dimension\", \"SVC\", \"Naïve Bayes\", \"Decision Tree\", \"Logistic Regression\"]\n",
        "    results = []\n",
        "    for file in [file for file in features_files if file.name.split(\"_\")[0].endswith(translator)]:\n",
        "        with open(LOG_PATH/\"experiment_colab.log\", \"a\") as f:\n",
        "            print(file, file=f)\n",
        "        X_dict, y_str = get_dataset_from_json(file)\n",
        "        v = DictVectorizer(sparse=True)\n",
        "        encoder = LabelEncoder()\n",
        "\n",
        "        X = v.fit_transform(X_dict, )\n",
        "        y = encoder.fit_transform(y_str)\n",
        "\n",
        "        dimension = X.shape[1]\n",
        "\n",
        "        kf = KFold(n_splits=10, shuffle=True, random_state=42)\n",
        "\n",
        "        try:\n",
        "            svm_model = Pipeline([(\"scaler\", StandardScaler(with_mean=False)),\n",
        "                                  (\"scv\", LinearSVC(random_state=42)),\n",
        "                                 ])\n",
        "            cv_svm = cross_val_score(svm_model, X, y, cv=kf, n_jobs=-1)\n",
        "\n",
        "            nb_model = GaussianNB()\n",
        "            cv_nb = cross_val_score(nb_model, X.toarray(), y, cv=kf)\n",
        "\n",
        "            dt_model = DecisionTreeClassifier(random_state=24)\n",
        "            cv_dt = cross_val_score(dt_model, X, y, cv=kf, n_jobs=-1)\n",
        "\n",
        "            log_model = LogisticRegression()\n",
        "            cv_log = cross_val_score(log_model, X, y, cv=kf, n_jobs=-1)\n",
        "        \n",
        "        except MemoryError:\n",
        "            cv_svm = -1*np.ones((1,4))\n",
        "            #cv_nb  = cv_svm\n",
        "            cv_rf = cv_svm\n",
        "            cv_log = cv_svm\n",
        "        \n",
        "        result_per_featureset = [dimension, cv_svm.mean(), cv_nb.mean(), cv_dt.mean(), cv_log.mean()]\n",
        "        #print(result_per_featureset)\n",
        "        \n",
        "        results.append(result_per_featureset)        \n",
        "        indexes.append(\" \".join(file.stem.split(\"_\")[1:]))\n",
        "    \n",
        "    #print(results)\n",
        "    results_all_corpora[translator] = pd.DataFrame(np.array(results), index=indexes, columns = cols)"
      ],
      "execution_count": 0,
      "outputs": []
    },
    {
      "cell_type": "code",
      "metadata": {
        "id": "uNryufMmAf7y",
        "colab_type": "code",
        "colab": {}
      },
      "source": [
        "final = dict(results_all_corpora)"
      ],
      "execution_count": 0,
      "outputs": []
    },
    {
      "cell_type": "markdown",
      "metadata": {
        "id": "VLROCvb5Af71",
        "colab_type": "text"
      },
      "source": [
        "## Save results to CSV, $\\LaTeX$, and HTML"
      ]
    },
    {
      "cell_type": "code",
      "metadata": {
        "id": "-CMU-m2nAf72",
        "colab_type": "code",
        "colab": {}
      },
      "source": [
        "RESULTS_FOLDER = FOLDER_thesis/\"results/\""
      ],
      "execution_count": 0,
      "outputs": []
    },
    {
      "cell_type": "code",
      "metadata": {
        "id": "5ES4St_IAf76",
        "colab_type": "code",
        "colab": {}
      },
      "source": [
        "for translator in [\"Quixote\", \"Ibsen\"]:\n",
        "    df = final[translator].sort_index()\n",
        "    \n",
        "    df.to_csv(f\"{RESULTS_FOLDER/(translator+'_scaled_20200426_.csv')}\", float_format='%.4f')\n",
        "    \n",
        "    latex = df.to_latex(float_format=lambda x: '%.4f' % x)\n",
        "    with open(RESULTS_FOLDER/(translator+\"_scaled_20200426_.tex\"), \"w\") as f:\n",
        "        f.write(latex)\n",
        "    \n",
        "    html = df.to_html(float_format='%.4f')\n",
        "    with open(RESULTS_FOLDER/(translator+\"_scaled_20200426_.html\"), \"w\") as f:\n",
        "        f.write(html)"
      ],
      "execution_count": 0,
      "outputs": []
    }
  ]
}