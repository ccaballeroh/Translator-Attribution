{
  "cells": [
    {
      "cell_type": "markdown",
      "metadata": {
        "id": "view-in-github",
        "colab_type": "text"
      },
      "source": [
        "<a href=\"https://colab.research.google.com/github/ccaballeroh/Translator-Attribution/blob/master/02Experiments.ipynb\" target=\"_parent\"><img src=\"https://colab.research.google.com/assets/colab-badge.svg\" alt=\"Open In Colab\"/></a>"
      ]
    },
    {
      "cell_type": "markdown",
      "metadata": {
        "id": "4byb7A_57Tag",
        "colab_type": "text"
      },
      "source": [
        "# Experiments\n",
        "\n",
        "This notebook contains the code to reproduce the results of the experiments. The experiments consist on doing a 10-fold cross-validation using four different classifiers: a linear support vector machine, a logistic regression, a naïve bayes classifier, and a decision tree, for all the feature sets obtained on [01Processing](./01Processing.ipynb). All the classifiers were trained using the default values (except the support vector machine which showed improvement for having the data with standard deviation $\\sigma = 1$). The results are saved in a `DataFrame` for convenience and later saved to disk in three formats: CSV, HTML, and $\\LaTeX$.\n",
        "\n",
        "**Note:** Some of the feature sets are really big, and one of the classifiers does not support the use of sparse matrices, so it takes a lot of memory. The recommendation is to run this notebook on Google Colab when not doing `feature_selection`."
      ]
    },
    {
      "cell_type": "code",
      "metadata": {
        "id": "c2HB1lIjAf7b",
        "colab_type": "code",
        "colab": {}
      },
      "source": [
        "from pathlib import Path\n",
        "from sklearn.feature_extraction import DictVectorizer\n",
        "from sklearn.feature_selection import chi2, SelectKBest\n",
        "from sklearn.linear_model import LogisticRegression\n",
        "from sklearn.model_selection import cross_val_score, KFold\n",
        "from sklearn.naive_bayes import MultinomialNB\n",
        "from sklearn.pipeline import Pipeline\n",
        "from sklearn.preprocessing import LabelEncoder, StandardScaler\n",
        "from sklearn.svm import LinearSVC\n",
        "from sklearn.tree import DecisionTreeClassifier\n",
        "import numpy as np\n",
        "import pandas as pd\n",
        "import sys"
      ],
      "execution_count": null,
      "outputs": []
    },
    {
      "cell_type": "code",
      "metadata": {
        "id": "oEojGE7YpHnU",
        "colab_type": "code",
        "colab": {}
      },
      "source": [
        "IN_COLAB = 'google.colab' in sys.modules"
      ],
      "execution_count": null,
      "outputs": []
    },
    {
      "cell_type": "code",
      "metadata": {
        "id": "9FAhnkTBpHna",
        "colab_type": "code",
        "colab": {}
      },
      "source": [
        "if IN_COLAB:\n",
        "    from google.colab import drive\n",
        "    drive.mount('/content/drive/')\n",
        "    ROOT = Path(r\"./drive/My Drive/Translator-Attribution/\")\n",
        "    sys.path.insert(0,f\"{ROOT}/\")\n",
        "    import warnings\n",
        "    warnings.filterwarnings(\"ignore\")\n",
        "else:\n",
        "    from helper.analysis import ROOT"
      ],
      "execution_count": null,
      "outputs": []
    },
    {
      "cell_type": "code",
      "metadata": {
        "id": "S4DhUlUGAf7g",
        "colab_type": "code",
        "colab": {}
      },
      "source": [
        "from helper.analysis import get_dataset_from_json\n",
        "from helper.analysis import JSON_FOLDER"
      ],
      "execution_count": null,
      "outputs": []
    },
    {
      "cell_type": "code",
      "metadata": {
        "colab_type": "code",
        "id": "cdEa73lfCGXY",
        "colab": {}
      },
      "source": [
        "features_files = [\n",
        "                  file for file in JSON_FOLDER.iterdir()\n",
        "                  if file.name.startswith(\"features\")\n",
        "                  ]"
      ],
      "execution_count": null,
      "outputs": []
    },
    {
      "cell_type": "code",
      "metadata": {
        "id": "ZwMKE7KtAf7w",
        "colab_type": "code",
        "colab": {}
      },
      "source": [
        "results_all_corpora = {}\n",
        "\n",
        "for author in [\"Quixote\",\"Ibsen\"]:\n",
        "\n",
        "    indexes = []  # file names as indices\n",
        "    cols = [\n",
        "            \"Dimension\",\n",
        "            \"SVC\",\n",
        "            \"Naïve Bayes\",\n",
        "            \"Decision Tree\",\n",
        "            \"Logistic Regression\"\n",
        "            ]\n",
        "    results = []  # Where to hold the results\n",
        "    \n",
        "    for file in [file for file in features_files if author in file.name]:\n",
        "        \n",
        "        # Import data from JSON files\n",
        "        X_dict, y_str = get_dataset_from_json(file)\n",
        "\n",
        "        # Transformers to numpy arrays\n",
        "        dict_vect = DictVectorizer(sparse=True)\n",
        "        encoder = LabelEncoder()\n",
        "\n",
        "        # Numeric conversion\n",
        "        X = dict_vect.fit_transform(X_dict, )\n",
        "        y = encoder.fit_transform(y_str)\n",
        "\n",
        "        # Feature selection using chi-squared\n",
        "        chi2_selector = SelectKBest(chi2, k = 45)\n",
        "        X = chi2_selector.fit_transform(X, y)\n",
        "        \n",
        "        # Number of features\n",
        "        dimension = X.shape[1]\n",
        "\n",
        "        # K-fold to ingest cross-validation\n",
        "        kf = KFold(n_splits=10, shuffle=True, random_state=42)\n",
        "        \n",
        "        # Models\n",
        "        \n",
        "        ## SVM\n",
        "        svm_model = Pipeline([(\"scaler\", StandardScaler(with_mean=False)),\n",
        "                              (\"scv\", LinearSVC(random_state=42))])\n",
        "        cv_svm = cross_val_score(svm_model, X, y, cv=kf)\n",
        "\n",
        "        ## Logistic regresssion\n",
        "        log_model = LogisticRegression(random_state=42)\n",
        "        cv_log = cross_val_score(log_model, X, y, cv=kf)\n",
        "        \n",
        "        ## Naïve Bayes / doesn't take sparse matrix\n",
        "        nb_model = MultinomialNB()\n",
        "        cv_nb = cross_val_score(nb_model, X.toarray(), y, cv=kf)\n",
        "        \n",
        "        ## Decision Tree\n",
        "        dt_model = DecisionTreeClassifier(random_state=42)\n",
        "        cv_dt = cross_val_score(dt_model, X, y, cv=kf)\n",
        "        \n",
        "        # Results of cross-val for each feature set\n",
        "        result_per_featureset = [\n",
        "                                 dimension,\n",
        "                                 cv_svm.mean(),\n",
        "                                 cv_nb.mean(),\n",
        "                                 cv_dt.mean(),\n",
        "                                 cv_log.mean()\n",
        "                                 ]\n",
        "        \n",
        "        # Overall results for each author\n",
        "        results.append(result_per_featureset)        \n",
        "        indexes.append(\n",
        "            \" \".join(file.stem.split(\"_\")[2:])  # features from file name\n",
        "            ) \n",
        "    \n",
        "    # All features for all authors\n",
        "    results_all_corpora[author] = pd.DataFrame(np.array(results), index=indexes, columns=cols)"
      ],
      "execution_count": null,
      "outputs": []
    },
    {
      "cell_type": "markdown",
      "metadata": {
        "id": "VLROCvb5Af71",
        "colab_type": "text"
      },
      "source": [
        "## Save results to CSV, $\\LaTeX$, and HTML"
      ]
    },
    {
      "cell_type": "code",
      "metadata": {
        "id": "-CMU-m2nAf72",
        "colab_type": "code",
        "colab": {}
      },
      "source": [
        "RESULTS_FOLDER = Path(fr\"{ROOT}/results/\")"
      ],
      "execution_count": null,
      "outputs": []
    },
    {
      "cell_type": "code",
      "metadata": {
        "id": "5ES4St_IAf76",
        "colab_type": "code",
        "colab": {}
      },
      "source": [
        "for author in [\"Quixote\", \"Ibsen\"]:\n",
        "    df = results_all_corpora[author].sort_index()\n",
        "    \n",
        "    df.to_csv(f\"{RESULTS_FOLDER/(author +'_20200506.csv')}\", float_format='%.4f')\n",
        "    \n",
        "    latex = df.to_latex(float_format=lambda x: '%.4f' % x)\n",
        "    with open(RESULTS_FOLDER/(author+\"_20200506.tex\"), \"w\") as f:\n",
        "        f.write(latex)\n",
        "    \n",
        "    html = df.to_html(float_format='%.4f')\n",
        "    with open(RESULTS_FOLDER/(author+\"_20200506.html\"), \"w\") as f:\n",
        "        f.write(html)"
      ],
      "execution_count": null,
      "outputs": []
    }
  ],
  "metadata": {
    "kernelspec": {
      "name": "python36764bitspacyconda81cbf537626c4c91a9ad866d10139160",
      "display_name": "Python 3.6.7 64-bit ('spacy': conda)"
    },
    "colab": {
      "name": "08Experiments_dimensions.ipynb",
      "provenance": [],
      "collapsed_sections": [],
      "machine_shape": "hm",
      "include_colab_link": true
    }
  },
  "nbformat": 4,
  "nbformat_minor": 0
}