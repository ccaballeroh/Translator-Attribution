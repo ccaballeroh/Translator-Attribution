{
  "cells": [
    {
      "cell_type": "markdown",
      "metadata": {
        "id": "view-in-github",
        "colab_type": "text"
      },
      "source": [
        "<a href=\"https://colab.research.google.com/github/ccaballeroh/Translator-Attribution/blob/master/03Most_important.ipynb\" target=\"_parent\"><img src=\"https://colab.research.google.com/assets/colab-badge.svg\" alt=\"Open In Colab\"/></a>"
      ]
    },
    {
      "cell_type": "code",
      "metadata": {
        "id": "-jZ3uI9mRKh2",
        "colab_type": "code",
        "colab": {}
      },
      "source": [
        "from pathlib import Path\n",
        "import sys\n",
        "\n",
        "IN_COLAB = \"google.colab\" in sys.modules"
      ],
      "execution_count": 1,
      "outputs": []
    },
    {
      "cell_type": "code",
      "metadata": {
        "id": "1HK4MsUARPCG",
        "colab_type": "code",
        "colab": {}
      },
      "source": [
        "if IN_COLAB:\n",
        "    from google.colab import drive\n",
        "    drive.mount('/content/drive/')\n",
        "    ROOT = Path(r\"./drive/My Drive/Translator-Attribution\")\n",
        "    sys.path.insert(0,f\"{ROOT}/\")\n",
        "    import warnings\n",
        "    warnings.filterwarnings(\"ignore\")\n",
        "else:\n",
        "    from helper.analysis import ROOT"
      ],
      "execution_count": 2,
      "outputs": []
    },
    {
      "cell_type": "code",
      "metadata": {
        "id": "COM-qODNRCqx",
        "colab_type": "code",
        "colab": {}
      },
      "source": [
        "from collections import defaultdict\n",
        "from helper.analysis import get_dataset_from_json\n",
        "from helper.analysis import JSON_FOLDER\n",
        "from pathlib import Path\n",
        "from sklearn.feature_extraction import DictVectorizer\n",
        "from sklearn.linear_model import LogisticRegression\n",
        "from sklearn.metrics import accuracy_score, confusion_matrix\n",
        "from sklearn.model_selection import cross_val_score\n",
        "from sklearn.model_selection import cross_val_predict\n",
        "from sklearn.naive_bayes import MultinomialNB\n",
        "from sklearn.pipeline import Pipeline\n",
        "from sklearn.preprocessing import LabelEncoder\n",
        "from sklearn.preprocessing import normalize\n",
        "from sklearn.preprocessing import StandardScaler\n",
        "from sklearn.svm import LinearSVC\n",
        "from sklearn.utils import shuffle\n",
        "from sklearn.utils.multiclass import unique_labels\n",
        "from typing import Dict\n",
        "import matplotlib.pyplot as plt\n",
        "import numpy as np\n",
        "import pandas as pd\n",
        "import seaborn as sns"
      ],
      "execution_count": 3,
      "outputs": []
    },
    {
      "cell_type": "code",
      "metadata": {
        "id": "tiD6g0VFRCq3",
        "colab_type": "code",
        "colab": {}
      },
      "source": [
        "RESULTS_FOLDER = Path(fr\"{ROOT}/results/\")\n",
        "if not RESULTS_FOLDER.exists():\n",
        "    RESULTS_FOLDER.mkdir()\n",
        "\n",
        "TABLES_FOLDER = RESULTS_FOLDER / \"tables\"\n",
        "if not TABLES_FOLDER.exists():\n",
        "    TABLES_FOLDER.mkdir()\n",
        "\n",
        "FIGS_FOLDER = RESULTS_FOLDER / \"figs\"\n",
        "if not FIGS_FOLDER.exists():\n",
        "    FIGS_FOLDER.mkdir()\n",
        "\n",
        "CONF_MAT_FOLDER = FIGS_FOLDER / \"cm\"\n",
        "if not CONF_MAT_FOLDER.exists():\n",
        "    CONF_MAT_FOLDER.mkdir()\n",
        "\n",
        "MOST_RELEVANT_FOLDER = FIGS_FOLDER / \"most\"\n",
        "if not MOST_RELEVANT_FOLDER.exists():\n",
        "    MOST_RELEVANT_FOLDER.mkdir()\n",
        "\n",
        "\n",
        "features_files = [file for file in JSON_FOLDER.iterdir() if file.name.startswith(\"features\")]"
      ],
      "execution_count": 4,
      "outputs": []
    },
    {
      "cell_type": "markdown",
      "metadata": {},
      "source": [
        "# Confusion Matrices"
      ]
    },
    {
      "cell_type": "code",
      "execution_count": 5,
      "metadata": {},
      "outputs": [
        {
          "output_type": "display_data",
          "data": {
            "text/plain": "<Figure size 432x288 with 0 Axes>"
          },
          "metadata": {}
        }
      ],
      "source": [
        "sns.set(font_scale=1.4)\n",
        "for author in [\"Ibsen\", \"Quixote\"]:\n",
        "    for file in [file for file in features_files if author in file.name]:\n",
        "        X_dict, y_str = get_dataset_from_json(file)\n",
        "        v = DictVectorizer(sparse=True)\n",
        "        encoder = LabelEncoder()\n",
        "        \n",
        "        X, y = v.fit_transform(X_dict), encoder.fit_transform(y_str)\n",
        "        \n",
        "        X_, y_ = shuffle(X, y, random_state=24)\n",
        "        \n",
        "        log_model = LogisticRegression()\n",
        "\n",
        "        y_pred = cross_val_predict(log_model, X_, y_, cv=10)\n",
        "        cm = confusion_matrix(y_, y_pred, labels=unique_labels(y_))\n",
        "\n",
        "        df = pd.DataFrame(cm, index=encoder.classes_, columns=encoder.classes_)\n",
        "\n",
        "        cm_plot = sns.heatmap(df, annot=True, cbar=None, cmap=\"Blues\", fmt=\"d\", annot_kws={\"size\":18})\n",
        "        plt.title(f\"{' '.join(file.stem.split('_')[1:])}\")\n",
        "        plt.tight_layout()\n",
        "        plt.ylabel(\"True translator\")\n",
        "        plt.xlabel(\"Predicted translator\")\n",
        "        plt.savefig(CONF_MAT_FOLDER/f\"cm_{file.stem}.png\", bbox_inches=\"tight\", )\n",
        "        plt.clf()\n",
        "        "
      ]
    },
    {
      "cell_type": "markdown",
      "metadata": {},
      "source": [
        "# Most important"
      ]
    },
    {
      "cell_type": "code",
      "metadata": {
        "id": "NgILCXSfRCrk",
        "colab_type": "code",
        "colab": {}
      },
      "source": [
        "from helper.utils import return_n_most_important\n",
        "\n",
        "sns.set_style(\"whitegrid\")\n",
        "\n",
        "def plot_most_relevant(\n",
        "    *, data: pd.DataFrame, translator: str, model: str, file: Path\n",
        ") -> None:\n",
        "    plot = sns.barplot(\n",
        "        x=data[translator][\"Weight\"], y=data[translator][\"Feature\"], palette=\"cividis\",\n",
        "    )\n",
        "    features = \" \".join(file.stem.split(\"_\")[1:])\n",
        "    plot.set(title=f\"{translator} - {model} - {features}\")\n",
        "    fig = plot.get_figure()\n",
        "    fig.savefig(\n",
        "        MOST_RELEVANT_FOLDER / f\"{file.stem}_{translator}_{model}.png\", bbox_inches=\"tight\",\n",
        "    )\n",
        "    fig.clf()\n",
        "\n",
        "def save_tables(*, df:pd.DataFrame, translator:str, file:Path, model_name:str)-> None:\n",
        "    df.to_csv(TABLES_FOLDER / f\"{file.stem}_{translator}_{model_name}.csv\", float_format='%.4f')\n",
        "\n",
        "    latex = df.to_latex(float_format=lambda x: '%.4f' % x)\n",
        "    with open(TABLES_FOLDER /f\"{file.stem}_{translator}_{model_name}.tex\", \"w\") as f:\n",
        "        f.write(latex)\n",
        "    \n",
        "    html = df.to_html(float_format='%.4f')\n",
        "    with open(TABLES_FOLDER /f\"{file.stem}_{translator}_{model_name}.html\", \"w\") as f:\n",
        "        f.write(html)"
      ],
      "execution_count": 6,
      "outputs": []
    },
    {
      "cell_type": "code",
      "execution_count": 7,
      "metadata": {},
      "outputs": [
        {
          "output_type": "display_data",
          "data": {
            "text/plain": "<Figure size 432x288 with 0 Axes>"
          },
          "metadata": {}
        }
      ],
      "source": [
        "model_names = [\"LogisticRegression\", \"SVM\", \"Naïve Bayes\"]\n",
        "for model_name in model_names:\n",
        "    for author in [\"Ibsen\", \"Quixote\"]:\n",
        "        for file in [file for file in features_files if author in file.name]:\n",
        "            X_dict, y_str = get_dataset_from_json(file)\n",
        "            \n",
        "            v = DictVectorizer(sparse=True)\n",
        "            encoder = LabelEncoder()         \n",
        "            \n",
        "            X, y = v.fit_transform(X_dict), encoder.fit_transform(y_str)\n",
        "                    \n",
        "            X_, y_ = shuffle(X, y, random_state=24)\n",
        "\n",
        "            if model_name == \"LogisticRegression\":\n",
        "                model = LogisticRegression()\n",
        "            elif model_name == \"SVM\":\n",
        "                model = LinearSVC()\n",
        "            elif model_name == \"Naïve Bayes\":\n",
        "                model = MultinomialNB()\n",
        "            else:\n",
        "                raise NotImplementedError\n",
        "\n",
        "            clf = model.fit(X_, y_)\n",
        "\n",
        "            most_relevant = return_n_most_important(clf=clf, v=v, encoder=encoder, n=15)\n",
        "\n",
        "            for translator in encoder.classes_:\n",
        "                plot_most_relevant(data=most_relevant, translator=translator, model=model_name, file=file)\n",
        "                df = most_relevant[translator]\n",
        "                save_tables(df=df, translator=translator, file=file, model_name=model_name)\n",
        "            "
      ]
    }
  ],
  "metadata": {
    "kernelspec": {
      "display_name": "Python 3.6.7 64-bit ('spacy': conda)",
      "language": "python",
      "name": "python36764bitspacyconda81cbf537626c4c91a9ad866d10139160"
    },
    "language_info": {
      "codemirror_mode": {
        "name": "ipython",
        "version": 3
      },
      "file_extension": ".py",
      "mimetype": "text/x-python",
      "name": "python",
      "nbconvert_exporter": "python",
      "pygments_lexer": "ipython3",
      "version": "3.6.7-final"
    },
    "colab": {
      "name": "03Most_important.ipynb",
      "provenance": [],
      "include_colab_link": true
    }
  },
  "nbformat": 4,
  "nbformat_minor": 0
}