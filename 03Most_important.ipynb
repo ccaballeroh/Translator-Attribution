{
  "cells": [
    {
      "cell_type": "markdown",
      "metadata": {
        "id": "view-in-github",
        "colab_type": "text"
      },
      "source": [
        "<a href=\"https://colab.research.google.com/github/ccaballeroh/Translator-Attribution/blob/master/03Most_important.ipynb\" target=\"_parent\"><img src=\"https://colab.research.google.com/assets/colab-badge.svg\" alt=\"Open In Colab\"/></a>"
      ]
    },
    {
      "cell_type": "code",
      "metadata": {
        "id": "-jZ3uI9mRKh2",
        "colab_type": "code",
        "colab": {}
      },
      "source": [
        "from pathlib import Path\n",
        "import sys\n",
        "\n",
        "IN_COLAB = \"google.colab\" in sys.modules"
      ],
      "execution_count": 1,
      "outputs": []
    },
    {
      "cell_type": "code",
      "metadata": {
        "id": "1HK4MsUARPCG",
        "colab_type": "code",
        "colab": {}
      },
      "source": [
        "if IN_COLAB:\n",
        "    from google.colab import drive\n",
        "    drive.mount('/content/drive/')\n",
        "    ROOT = Path(r\"./drive/My Drive/Translator-Attribution\")\n",
        "    sys.path.insert(0,f\"{ROOT}/\")\n",
        "    import warnings\n",
        "    warnings.filterwarnings(\"ignore\")\n",
        "else:\n",
        "    from helper.analysis import ROOT"
      ],
      "execution_count": 2,
      "outputs": []
    },
    {
      "cell_type": "code",
      "metadata": {
        "id": "COM-qODNRCqx",
        "colab_type": "code",
        "colab": {}
      },
      "source": [
        "from collections import defaultdict\n",
        "from helper.analysis import get_dataset_from_json\n",
        "from helper.analysis import JSON_FOLDER\n",
        "from pathlib import Path\n",
        "from sklearn.feature_extraction import DictVectorizer\n",
        "from sklearn.linear_model import LogisticRegression\n",
        "from sklearn.metrics import accuracy_score, confusion_matrix\n",
        "from sklearn.model_selection import cross_val_score\n",
        "from sklearn.model_selection import cross_val_predict\n",
        "from sklearn.preprocessing import LabelEncoder\n",
        "from sklearn.preprocessing import normalize\n",
        "from sklearn.utils import shuffle\n",
        "from sklearn.utils.multiclass import unique_labels\n",
        "from typing import Dict\n",
        "import matplotlib.pyplot as plt\n",
        "import numpy as np\n",
        "import pandas as pd\n",
        "import seaborn as sns\n",
        "\n",
        "sns.set(font_scale=1.4)"
      ],
      "execution_count": 18,
      "outputs": []
    },
    {
      "cell_type": "code",
      "metadata": {
        "id": "tiD6g0VFRCq3",
        "colab_type": "code",
        "colab": {}
      },
      "source": [
        "RESULTS_FOLDER = Path(r\"./results/\")\n",
        "if not RESULTS_FOLDER.exists():\n",
        "    RESULTS_FOLDER.mkdir()\n",
        "\n",
        "FIGS_FOLDER = RESULTS_FOLDER / \"figs\"\n",
        "if not FIGS_FOLDER.exists():\n",
        "    FIGS_FOLDER.mkdir()\n",
        "\n",
        "\n",
        "features_files = [file for file in JSON_FOLDER.iterdir() if file.name.startswith(\"features\")]"
      ],
      "execution_count": 26,
      "outputs": []
    },
    {
      "cell_type": "code",
      "execution_count": 25,
      "metadata": {},
      "outputs": [
        {
          "output_type": "stream",
          "name": "stdout",
          "text": "Ibsen syntactic n2\tCross-validation mean accuracy: 98.71%\twith a standard deviation: 1.97%\nIbsen syntactic n3\tCross-validation mean accuracy: 98.71%\twith a standard deviation: 1.97%\n"
        },
        {
          "output_type": "display_data",
          "data": {
            "text/plain": "<Figure size 432x288 with 0 Axes>"
          },
          "metadata": {}
        }
      ],
      "source": [
        "for author in [\"Ibsen\", \"Quixote\"]:\n",
        "    for file in [file for file in features_files if author in file.name]:\n",
        "        X_dict, y_str = get_dataset_from_json(file)\n",
        "        v = DictVectorizer(sparse=True)\n",
        "        encoder = LabelEncoder()\n",
        "        \n",
        "        X, y = v.fit_transform(X_dict), encoder.fit_transform(y_str)\n",
        "        \n",
        "        X_, y_ = shuffle(X, y, random_state=24)\n",
        "\n",
        "        #log_model = LogisticRegression()\n",
        "        #cv = cross_val_score(log_model, X_, y_, cv=10)\n",
        "        \n",
        "        print(\n",
        "            f\"{author} {' '.join(file.stem.split('_')[1:])}\\t\"\n",
        "            f\"Cross-validation mean accuracy: {cv.mean():.2%}\\t\" \n",
        "            f\"with a standard deviation: {cv.std():.2%}\"\n",
        "            )\n",
        "        \n",
        "        log_model = LogisticRegression()\n",
        "        y_pred = cross_val_predict(log_model, X_, y_, cv=10)\n",
        "        cm = confusion_matrix(y_, y_pred, labels=unique_labels(y_))\n",
        "\n",
        "        df = pd.DataFrame(cm, index=encoder.classes_, columns=encoder.classes_)\n",
        "\n",
        "        cm_plot = sns.heatmap(df, annot=True, cbar=None, cmap=\"Blues\", fmt=\"d\", annot_kws={\"size\":18})\n",
        "        plt.title(f\"{' '.join(file.stem.split('_')[1:])}\")\n",
        "        plt.tight_layout()\n",
        "        plt.ylabel(\"True translator\")\n",
        "        plt.xlabel(\"Predicted translator\")\n",
        "        plt.savefig(FIGS_FOLDER/f\"cm_{file.stem}.png\", bbox_inches=\"tight\", )\n",
        "        plt.clf()\n",
        "        "
      ]
    },
    {
      "cell_type": "code",
      "metadata": {
        "id": "fPwOuu0GRCrg",
        "colab_type": "code",
        "colab": {}
      },
      "source": [
        "clf = log_model.fit(X_, y_)"
      ],
      "execution_count": 6,
      "outputs": []
    },
    {
      "cell_type": "code",
      "metadata": {
        "id": "NgILCXSfRCrk",
        "colab_type": "code",
        "colab": {}
      },
      "source": [
        "from helper.utils import return_n_most_important"
      ],
      "execution_count": 7,
      "outputs": []
    },
    {
      "cell_type": "code",
      "metadata": {
        "id": "bnf1fNk4RCro",
        "colab_type": "code",
        "colab": {}
      },
      "source": [
        "n = 30\n",
        "most_relevant = return_n_most_important(clf=clf, v=v, encoder=encoder, n=n)"
      ],
      "execution_count": 8,
      "outputs": []
    },
    {
      "cell_type": "code",
      "metadata": {
        "id": "RHEQkUH6RCrr",
        "colab_type": "code",
        "colab": {}
      },
      "source": [
        "for label in unique_labels(y_str):\n",
        "    print(f\"The {n} most relevant {' '.join(file.stem.split('_')[1:])} features for {label} are:\\n\\n {'|'.join(most_relevant[label])}\\n\\n\")"
      ],
      "execution_count": 9,
      "outputs": [
        {
          "output_type": "stream",
          "name": "stdout",
          "text": "The 30 most relevant 2grams features for Jarvis are:\n\n answered sancho|the priest|answered don|in short|answered the|signor don|your worship|you are|a mind|de la|do not|quixote de|so much|upon the|of your|by the|mind to|sancho panza|to be|i will|that of|of my|sancho answered|you have|i am|an account|and therefore|priest and|and though|those who\n\n\nThe 30 most relevant 2grams features for Ormsby are:\n\n said sancho|on the|do n't|said don|of la|at once|will be|the curate|said the|your worship|quixote of|to him|senor don|has been|no doubt|it was|such a|to say|as he|i 'm|did not|there was|and as|that is|to me|have been|as the|thou art|wo n't|as a\n\n\nThe 30 most relevant 2grams features for Shelton are:\n\n quoth don|quoth the|that he|quoth sancho|that i|he that|that which|he hath|unto him|hath been|of them|and that|and therefore|sancho quoth|waiting women|those that|that thou|that hath|that you|as he|which i|i 'll|it were|that they|thou shalt|i would|of all|he might|signior don|so that\n\n\n"
        }
      ]
    }
  ],
  "metadata": {
    "kernelspec": {
      "display_name": "Python 3.6.7 64-bit ('spacy': conda)",
      "language": "python",
      "name": "python36764bitspacyconda81cbf537626c4c91a9ad866d10139160"
    },
    "language_info": {
      "codemirror_mode": {
        "name": "ipython",
        "version": 3
      },
      "file_extension": ".py",
      "mimetype": "text/x-python",
      "name": "python",
      "nbconvert_exporter": "python",
      "pygments_lexer": "ipython3",
      "version": "3.6.7-final"
    },
    "colab": {
      "name": "03Most_important.ipynb",
      "provenance": [],
      "include_colab_link": true
    }
  },
  "nbformat": 4,
  "nbformat_minor": 0
}