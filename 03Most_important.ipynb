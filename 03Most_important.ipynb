{
  "nbformat": 4,
  "nbformat_minor": 0,
  "metadata": {
    "kernelspec": {
      "display_name": "Python 3.6.7 64-bit ('spacy': conda)",
      "language": "python",
      "name": "python36764bitspacyconda81cbf537626c4c91a9ad866d10139160"
    },
    "language_info": {
      "codemirror_mode": {
        "name": "ipython",
        "version": 3
      },
      "file_extension": ".py",
      "mimetype": "text/x-python",
      "name": "python",
      "nbconvert_exporter": "python",
      "pygments_lexer": "ipython3",
      "version": "3.6.7-final"
    },
    "colab": {
      "name": "03Most_important.ipynb",
      "provenance": [],
      "include_colab_link": true
    }
  },
  "cells": [
    {
      "cell_type": "markdown",
      "metadata": {
        "id": "view-in-github",
        "colab_type": "text"
      },
      "source": [
        "<a href=\"https://colab.research.google.com/github/ccaballeroh/Translator-Attribution/blob/master/03Most_important.ipynb\" target=\"_parent\"><img src=\"https://colab.research.google.com/assets/colab-badge.svg\" alt=\"Open In Colab\"/></a>"
      ]
    },
    {
      "cell_type": "code",
      "metadata": {
        "id": "-jZ3uI9mRKh2",
        "colab_type": "code",
        "colab": {}
      },
      "source": [
        "from pathlib import Path\n",
        "import sys\n",
        "\n",
        "IN_COLAB = \"google.colab\" in sys.modules"
      ],
      "execution_count": 0,
      "outputs": []
    },
    {
      "cell_type": "code",
      "metadata": {
        "id": "1HK4MsUARPCG",
        "colab_type": "code",
        "colab": {}
      },
      "source": [
        "if IN_COLAB:\n",
        "    from google.colab import drive\n",
        "    drive.mount('/content/drive/')\n",
        "    ROOT = Path(r\"./drive/My Drive/Translator-Attribution\")\n",
        "    sys.path.insert(0,f\"{ROOT}/\")\n",
        "    import warnings\n",
        "    warnings.filterwarnings(\"ignore\")\n",
        "else:\n",
        "    from helper.analysis import ROOT"
      ],
      "execution_count": 0,
      "outputs": []
    },
    {
      "cell_type": "code",
      "metadata": {
        "id": "COM-qODNRCqx",
        "colab_type": "code",
        "colab": {}
      },
      "source": [
        "from collections import defaultdict\n",
        "from helper.analysis import get_dataset_from_json\n",
        "from helper.analysis import JSON_FOLDER\n",
        "from sklearn.feature_extraction import DictVectorizer\n",
        "from sklearn.linear_model import LogisticRegression\n",
        "from sklearn.metrics import accuracy_score, confusion_matrix\n",
        "from sklearn.model_selection import cross_val_score\n",
        "from sklearn.model_selection import cross_val_predict\n",
        "from sklearn.preprocessing import LabelEncoder\n",
        "from sklearn.preprocessing import normalize\n",
        "from sklearn.utils import shuffle\n",
        "from sklearn.utils.multiclass import unique_labels\n",
        "from typing import Dict\n",
        "import numpy as np"
      ],
      "execution_count": 0,
      "outputs": []
    },
    {
      "cell_type": "code",
      "metadata": {
        "id": "tiD6g0VFRCq3",
        "colab_type": "code",
        "colab": {}
      },
      "source": [
        "features_files = [file for file in JSON_FOLDER.iterdir() if file.name.startswith(\"features\")]"
      ],
      "execution_count": 0,
      "outputs": []
    },
    {
      "cell_type": "code",
      "metadata": {
        "id": "0dQWObXURCq7",
        "colab_type": "code",
        "colab": {}
      },
      "source": [
        "filtered_files = [file for file in features_files if \"Quixote\" in file.name and \"cohesive\" in file.name and \"punct\" in file.name]"
      ],
      "execution_count": 0,
      "outputs": []
    },
    {
      "cell_type": "code",
      "metadata": {
        "id": "1gDo89QkRCq_",
        "colab_type": "code",
        "colab": {}
      },
      "source": [
        "filtered_files"
      ],
      "execution_count": 0,
      "outputs": []
    },
    {
      "cell_type": "code",
      "metadata": {
        "id": "RRaHuwxFRCrF",
        "colab_type": "code",
        "colab": {}
      },
      "source": [
        "file = filtered_files[0]"
      ],
      "execution_count": 0,
      "outputs": []
    },
    {
      "cell_type": "code",
      "metadata": {
        "id": "Edz_znFxRCrI",
        "colab_type": "code",
        "colab": {}
      },
      "source": [
        "X_dict, y_str = get_dataset_from_json(file)"
      ],
      "execution_count": 0,
      "outputs": []
    },
    {
      "cell_type": "code",
      "metadata": {
        "id": "JhhTwiJVRCrM",
        "colab_type": "code",
        "colab": {}
      },
      "source": [
        "v = DictVectorizer(sparse=True)\n",
        "encoder = LabelEncoder()"
      ],
      "execution_count": 0,
      "outputs": []
    },
    {
      "cell_type": "code",
      "metadata": {
        "id": "AoDb2domRCrR",
        "colab_type": "code",
        "colab": {}
      },
      "source": [
        "X, y = v.fit_transform(X_dict), encoder.fit_transform(y_str)"
      ],
      "execution_count": 0,
      "outputs": []
    },
    {
      "cell_type": "code",
      "metadata": {
        "id": "i00M3h5JRCrU",
        "colab_type": "code",
        "colab": {}
      },
      "source": [
        "X_, y_ = shuffle(X, y, random_state=24)\n",
        "\n",
        "dimension = X.shape[1]\n",
        "m, n = X.shape"
      ],
      "execution_count": 0,
      "outputs": []
    },
    {
      "cell_type": "code",
      "metadata": {
        "id": "xYDMRHqWRCrY",
        "colab_type": "code",
        "colab": {}
      },
      "source": [
        "log_model = LogisticRegression()\n",
        "cv = cross_val_score(log_model, X_, y_, cv=10)\n",
        "print(f\"Cross-validation mean accuracy: {cv.mean():.2%} with a standard deviation: {cv.std():.2%}\")"
      ],
      "execution_count": 0,
      "outputs": []
    },
    {
      "cell_type": "code",
      "metadata": {
        "id": "ZbCixuRDRCrc",
        "colab_type": "code",
        "colab": {}
      },
      "source": [
        "log_model = LogisticRegression()\n",
        "y_pred = cross_val_predict(log_model, X_, y_, cv=10)\n",
        "print(accuracy_score(y_, y_pred, normalize=True))\n",
        "cm = confusion_matrix(y_, y_pred, labels=unique_labels(y_))"
      ],
      "execution_count": 0,
      "outputs": []
    },
    {
      "cell_type": "code",
      "metadata": {
        "id": "vP4tKQzEUVaO",
        "colab_type": "code",
        "colab": {}
      },
      "source": [
        "import matplotlib.pyplot as plt\n",
        "import itertools\n",
        "def plot_confusion_matrix(cm, classes,\n",
        "                          normalize=False,\n",
        "                          title='Confusion matrix',\n",
        "                          cmap=plt.cm.Blues):\n",
        "    \"\"\"\n",
        "    This function prints and plots the confusion matrix.\n",
        "    Normalization can be applied by setting `normalize=True`.\n",
        "    \"\"\"\n",
        "    plt.imshow(cm, interpolation='nearest', cmap=cmap)\n",
        "    plt.title(title)\n",
        "    plt.colorbar()\n",
        "    tick_marks = np.arange(len(classes))\n",
        "    plt.xticks(tick_marks, classes, rotation=45)\n",
        "    plt.yticks(tick_marks, classes)\n",
        "\n",
        "    if normalize:\n",
        "        cm = cm.astype('float') / cm.sum(axis=1)[:, np.newaxis]\n",
        "        print(\"Normalized confusion matrix\")\n",
        "    else:\n",
        "        print('Confusion matrix, without normalization')\n",
        "\n",
        "    print(cm)\n",
        "\n",
        "    thresh = cm.max() / 2.\n",
        "    for i, j in itertools.product(range(cm.shape[0]), range(cm.shape[1])):\n",
        "        plt.text(j, i, cm[i, j],\n",
        "                 horizontalalignment=\"center\",\n",
        "                 color=\"white\" if cm[i, j] > thresh else \"black\")\n",
        "\n",
        "    plt.tight_layout()\n",
        "    plt.ylabel('True label')\n",
        "    plt.xlabel('Predicted label')\n",
        "\n",
        "plot_confusion_matrix(cm, encoder.classes_)"
      ],
      "execution_count": 0,
      "outputs": []
    },
    {
      "cell_type": "code",
      "metadata": {
        "id": "fPwOuu0GRCrg",
        "colab_type": "code",
        "colab": {}
      },
      "source": [
        "clf = log_model.fit(X_, y_)"
      ],
      "execution_count": 0,
      "outputs": []
    },
    {
      "cell_type": "code",
      "metadata": {
        "id": "NgILCXSfRCrk",
        "colab_type": "code",
        "colab": {}
      },
      "source": [
        "from helper.utils import return_n_most_important"
      ],
      "execution_count": 0,
      "outputs": []
    },
    {
      "cell_type": "code",
      "metadata": {
        "id": "bnf1fNk4RCro",
        "colab_type": "code",
        "colab": {}
      },
      "source": [
        "n = 30\n",
        "most_relevant = return_n_most_important(clf=clf, v=v, encoder=encoder, n=n)"
      ],
      "execution_count": 0,
      "outputs": []
    },
    {
      "cell_type": "code",
      "metadata": {
        "id": "RHEQkUH6RCrr",
        "colab_type": "code",
        "colab": {}
      },
      "source": [
        "for label in unique_labels(y_str):\n",
        "    print(f\"The {n} most relevant {' '.join(file.stem.split('_')[1:])} features for {label} are:\\n\\n {'|'.join(most_relevant[label])}\\n\\n\")"
      ],
      "execution_count": 0,
      "outputs": []
    }
  ]
}