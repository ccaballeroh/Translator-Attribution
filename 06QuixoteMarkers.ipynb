{
 "cells": [
  {
   "cell_type": "markdown",
   "metadata": {},
   "source": [
    "# Discourse cohesive markers"
   ]
  },
  {
   "cell_type": "markdown",
   "metadata": {},
   "source": [
    "This notebook extracts cohesive markers characteristics from the entire Quixote corpus. There are two ways: one taking only the markers specified in `markersList.json` (taken from [this page](http://home.ku.edu.tr/~doregan/Writing/Cohesion.html)), and taking the punctuation marks (if there are any) surrounding them.\n",
    "\n",
    "In order to extract these markers, we'll use the PhraseMatcher class from spaCy. That's why we need to process the text, although only using the tokenizer."
   ]
  },
  {
   "cell_type": "code",
   "execution_count": 1,
   "metadata": {},
   "outputs": [],
   "source": [
    "import os\n",
    "import spacy\n",
    "from spacy.lang.en import English  # English tokenizer"
   ]
  },
  {
   "cell_type": "code",
   "execution_count": 2,
   "metadata": {},
   "outputs": [],
   "source": [
    "from helper.functions import proc_texts, get_translator, marker_matcher, save_dataset_to_json\n",
    "from helper.features import extract_features_cohesive"
   ]
  },
  {
   "cell_type": "code",
   "execution_count": 3,
   "metadata": {},
   "outputs": [],
   "source": [
    "nlp = English()  # Pipe with only tokenizer"
   ]
  },
  {
   "cell_type": "code",
   "execution_count": 4,
   "metadata": {},
   "outputs": [],
   "source": [
    "matcher = marker_matcher(nlp, \"markersList.json\")  # PhraseMatcher for cohesive markers in file"
   ]
  },
  {
   "cell_type": "code",
   "execution_count": 5,
   "metadata": {},
   "outputs": [],
   "source": [
    "CORPUS_FOLDER = \".\\\\Corpora\\\\Proc_Quixote\\\\\"\n",
    "file_list = os.listdir(CORPUS_FOLDER)"
   ]
  },
  {
   "cell_type": "code",
   "execution_count": 6,
   "metadata": {},
   "outputs": [],
   "source": [
    "docs = [(proc_texts(CORPUS_FOLDER, file, nlp, debug=True), get_translator(file)) for file in file_list]"
   ]
  },
  {
   "cell_type": "code",
   "execution_count": 7,
   "metadata": {},
   "outputs": [],
   "source": [
    "featureset_cohesive = [(extract_features_cohesive(doc, matcher), translator) for doc, translator in docs]\n",
    "featureset_cohesive_extended = [(extract_features_cohesive(doc, matcher, extended=True), translator) for doc, translator in docs]"
   ]
  },
  {
   "cell_type": "code",
   "execution_count": 8,
   "metadata": {},
   "outputs": [
    {
     "name": "stdout",
     "output_type": "stream",
     "text": [
      "file saved\n",
      "file saved\n"
     ]
    }
   ],
   "source": [
    "save_dataset_to_json(featureset_cohesive, \"featuresQuixote_cohesive\")\n",
    "save_dataset_to_json(featureset_cohesive_extended, \"featuresQuixote_cohesive_punctuation\")"
   ]
  },
  {
   "cell_type": "markdown",
   "metadata": {},
   "source": [
    "# Ibsen"
   ]
  },
  {
   "cell_type": "code",
   "execution_count": null,
   "metadata": {},
   "outputs": [],
   "source": [
    "CORPUS_FOLDER = \".\\\\Corpora\\\\Proc_Ibsen\\\\\"\n",
    "file_list = os.listdir(CORPUS_FOLDER)\n",
    "\n",
    "docs = [(proc_texts(CORPUS_FOLDER, file, nlp, debug=True), get_translator(file)) for file in file_list]"
   ]
  },
  {
   "cell_type": "code",
   "execution_count": null,
   "metadata": {},
   "outputs": [],
   "source": [
    "featureset_cohesive = [(extract_features_cohesive(doc, matcher), translator) for doc, translator in docs]\n",
    "\n",
    "featureset_cohesive_extended = [(extract_features_cohesive(doc, matcher, extended=True), translator)\n",
    "                                for doc, translator in docs]"
   ]
  },
  {
   "cell_type": "code",
   "execution_count": null,
   "metadata": {},
   "outputs": [],
   "source": [
    "from helper.functions import save_dataset_to_json\n",
    "\n",
    "save_dataset_to_json(featureset_cohesive, \"featuresIbsen_cohesive\")\n",
    "save_dataset_to_json(featureset_cohesive_extended, \"featuresIbsen_cohesive_punctuation\")"
   ]
  },
  {
   "cell_type": "code",
   "execution_count": null,
   "metadata": {},
   "outputs": [],
   "source": []
  }
 ],
 "metadata": {
  "kernelspec": {
   "display_name": "Python [conda env:spacy]",
   "language": "python",
   "name": "conda-env-spacy-py"
  },
  "language_info": {
   "codemirror_mode": {
    "name": "ipython",
    "version": 3
   },
   "file_extension": ".py",
   "mimetype": "text/x-python",
   "name": "python",
   "nbconvert_exporter": "python",
   "pygments_lexer": "ipython3",
   "version": "3.6.7"
  }
 },
 "nbformat": 4,
 "nbformat_minor": 4
}
