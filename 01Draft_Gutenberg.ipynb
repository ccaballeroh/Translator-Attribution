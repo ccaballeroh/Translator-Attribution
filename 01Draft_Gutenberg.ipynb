{
 "cells": [
  {
   "cell_type": "markdown",
   "metadata": {},
   "source": [
    "# Corpus preprocessing"
   ]
  },
  {
   "cell_type": "markdown",
   "metadata": {},
   "source": [
    "The corpus files are located in the *Raw_Corpus* folder. Those were downloaded from the Project Gutenberg webpage."
   ]
  },
  {
   "cell_type": "code",
   "execution_count": 1,
   "metadata": {},
   "outputs": [],
   "source": [
    "import os\n",
    "import nltk\n",
    "from nltk import tokenize\n",
    "\n",
    "raw_corpus_folder = \".\\\\Corpora\\\\Raw_Ibsen\\\\\"\n",
    "proc_corpus_folder = \".\\\\Corpora\\\\Proc_Ibsen\\\\\"\n",
    "\n",
    "files_list = os.listdir(raw_corpus_folder)"
   ]
  },
  {
   "cell_type": "code",
   "execution_count": 2,
   "metadata": {},
   "outputs": [],
   "source": [
    "def remove_front_back_matter(input_folder, filename, output_folder):\n",
    "    \"\"\"Remove legal information from Project Gutenberg files.\n",
    "    \n",
    "    Reads the file with 'filename' in the 'input_folder' folder and\n",
    "    outputs the same file with the \"proc\" word appended at the end\n",
    "    of the filename in the 'output_folder', but without the lines at\n",
    "    the beginning and at the end of the original file containing\n",
    "    legal information from Project Gutenberg.\n",
    "    \n",
    "    :input_folder 'String' - name of the input folder\n",
    "    :filename     'String' - name of the file to process\n",
    "    :out_folder   'String' - name of the outout folder\n",
    "    \n",
    "    It returns None\n",
    "    \"\"\"\n",
    "    \n",
    "    lines = []\n",
    "    write = False\n",
    "    with open(input_folder + filename, \"r\", encoding=\"UTF-8\") as f:\n",
    "        for line in f:\n",
    "            if line.strip().startswith(\"*** START OF\"):\n",
    "                write = True\n",
    "            elif line.strip().startswith(\"*** END OF\"):\n",
    "                write = False\n",
    "                break\n",
    "            else:\n",
    "                if write:\n",
    "                    lines.append(line)\n",
    "                else:\n",
    "                    pass\n",
    "                \n",
    "    with open(\"\".join([output_folder, filename[:-4], \"_proc.txt\"]), \"a\", encoding=\"UTF-8\") as g:\n",
    "        for line in lines:\n",
    "            g.write(line)\n",
    "    return None"
   ]
  },
  {
   "cell_type": "markdown",
   "metadata": {},
   "source": [
    "We remove the front and back matter for each file in the *Raw_Corpus* folder. We place the outputs on the *proc_corpus_folder*."
   ]
  },
  {
   "cell_type": "code",
   "execution_count": 3,
   "metadata": {},
   "outputs": [],
   "source": [
    "for file in files_list:\n",
    "    remove_front_back_matter(raw_corpus_folder, file, proc_corpus_folder)"
   ]
  },
  {
   "cell_type": "code",
   "execution_count": 4,
   "metadata": {},
   "outputs": [],
   "source": [
    "def chunks(input_folder, filename, CHUNK_SIZE=5000):\n",
    "    \"\"\"Generator that yields the following chunk of the file.\n",
    "    \n",
    "    The output is a string with the following chunk size\n",
    "    CHUNK_SIZE of the file 'filename' in the folder 'input folder'.\n",
    "    \n",
    "    :input_folder  'String' - name of input folder\n",
    "    :filename      'String' - name of file to process\n",
    "    :CHUNK_SIZE    'Integer' - size of chunk\n",
    "    \n",
    "    yields a 'String' of size of 'CHUNK_SIZE'\n",
    "    \"\"\"\n",
    "    SIZE = os.stat(input_folder + filename).st_size  # filesize\n",
    "    with open(input_folder + filename, \"r\", encoding=\"UTF-8\") as f:\n",
    "        for _ in range(SIZE//CHUNK_SIZE):\n",
    "            # reads the lines that amount to the Chunksize\n",
    "            # and yields a string \n",
    "            yield \"\".join(f.readlines(CHUNK_SIZE))"
   ]
  },
  {
   "cell_type": "code",
   "execution_count": 5,
   "metadata": {},
   "outputs": [],
   "source": [
    "def remover_signos(strTexto):\n",
    "    \"\"\"Retira signos no alfanuméricos y números de un texto.\n",
    "\n",
    "    Los reemplaza con un espacio y regresa una lista con cada palabra.\n",
    "\n",
    "    Parámetros\n",
    "    --------------\n",
    "    strTexto : cadena\n",
    "                Texto donde reemplazar los caracteres no alfanuméricos.\n",
    "\n",
    "    Regresa\n",
    "    --------------\n",
    "    lstTokens : lista\n",
    "                cada elemento es una palabra del texto.\n",
    "    \"\"\"\n",
    "    import re\n",
    "    # patrón de uno o más caracteres no alfanuméricos o números\n",
    "    reNoAlfanum = re.compile(r\"([^\\w]+|[\\d]+)\")\n",
    "    # sustitución por un espacio\n",
    "    strTextoNuevo = reNoAlfanum.sub(r\" \", strTexto)\n",
    "    # división del texto por espacio en blanco\n",
    "    lstTokens = strTextoNuevo.split()\n",
    "    return lstTokens\n",
    "\n",
    "def calcula_ngramas(lstTokens, n):\n",
    "    \"\"\"Calcula n-gramas de una lista de tokens.\n",
    "\n",
    "    Regresa una lista con los n-gramas.\n",
    "\n",
    "    Parámetros\n",
    "    -------------\n",
    "    lstTokens : lista\n",
    "                Cada elemento de es un token.\n",
    "    n : entero\n",
    "        tamaño del n-grama\n",
    "\n",
    "    Regresa\n",
    "    -------------\n",
    "    ngramas : lista\n",
    "              Cada elemento es un n-grama.\"\"\"\n",
    "    ngramas = []\n",
    "    for i in range(len(lstTokens)+1-n):\n",
    "        ngrama = []\n",
    "        for j in range(i, i+n):\n",
    "            ngrama.append(lstTokens[j])\n",
    "        ngramas.append(\" \".join(ngrama))\n",
    "    return ngramas\n",
    "\n",
    "def frecuencias_ngramas(strTexto, n, tokenizer=remover_signos):\n",
    "    \"\"\"Número de ocurrencias de cada n-grama de un texto.\n",
    "\n",
    "    Retira los signos de puntuación y símbolos. Además no distingue\n",
    "    mayúscula o minúscula.\n",
    "\n",
    "    Parámetros\n",
    "    ------------------\n",
    "    strTexto : cadena\n",
    "                Texto donde hacer el conteo.\n",
    "\n",
    "    n : tamaño del ngrama\n",
    "\n",
    "    Regresa\n",
    "    -----------------\n",
    "    dicFrecuencias : diccionario\n",
    "    las llaves del diccionario son los ngramas, y los valores,\n",
    "    el número de ocurrencias de cada ngrama respectivo.\n",
    "    \"\"\"\n",
    "    dicFrecuencias = {}  # diccionario donde se guardará la salida\n",
    "\n",
    "    lstTokens = tokenizer(strTexto)  # se remueven signos del texto\n",
    "    ngramas = calcula_ngramas(lstTokens, n)  # lista con ngramas\n",
    "\n",
    "    for elemento in ngramas:\n",
    "        # si el ngrama no está en el diccionario ya, se agrega con valor de 1.\n",
    "        # en caso contrario, se le suma un 1 al número de ocurrencias.\n",
    "        if elemento.lower() not in dicFrecuencias:\n",
    "            dicFrecuencias[elemento.lower()] = 1\n",
    "        else:\n",
    "            dicFrecuencias[elemento.lower()] += 1\n",
    "    return dicFrecuencias"
   ]
  },
  {
   "cell_type": "code",
   "execution_count": 6,
   "metadata": {},
   "outputs": [],
   "source": [
    "def extract_features(text, n):\n",
    "    \"\"\"Extract features from a text string.\n",
    "    \n",
    "    :text  'String' - contains the text from where to extract features\n",
    "    \"\"\"\n",
    "    f = frecuencias_ngramas(text, n, tokenizer=tokenize.word_tokenize)\n",
    "    return f"
   ]
  },
  {
   "cell_type": "code",
   "execution_count": 7,
   "metadata": {},
   "outputs": [],
   "source": [
    "def get_translator(filename):\n",
    "    \"\"\"Get name of translator from file name.\n",
    "    \n",
    "    The filename must have the convention: '{Translator}_{Work}[_proc].txt'\n",
    "    \n",
    "    :filename  'String' - Name of file from which to fetch the translator name\n",
    "    \n",
    "    Returns a 'String' with the translator name.\n",
    "    \"\"\"\n",
    "    return filename.split(\"_\")[0]"
   ]
  },
  {
   "cell_type": "code",
   "execution_count": 8,
   "metadata": {},
   "outputs": [],
   "source": [
    "def create_dataset(proc_corpus_folder, word=\"proc\", n=1):\n",
    "    \"\"\"Create dataset from collections of files with a word in common in the name.\n",
    "    \n",
    "    Creates a dataset from the files contained in the folder 'proc_corpus_folder'.\n",
    "    The dataset is a list of tuples, where the first element of the tuple is features\n",
    "    extracted from the text and the second element is the name of the translator.\n",
    "    \n",
    "    :proc_corpus_folder  'String' - folder containing the files to analyze.\n",
    "    :word                'String' - word that the files must have in common\n",
    "                                    \"proc\" is a default common word of all\n",
    "                                    processed text files.\n",
    "    \n",
    "    Returns a list of the form [({features}, translator, ...]\n",
    "    \"\"\"\n",
    "    proc_files_list = os.listdir(proc_corpus_folder)\n",
    "    dataset = []\n",
    "    for file in (filename for filename in proc_files_list if word in filename):\n",
    "        generator = chunks(proc_corpus_folder, file)\n",
    "        dataset.extend([(extract_features(text, n), get_translator(file)) for text in generator])\n",
    "    return dataset"
   ]
  },
  {
   "cell_type": "code",
   "execution_count": 9,
   "metadata": {},
   "outputs": [],
   "source": [
    "dataset = create_dataset(proc_corpus_folder, word=\"proc\", n=1)"
   ]
  },
  {
   "cell_type": "markdown",
   "metadata": {},
   "source": [
    "# Pruebas con características\n",
    "27/11/2019"
   ]
  },
  {
   "cell_type": "code",
   "execution_count": 91,
   "metadata": {},
   "outputs": [],
   "source": [
    "import json\n",
    "import random\n",
    "import nltk"
   ]
  },
  {
   "cell_type": "code",
   "execution_count": 210,
   "metadata": {},
   "outputs": [],
   "source": [
    "random.seed(24)"
   ]
  },
  {
   "cell_type": "code",
   "execution_count": 211,
   "metadata": {},
   "outputs": [],
   "source": [
    "with open(\".\\\\auxfiles\\\\json\\\\featuresQuixote_cohesive_punctuation_tfidf.json\", \"r\") as f:\n",
    "    dataset_json = f.read()"
   ]
  },
  {
   "cell_type": "code",
   "execution_count": 212,
   "metadata": {},
   "outputs": [],
   "source": [
    "dataset = json.loads(dataset_json)"
   ]
  },
  {
   "cell_type": "code",
   "execution_count": 213,
   "metadata": {},
   "outputs": [],
   "source": [
    "random.shuffle(dataset)"
   ]
  },
  {
   "cell_type": "code",
   "execution_count": 214,
   "metadata": {},
   "outputs": [],
   "source": [
    "cut = len(dataset)//2"
   ]
  },
  {
   "cell_type": "code",
   "execution_count": 215,
   "metadata": {},
   "outputs": [],
   "source": [
    "train_set, test_set = dataset[cut:], dataset[:cut]"
   ]
  },
  {
   "cell_type": "code",
   "execution_count": 216,
   "metadata": {},
   "outputs": [
    {
     "data": {
      "text/plain": [
       "189"
      ]
     },
     "execution_count": 216,
     "metadata": {},
     "output_type": "execute_result"
    }
   ],
   "source": [
    "len(train_set)"
   ]
  },
  {
   "cell_type": "code",
   "execution_count": 217,
   "metadata": {},
   "outputs": [
    {
     "data": {
      "text/plain": [
       "1.0"
      ]
     },
     "execution_count": 217,
     "metadata": {},
     "output_type": "execute_result"
    }
   ],
   "source": [
    "classifier = nltk.NaiveBayesClassifier.train(train_set)\n",
    "\n",
    "nltk.classify.accuracy(classifier, test_set)"
   ]
  },
  {
   "cell_type": "code",
   "execution_count": 218,
   "metadata": {},
   "outputs": [
    {
     "name": "stdout",
     "output_type": "stream",
     "text": [
      "Most Informative Features\n",
      "                  , and, = None           Ormsby : Shelto =      5.8 : 1.0\n",
      "                    \"and = None           Shelto : Ormsby =      5.6 : 1.0\n",
      "                   , yet = None           Ormsby : Shelto =      5.4 : 1.0\n",
      "                     but = None           Ormsby : Shelto =      5.1 : 1.0\n",
      "                  ; and, = None           Ormsby : Shelto =      3.9 : 1.0\n",
      "                   . and = None           Ormsby : Shelto =      3.9 : 1.0\n",
      "                     now = None           Jarvis : Ormsby =      3.6 : 1.0\n",
      "                    'and = None           Jarvis : Shelto =      3.6 : 1.0\n",
      "                  before = None           Shelto : Ormsby =      3.3 : 1.0\n",
      "                    \"but = None           Shelto : Ormsby =      3.3 : 1.0\n",
      "                 , since = None           Ormsby : Jarvis =      3.2 : 1.0\n",
      "                    like = None           Jarvis : Ormsby =      2.9 : 1.0\n",
      "                likewise = None           Ormsby : Shelto =      2.8 : 1.0\n",
      "                   ; but = None           Ormsby : Jarvis =      2.8 : 1.0\n",
      "                   \" and = None           Shelto : Ormsby =      2.4 : 1.0\n",
      "              , however, = None           Shelto : Ormsby =      2.3 : 1.0\n",
      "                    'but = None           Ormsby : Shelto =      2.2 : 1.0\n",
      "                    also = None           Ormsby : Shelto =      2.2 : 1.0\n",
      "               therefore = None           Ormsby : Shelto =      2.1 : 1.0\n",
      "                    thus = None           Ormsby : Jarvis =      2.0 : 1.0\n",
      "              , although = None           Jarvis : Shelto =      1.9 : 1.0\n",
      "                  ; but, = None           Ormsby : Jarvis =      1.9 : 1.0\n",
      "                 , then, = None           Jarvis : Ormsby =      1.9 : 1.0\n",
      "                   ' and = None           Jarvis : Shelto =      1.9 : 1.0\n",
      "             . in short, = None           Shelto : Jarvis =      1.9 : 1.0\n",
      "                   up to = None           Shelto : Jarvis =      1.9 : 1.0\n",
      "                     yet = None           Jarvis : Shelto =      1.9 : 1.0\n",
      "                   after = None           Jarvis : Shelto =      1.9 : 1.0\n",
      "                   : but = None           Ormsby : Jarvis =      1.8 : 1.0\n",
      "                  \"there = None           Shelto : Ormsby =      1.8 : 1.0\n",
      "                 , while = None           Shelto : Ormsby =      1.8 : 1.0\n",
      "                  'there = None           Ormsby : Shelto =      1.8 : 1.0\n",
      "                  in all = None           Jarvis : Shelto =      1.8 : 1.0\n",
      "                   there = None           Shelto : Ormsby =      1.7 : 1.0\n",
      "                   . but = None           Shelto : Jarvis =      1.7 : 1.0\n",
      "                   : and = None           Ormsby : Shelto =      1.7 : 1.0\n",
      "                   first = None           Ormsby : Shelto =      1.7 : 1.0\n",
      "                  . and, = None           Ormsby : Shelto =      1.7 : 1.0\n",
      "                    here = None           Jarvis : Shelto =      1.7 : 1.0\n",
      "                   above = None           Shelto : Jarvis =      1.6 : 1.0\n",
      "             immediately = None           Shelto : Jarvis =      1.6 : 1.0\n",
      "                \"that is = None           Shelto : Ormsby =      1.6 : 1.0\n",
      "                  again, = None           Ormsby : Jarvis =      1.6 : 1.0\n",
      "                    near = None           Ormsby : Shelto =      1.6 : 1.0\n",
      "                  rather = None           Jarvis : Shelto =      1.6 : 1.0\n",
      "                    then = None           Jarvis : Shelto =      1.6 : 1.0\n",
      "                     far = None           Shelto : Ormsby =      1.6 : 1.0\n",
      "                   again = None           Ormsby : Shelto =      1.6 : 1.0\n",
      "                   while = None           Shelto : Ormsby =      1.5 : 1.0\n",
      "                   since = None           Ormsby : Jarvis =      1.5 : 1.0\n",
      "              therefore, = None           Ormsby : Shelto =      1.5 : 1.0\n",
      "                  beyond = None           Shelto : Ormsby =      1.4 : 1.0\n",
      "                 that is = None           Jarvis : Ormsby =      1.4 : 1.0\n",
      "                   \"then = None           Shelto : Ormsby =      1.4 : 1.0\n",
      "                   --and = None           Shelto : Ormsby =      1.4 : 1.0\n",
      "                   still = None           Shelto : Jarvis =      1.4 : 1.0\n",
      "                  \" then = None           Shelto : Jarvis =      1.4 : 1.0\n",
      "                    now, = None           Jarvis : Ormsby =      1.4 : 1.0\n",
      "                although = None           Jarvis : Shelto =      1.4 : 1.0\n",
      "                  indeed = None           Shelto : Ormsby =      1.4 : 1.0\n",
      "                  , too, = None           Jarvis : Ormsby =      1.4 : 1.0\n",
      "                  after, = None           Ormsby : Shelto =      1.3 : 1.0\n",
      "                   then, = None           Shelto : Jarvis =      1.3 : 1.0\n",
      "                   . now = None           Ormsby : Jarvis =      1.3 : 1.0\n",
      "              afterwards = None           Shelto : Ormsby =      1.3 : 1.0\n",
      "                   \" but = None           Shelto : Jarvis =      1.3 : 1.0\n",
      "                  there, = None           Jarvis : Ormsby =      1.3 : 1.0\n",
      "                   here, = None           Shelto : Ormsby =      1.3 : 1.0\n",
      "                   , but = None           Ormsby : Jarvis =      1.3 : 1.0\n",
      "                  . then = None           Ormsby : Jarvis =      1.3 : 1.0\n",
      "                   ; yet = None           Ormsby : Shelto =      1.3 : 1.0\n",
      "               certainly = None           Ormsby : Jarvis =      1.3 : 1.0\n",
      "              . finally, = None           Ormsby : Shelto =      1.3 : 1.0\n",
      "              concerning = None           Ormsby : Shelto =      1.3 : 1.0\n",
      "                 . while = None           Shelto : Jarvis =      1.3 : 1.0\n",
      "                    soon = None           Shelto : Jarvis =      1.3 : 1.0\n",
      "                    yet, = None           Jarvis : Shelto =      1.3 : 1.0\n",
      "                 despite = None           Ormsby : Shelto =      1.3 : 1.0\n",
      "                  ' and, = None           Ormsby : Shelto =      1.3 : 1.0\n",
      "              . besides, = None           Ormsby : Jarvis =      1.3 : 1.0\n",
      "            immediately, = None           Shelto : Jarvis =      1.2 : 1.0\n",
      "               , however = None           Shelto : Ormsby =      1.2 : 1.0\n",
      "             , in short, = None           Shelto : Ormsby =      1.2 : 1.0\n",
      "              ; however, = None           Shelto : Ormsby =      1.2 : 1.0\n",
      "                 . there = None           Ormsby : Shelto =      1.2 : 1.0\n",
      "      , notwithstanding, = None           Jarvis : Shelto =      1.2 : 1.0\n",
      "                  so far = None           Shelto : Ormsby =      1.2 : 1.0\n",
      "                   -and- = None           Jarvis : Ormsby =      1.2 : 1.0\n",
      "                  there. = None           Jarvis : Ormsby =      1.2 : 1.0\n",
      "                 , still = None           Shelto : Ormsby =      1.2 : 1.0\n",
      "                in front = None           Shelto : Ormsby =      1.2 : 1.0\n",
      "                  \" here = None           Shelto : Jarvis =      1.2 : 1.0\n",
      "                   'here = None           Ormsby : Shelto =      1.2 : 1.0\n",
      "                  ' then = None           Ormsby : Shelto =      1.2 : 1.0\n",
      "                    too, = None           Shelto : Ormsby =      1.2 : 1.0\n",
      "                    last = None           Jarvis : Shelto =      1.2 : 1.0\n",
      "                    now. = None           Jarvis : Ormsby =      1.2 : 1.0\n",
      "                 , there = None           Ormsby : Jarvis =      1.2 : 1.0\n",
      "        at the same time = None           Shelto : Ormsby =      1.2 : 1.0\n",
      "                 , after = None           Shelto : Jarvis =      1.2 : 1.0\n",
      "      ; on the contrary, = None           Shelto : Ormsby =      1.2 : 1.0\n",
      "                  hence, = None           Ormsby : Jarvis =      1.2 : 1.0\n",
      "                 \" while = None           Shelto : Ormsby =      1.2 : 1.0\n",
      "                 \"before = None           Ormsby : Jarvis =      1.2 : 1.0\n",
      "                  'since = None           Ormsby : Shelto =      1.2 : 1.0\n",
      "                    'now = None           Ormsby : Shelto =      1.2 : 1.0\n",
      "               'although = None           Ormsby : Shelto =      1.2 : 1.0\n",
      "                  . but, = None           Ormsby : Jarvis =      1.2 : 1.0\n",
      "                  while, = None           Ormsby : Shelto =      1.2 : 1.0\n",
      "                   also, = None           Ormsby : Shelto =      1.2 : 1.0\n",
      "               , instead = None           Shelto : Jarvis =      1.2 : 1.0\n",
      "                   . yet = None           Ormsby : Shelto =      1.2 : 1.0\n",
      "               , indeed, = None           Shelto : Jarvis =      1.2 : 1.0\n",
      "                  \" and, = None           Ormsby : Jarvis =      1.2 : 1.0\n",
      "              . however, = None           Shelto : Jarvis =      1.2 : 1.0\n",
      "                  \"since = None           Shelto : Jarvis =      1.2 : 1.0\n",
      "                'that is = None           Ormsby : Shelto =      1.2 : 1.0\n",
      "                  ' here = None           Ormsby : Shelto =      1.2 : 1.0\n",
      "                  behind = None           Ormsby : Jarvis =      1.2 : 1.0\n",
      "                    next = None           Jarvis : Ormsby =      1.2 : 1.0\n",
      "                , before = None           Ormsby : Jarvis =      1.2 : 1.0\n",
      "                 behind, = None           Ormsby : Shelto =      1.2 : 1.0\n",
      "            . as soon as = None           Jarvis : Ormsby =      1.2 : 1.0\n",
      "                 ; there = None           Jarvis : Ormsby =      1.2 : 1.0\n",
      "                   ? and = None           Ormsby : Shelto =      1.2 : 1.0\n",
      "                   hence = None           Ormsby : Shelto =      1.2 : 1.0\n",
      "               as far as = None           Shelto : Ormsby =      1.2 : 1.0\n",
      "                  , like = None           Ormsby : Shelto =      1.2 : 1.0\n",
      "                 ' and ' = None           Jarvis : Ormsby =      1.2 : 1.0\n",
      "                and then = None           Ormsby : Shelto =      1.2 : 1.0\n",
      "               , such as = None           Ormsby : Jarvis =      1.2 : 1.0\n",
      "                 rather, = None           Ormsby : Shelto =      1.1 : 1.0\n",
      "                   'then = None           Ormsby : Shelto =      1.1 : 1.0\n",
      "               likewise, = None           Ormsby : Shelto =      1.1 : 1.0\n",
      "                 finally = None           Jarvis : Shelto =      1.1 : 1.0\n",
      "                 at last = None           Ormsby : Shelto =      1.1 : 1.0\n",
      "             in spite of = None           Shelto : Jarvis =      1.1 : 1.0\n",
      "                , rather = None           Ormsby : Shelto =      1.1 : 1.0\n",
      "                  as for = None           Jarvis : Ormsby =      1.1 : 1.0\n",
      "          \"in that case, = None           Shelto : Ormsby =      1.1 : 1.0\n",
      "                   here; = None           Jarvis : Ormsby =      1.1 : 1.0\n",
      "            , as soon as = None           Ormsby : Jarvis =      1.1 : 1.0\n",
      "               seemingly = None           Ormsby : Jarvis =      1.1 : 1.0\n",
      "                  . thus = None           Ormsby : Jarvis =      1.1 : 1.0\n",
      "               otherwise = None           Ormsby : Shelto =      1.1 : 1.0\n",
      "                   \"now, = None           Shelto : Jarvis =      1.1 : 1.0\n",
      "                  \" thus = None           Shelto : Jarvis =      1.1 : 1.0\n",
      "              , and then = None           Jarvis : Ormsby =      1.1 : 1.0\n",
      "                  'then, = None           Ormsby : Shelto =      1.1 : 1.0\n",
      "                 . after = None           Ormsby : Shelto =      1.1 : 1.0\n",
      "               , besides = None           Ormsby : Jarvis =      1.1 : 1.0\n",
      "                   near, = None           Ormsby : Shelto =      1.1 : 1.0\n",
      "                   , now = None           Ormsby : Jarvis =      1.1 : 1.0\n",
      "                  first, = None           Shelto : Jarvis =      1.1 : 1.0\n",
      "                   like; = None           Shelto : Ormsby =      1.1 : 1.0\n",
      "                 shortly = None           Jarvis : Ormsby =      1.1 : 1.0\n",
      "          ; nevertheless = None           Shelto : Ormsby =      1.1 : 1.0\n",
      "                    and, = None           Shelto : Ormsby =      1.1 : 1.0\n",
      "                    \"now = None           Shelto : Jarvis =      1.1 : 1.0\n",
      "                   -like = None           Ormsby : Shelto =      1.1 : 1.0\n",
      "                   ! and = None           Ormsby : Shelto =      1.1 : 1.0\n",
      "              otherwise, = None           Ormsby : Shelto =      1.1 : 1.0\n",
      "            at that time = None           Ormsby : Shelto =      1.1 : 1.0\n",
      "                   last, = None           Jarvis : Shelto =      1.1 : 1.0\n",
      "                 ; since = None           Ormsby : Jarvis =      1.1 : 1.0\n",
      "              otherwise; = None           Ormsby : Jarvis =      1.1 : 1.0\n",
      "             , moreover, = None           Jarvis : Shelto =      1.1 : 1.0\n",
      "                   \"and, = None           Shelto : Jarvis =      1.1 : 1.0\n",
      "             ; in short, = None           Shelto : Jarvis =      1.1 : 1.0\n",
      "                   \"but, = None           Shelto : Jarvis =      1.1 : 1.0\n",
      "                   ' now = None           Ormsby : Shelto =      1.1 : 1.0\n",
      "                finally, = None           Ormsby : Shelto =      1.1 : 1.0\n",
      "                  ' thus = None           Ormsby : Shelto =      1.1 : 1.0\n",
      "                  . now, = None           Ormsby : Shelto =      1.1 : 1.0\n",
      "                    'yet = None           Ormsby : Shelto =      1.1 : 1.0\n",
      "        . in conclusion, = None           Ormsby : Shelto =      1.1 : 1.0\n",
      "                     too = None           Jarvis : Ormsby =      1.1 : 1.0\n",
      "               , that is = None           Shelto : Ormsby =      1.1 : 1.0\n",
      "                 before. = None           Ormsby : Shelto =      1.1 : 1.0\n",
      "                  again; = None           Ormsby : Shelto =      1.1 : 1.0\n",
      "                   thus, = None           Ormsby : Shelto =      1.1 : 1.0\n",
      "         . nevertheless, = None           Shelto : Ormsby =      1.1 : 1.0\n",
      "                 however = None           Shelto : Ormsby =      1.1 : 1.0\n",
      "                moreover = None           Jarvis : Ormsby =      1.1 : 1.0\n",
      "                 clearly = None           Jarvis : Ormsby =      1.1 : 1.0\n",
      "                  \"here, = None           Shelto : Ormsby =      1.1 : 1.0\n",
      "          different from = None           Jarvis : Ormsby =      1.1 : 1.0\n",
      "                  ; then = None           Shelto : Ormsby =      1.1 : 1.0\n",
      "            , therefore, = None           Jarvis : Ormsby =      1.1 : 1.0\n",
      "                  ; here = None           Shelto : Jarvis =      1.1 : 1.0\n",
      "              , that is, = None           Ormsby : Shelto =      1.1 : 1.0\n",
      "                . as for = None           Ormsby : Shelto =      1.1 : 1.0\n",
      "                   \"here = None           Shelto : Jarvis =      1.1 : 1.0\n",
      "                 equally = None           Shelto : Jarvis =      1.1 : 1.0\n",
      "                 : there = None           Ormsby : Jarvis =      1.1 : 1.0\n",
      "             : in short, = None           Ormsby : Jarvis =      1.1 : 1.0\n",
      "              \"in short, = None           Ormsby : Jarvis =      1.1 : 1.0\n",
      "                   ' but = None           Jarvis : Shelto =      1.1 : 1.0\n",
      "             ; and then, = None           Jarvis : Shelto =      1.1 : 1.0\n",
      "                  ; yet, = None           Ormsby : Shelto =      1.1 : 1.0\n"
     ]
    }
   ],
   "source": [
    "classifier.show_most_informative_features(200)"
   ]
  },
  {
   "cell_type": "code",
   "execution_count": null,
   "metadata": {},
   "outputs": [],
   "source": []
  }
 ],
 "metadata": {
  "kernelspec": {
   "display_name": "Python [conda env:root] *",
   "language": "python",
   "name": "conda-root-py"
  },
  "language_info": {
   "codemirror_mode": {
    "name": "ipython",
    "version": 3
   },
   "file_extension": ".py",
   "mimetype": "text/x-python",
   "name": "python",
   "nbconvert_exporter": "python",
   "pygments_lexer": "ipython3",
   "version": "3.7.4"
  }
 },
 "nbformat": 4,
 "nbformat_minor": 4
}
