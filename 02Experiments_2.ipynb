{
  "nbformat": 4,
  "nbformat_minor": 0,
  "metadata": {
    "kernelspec": {
      "name": "python3",
      "display_name": "Python 3"
    },
    "colab": {
      "name": "08Experiments_dimensions.ipynb",
      "provenance": [],
      "collapsed_sections": [],
      "machine_shape": "hm",
      "include_colab_link": true
    }
  },
  "cells": [
    {
      "cell_type": "markdown",
      "metadata": {
        "id": "view-in-github",
        "colab_type": "text"
      },
      "source": [
        "<a href=\"https://colab.research.google.com/github/ccaballeroh/Translator-Attribution/blob/master/02Experiments_2.ipynb\" target=\"_parent\"><img src=\"https://colab.research.google.com/assets/colab-badge.svg\" alt=\"Open In Colab\"/></a>"
      ]
    },
    {
      "cell_type": "code",
      "metadata": {
        "id": "c2HB1lIjAf7b",
        "colab_type": "code",
        "colab": {}
      },
      "source": [
        "from collections import defaultdict\n",
        "from pathlib import Path\n",
        "from sklearn.feature_extraction import DictVectorizer\n",
        "from sklearn.preprocessing import LabelEncoder\n",
        "from sklearn.naive_bayes import MultinomialNB\n",
        "from sklearn.tree import DecisionTreeClassifier\n",
        "from sklearn.linear_model import LogisticRegression\n",
        "from sklearn.preprocessing import StandardScaler\n",
        "from sklearn.metrics import plot_confusion_matrix\n",
        "from sklearn.model_selection import KFold\n",
        "from sklearn.model_selection import cross_val_predict\n",
        "from sklearn.model_selection import cross_val_score\n",
        "from sklearn.pipeline import Pipeline\n",
        "from sklearn.svm import LinearSVC\n",
        "from sklearn.utils import shuffle\n",
        "import numpy as np\n",
        "import os\n",
        "import pandas as pd\n",
        "import sys"
      ],
      "execution_count": 0,
      "outputs": []
    },
    {
      "cell_type": "code",
      "metadata": {
        "id": "oEojGE7YpHnU",
        "colab_type": "code",
        "colab": {}
      },
      "source": [
        "IN_COLAB = 'google.colab' in sys.modules"
      ],
      "execution_count": 0,
      "outputs": []
    },
    {
      "cell_type": "code",
      "metadata": {
        "id": "9FAhnkTBpHna",
        "colab_type": "code",
        "outputId": "c0e62917-9444-4f74-8918-1a421b191111",
        "colab": {
          "base_uri": "https://localhost:8080/",
          "height": 34
        }
      },
      "source": [
        "if IN_COLAB:\n",
        "    from google.colab import drive\n",
        "    drive.mount('/content/drive/')\n",
        "    FOLDER_thesis = Path(r\"./drive/My Drive/00Tesis/\")\n",
        "    sys.path.insert(0,f\"{FOLDER_thesis}/\")\n",
        "    import warnings\n",
        "    warnings.filterwarnings(\"ignore\")\n",
        "else:\n",
        "    FOLDER_thesis = Path(r\"./\")"
      ],
      "execution_count": 31,
      "outputs": [
        {
          "output_type": "stream",
          "text": [
            "Drive already mounted at /content/drive/; to attempt to forcibly remount, call drive.mount(\"/content/drive/\", force_remount=True).\n"
          ],
          "name": "stdout"
        }
      ]
    },
    {
      "cell_type": "code",
      "metadata": {
        "id": "S4DhUlUGAf7g",
        "colab_type": "code",
        "colab": {}
      },
      "source": [
        "from helper.analysis import get_dataset_from_json\n",
        "from helper.analysis import JSON_FOLDER"
      ],
      "execution_count": 0,
      "outputs": []
    },
    {
      "cell_type": "code",
      "metadata": {
        "id": "vInwzfEwAf7k",
        "colab_type": "code",
        "colab": {}
      },
      "source": [
        "FOLDER = JSON_FOLDER"
      ],
      "execution_count": 0,
      "outputs": []
    },
    {
      "cell_type": "code",
      "metadata": {
        "colab_type": "code",
        "id": "cdEa73lfCGXY",
        "colab": {}
      },
      "source": [
        "features_files = [file for file in FOLDER.iterdir() if file.name.startswith(\"features\")]"
      ],
      "execution_count": 0,
      "outputs": []
    },
    {
      "cell_type": "code",
      "metadata": {
        "id": "ZwMKE7KtAf7w",
        "colab_type": "code",
        "colab": {}
      },
      "source": [
        "results_all_corpora = defaultdict(pd.DataFrame)\n",
        "\n",
        "for translator in [\"Quixote\",\"Ibsen\"]:\n",
        "\n",
        "    indexes = []  # file names as indices\n",
        "    cols = [\"Dimension\", \"SVC\", \"Naïve Bayes\", \"Decision Tree\", \"Logistic Regression\"]\n",
        "    results = []  # Where to hold the results\n",
        "    \n",
        "    for file in [file for file in features_files if file.name.split(\"_\")[0].endswith(translator)]:\n",
        "\n",
        "        X_dict, y_str = get_dataset_from_json(file)\n",
        "        \n",
        "        v = DictVectorizer(sparse=True)\n",
        "        encoder = LabelEncoder()\n",
        "\n",
        "        X = v.fit_transform(X_dict, )\n",
        "        y = encoder.fit_transform(y_str)\n",
        "\n",
        "        dimension = X.shape[1]\n",
        "\n",
        "        kf = KFold(n_splits=10, shuffle=True, random_state=42)\n",
        "\n",
        "\n",
        "        svm_model = Pipeline([(\"scaler\", StandardScaler(with_mean=False)),\n",
        "                              (\"scv\", LinearSVC(random_state=42))])\n",
        "        cv_svm = cross_val_score(svm_model, X, y, cv=kf)\n",
        "        #svm_y_pred = cross_val_predict(svm_model, X, y, cv=kf, n_jobs=-1)\n",
        "\n",
        "        log_model = LogisticRegression(random_state=42)\n",
        "        cv_log = cross_val_score(log_model, X, y, cv=kf)\n",
        "        #log_y_pred = cross_val_predict(log_model, X, y, cv=kf, n_jobs=-1)\n",
        "\n",
        "        nb_model = MultinomialNB()\n",
        "        cv_nb = cross_val_score(nb_model, X.toarray(), y, cv=kf)\n",
        "        #nb_y_pred = cross_val_predict(nb_model, X, y, cv=kf, n_jobs=-1)\n",
        "\n",
        "        dt_model = DecisionTreeClassifier(random_state=42)\n",
        "        cv_dt = cross_val_score(dt_model, X, y, cv=kf)\n",
        "        #nb_y_pred = cross_val_predict(dt_model, X, y, cv=kf, n_jobs=-1)\n",
        "        \n",
        "        result_per_featureset = [dimension, cv_svm.mean(), cv_nb.mean(), cv_dt.mean(), cv_log.mean()]\n",
        "        #print(result_per_featureset)\n",
        "        \n",
        "        results.append(result_per_featureset)        \n",
        "        indexes.append(\" \".join(file.stem.split(\"_\")[1:]))\n",
        "    \n",
        "    #print(results)\n",
        "    results_all_corpora[translator] = pd.DataFrame(np.array(results), index=indexes, columns = cols)"
      ],
      "execution_count": 0,
      "outputs": []
    },
    {
      "cell_type": "code",
      "metadata": {
        "id": "uNryufMmAf7y",
        "colab_type": "code",
        "colab": {}
      },
      "source": [
        "final = dict(results_all_corpora)"
      ],
      "execution_count": 0,
      "outputs": []
    },
    {
      "cell_type": "markdown",
      "metadata": {
        "id": "VLROCvb5Af71",
        "colab_type": "text"
      },
      "source": [
        "## Save results to CSV, $\\LaTeX$, and HTML"
      ]
    },
    {
      "cell_type": "code",
      "metadata": {
        "id": "-CMU-m2nAf72",
        "colab_type": "code",
        "colab": {}
      },
      "source": [
        "RESULTS_FOLDER = FOLDER_thesis/\"results/\""
      ],
      "execution_count": 0,
      "outputs": []
    },
    {
      "cell_type": "code",
      "metadata": {
        "id": "5ES4St_IAf76",
        "colab_type": "code",
        "colab": {}
      },
      "source": [
        "for translator in [\"Quixote\", \"Ibsen\"]:\n",
        "    df = final[translator].sort_index()\n",
        "    \n",
        "    df.to_csv(f\"{RESULTS_FOLDER/(translator +'_scaled_20200429_.csv')}\", float_format='%.4f')\n",
        "    \n",
        "    latex = df.to_latex(float_format=lambda x: '%.4f' % x)\n",
        "    with open(RESULTS_FOLDER/(translator+\"_scaled_20200429_.tex\"), \"w\") as f:\n",
        "        f.write(latex)\n",
        "    \n",
        "    html = df.to_html(float_format='%.4f')\n",
        "    with open(RESULTS_FOLDER/(translator+\"_scaled_20200429_.html\"), \"w\") as f:\n",
        "        f.write(html)"
      ],
      "execution_count": 0,
      "outputs": []
    }
  ]
}