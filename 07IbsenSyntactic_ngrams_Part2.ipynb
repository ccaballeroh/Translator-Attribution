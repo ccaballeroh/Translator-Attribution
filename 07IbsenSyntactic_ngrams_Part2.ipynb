{
 "cells": [
  {
   "cell_type": "markdown",
   "metadata": {},
   "source": [
    "# Generation of syntactic n-grams"
   ]
  },
  {
   "cell_type": "markdown",
   "metadata": {},
   "source": [
    "This notebook utilizes a Python 3 kernel in order to run the script `sn_grams3.py`. The arguments for said file are the input file to analyze, the output file name where to write the n-grams, the minimun size of n-grams, the maximum size of n-grams, the maximum number of children and an option (0 for word sn-grams).\n",
    "\n",
    "There's an older file named `sn_grams_.py` in the same folder. I changed the way to look for the words in the Stanford format from naïve (using python `find` and `rfind` strings methods) to using regex. And yet another backup file named `sn_grams.py` with this change implemented, but only functional in Python 2."
   ]
  },
  {
   "cell_type": "code",
   "execution_count": 1,
   "metadata": {},
   "outputs": [],
   "source": [
    "import os\n",
    "import subprocess\n",
    "\n",
    "FOLDER = \".\\\\auxfiles\\\\txt\\\\Ibsen\\\\\"\n",
    "file_list = os.listdir(FOLDER)"
   ]
  },
  {
   "cell_type": "code",
   "execution_count": 2,
   "metadata": {},
   "outputs": [],
   "source": [
    "for filename in file_list:\n",
    "    command = subprocess.Popen([\"python\",\n",
    "                                \"./helper/sn_grams3.py\",\n",
    "                                \"./auxfiles/txt/Ibsen/%s\" % filename,\n",
    "                                \"./auxfiles/txt/Ibsen/%ssn.txt\" % filename[:-10],\n",
    "                                \"2\",\n",
    "                                \"3\",\n",
    "                                \"5\",\n",
    "                                \"0\"],\n",
    "                              stdout=subprocess.PIPE,\n",
    "                              stderr=subprocess.STDOUT)\n",
    "    stdout, stderr = command.communicate()\n",
    "    #print filename\n",
    "    #print stderr\n",
    "    #print stdout"
   ]
  },
  {
   "cell_type": "code",
   "execution_count": null,
   "metadata": {},
   "outputs": [],
   "source": [
    "# ix_ = file_list.index(\"Shelton_p2_ch15_proc_parsed.txt\")"
   ]
  },
  {
   "cell_type": "code",
   "execution_count": null,
   "metadata": {},
   "outputs": [],
   "source": [
    "# for filename in file_list[ix_:ix_+1]:\n",
    "#     command = subprocess.Popen([\"python\",\n",
    "#                                 \"./helper/sn_grams.py\",\n",
    "#                                 \"./auxfiles/txt/%s\" % filename,\n",
    "#                                 \"./auxfiles/txt/%ssn.txt\" % filename[:-10],\n",
    "#                                 \"2\",\n",
    "#                                 \"3\",\n",
    "#                                 \"5\",\n",
    "#                                 \"0\"],\n",
    "#                               stdout=subprocess.PIPE,\n",
    "#                               stderr=subprocess.STDOUT)\n",
    "#     stdout, stderr = command.communicate()\n",
    "#     print stderr\n",
    "#     print stdout"
   ]
  }
 ],
 "metadata": {
  "kernelspec": {
   "display_name": "Python 3",
   "language": "python",
   "name": "python3"
  },
  "language_info": {
   "codemirror_mode": {
    "name": "ipython",
    "version": 3
   },
   "file_extension": ".py",
   "mimetype": "text/x-python",
   "name": "python",
   "nbconvert_exporter": "python",
   "pygments_lexer": "ipython3",
   "version": "3.7.4"
  }
 },
 "nbformat": 4,
 "nbformat_minor": 4
}
