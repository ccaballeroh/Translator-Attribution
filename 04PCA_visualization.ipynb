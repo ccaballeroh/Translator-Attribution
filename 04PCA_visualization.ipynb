{
 "cells": [
  {
   "cell_type": "markdown",
   "metadata": {},
   "source": [
    "# PCA Visualization\n",
    "\n",
    "This Notebook generates 2-D visualization of the corpora using Principal Component Analysis for different feature sets.\n",
    "\n",
    "The plots are saved in `./results/figs/pca/`"
   ]
  },
  {
   "cell_type": "code",
   "execution_count": null,
   "metadata": {},
   "outputs": [],
   "source": [
    "from pathlib import Path\n",
    "import sys\n",
    "\n",
    "IN_COLAB = \"google.colab\" in sys.modules"
   ]
  },
  {
   "cell_type": "code",
   "execution_count": null,
   "metadata": {},
   "outputs": [],
   "source": [
    "if IN_COLAB:\n",
    "    from google.colab import drive\n",
    "    drive.mount('/content/drive/')\n",
    "    ROOT = Path(r\"./drive/My Drive/Translator-Attribution\")\n",
    "    sys.path.insert(0,f\"{ROOT}/\")\n",
    "    import warnings\n",
    "    warnings.filterwarnings(\"ignore\")\n",
    "else:\n",
    "    from helper.analysis import ROOT"
   ]
  },
  {
   "cell_type": "code",
   "execution_count": null,
   "metadata": {},
   "outputs": [],
   "source": [
    "import pickle\n",
    "import platform\n",
    "\n",
    "from helper.utils import plot_pca"
   ]
  },
  {
   "cell_type": "markdown",
   "metadata": {},
   "source": [
    "First, we load from the `./auxfiles/pickle/` folder the corpora analyzed to a dictionary, where the name of the author is the key."
   ]
  },
  {
   "cell_type": "code",
   "execution_count": null,
   "metadata": {},
   "outputs": [],
   "source": [
    "PICKLE = Path(fr\"{ROOT}/auxfiles/pickle/\")"
   ]
  },
  {
   "cell_type": "code",
   "execution_count": null,
   "metadata": {},
   "outputs": [],
   "source": [
    "docs = {}\n",
    "for author in [\"Quixote\", \"Ibsen\"]:\n",
    "    with open(PICKLE / f\"{author}_{platform.system()}.pickle\", \"rb\") as f:\n",
    "        doc_data = f.read()\n",
    "    docs[author] = pickle.loads(doc_data)"
   ]
  },
  {
   "cell_type": "markdown",
   "metadata": {},
   "source": [
    "## Ibsen Corpus\n",
    "\n",
    "The Ibsen corpus comprises two kinds of documents: one set of documents are translations from the same play, *Ghosts*; the other are different plays translated by two translators with no overlap in the translations.\n",
    "\n",
    "So we can visualize each feature set for the parallel texts (i.e., *Ghosts*), for the other plays, and for all."
   ]
  },
  {
   "cell_type": "markdown",
   "metadata": {},
   "source": [
    "### First the parallel works:"
   ]
  },
  {
   "cell_type": "markdown",
   "metadata": {},
   "source": [
    "#### Punctuation *n*-grams"
   ]
  },
  {
   "cell_type": "code",
   "execution_count": null,
   "metadata": {},
   "outputs": [],
   "source": [
    "features = [\n",
    "    (doc.n_grams(n=1, punct=True, pos=False, propn=False), doc.translator)\n",
    "    for doc in docs[\"Ibsen\"]\n",
    "    if \"Ghosts\" in doc.filename\n",
    "]\n",
    "\n",
    "plot_pca(features=features, title=\"Punctuation unigrams Ibsen Ghosts\", feature_selection=False, k=45)"
   ]
  },
  {
   "cell_type": "code",
   "execution_count": null,
   "metadata": {},
   "outputs": [],
   "source": [
    "features = [\n",
    "    (doc.n_grams(n=2, punct=True, pos=False, propn=False), doc.translator)\n",
    "    for doc in docs[\"Ibsen\"]\n",
    "    if \"Ghosts\" in doc.filename\n",
    "]\n",
    "\n",
    "plot_pca(features=features, title=\"Punctuation bigrams Ibsen Ghosts\", feature_selection=True, k=45)"
   ]
  },
  {
   "cell_type": "code",
   "execution_count": null,
   "metadata": {},
   "outputs": [],
   "source": [
    "features = [\n",
    "    (doc.n_grams(n=3, punct=True, pos=False, propn=False), doc.translator)\n",
    "    for doc in docs[\"Ibsen\"]\n",
    "    if \"Ghosts\" in doc.filename\n",
    "]\n",
    "\n",
    "plot_pca(features=features, title=\"Punctuation trigrams Ibsen Ghosts\", feature_selection=True, k=45)"
   ]
  },
  {
   "cell_type": "markdown",
   "metadata": {},
   "source": [
    "#### Word *n*-grams"
   ]
  },
  {
   "cell_type": "code",
   "execution_count": null,
   "metadata": {},
   "outputs": [],
   "source": [
    "features = [\n",
    "    (doc.n_grams(n=1, punct=False, pos=False, propn=False), doc.translator)\n",
    "    for doc in docs[\"Ibsen\"]\n",
    "    if \"Ghosts\" in doc.filename\n",
    "]\n",
    "\n",
    "plot_pca(features=features, title=\"Word unigrams Ibsen Ghosts\", feature_selection=True, k=45)"
   ]
  },
  {
   "cell_type": "code",
   "execution_count": null,
   "metadata": {},
   "outputs": [],
   "source": [
    "features = [\n",
    "    (doc.n_grams(n=2, punct=False, pos=False, propn=False), doc.translator)\n",
    "    for doc in docs[\"Ibsen\"]\n",
    "    if \"Ghosts\" in doc.filename\n",
    "]\n",
    "\n",
    "plot_pca(features=features, title=\"Word bigrams Ibsen Ghosts\", feature_selection=True, k=45)"
   ]
  },
  {
   "cell_type": "markdown",
   "metadata": {},
   "source": [
    "#### POS *n*-grams"
   ]
  },
  {
   "cell_type": "code",
   "execution_count": null,
   "metadata": {},
   "outputs": [],
   "source": [
    "features = [\n",
    "    (doc.n_grams(n=2, punct=False, pos=True, propn=False), doc.translator)\n",
    "    for doc in docs[\"Ibsen\"]\n",
    "    if \"Ghosts\" in doc.filename\n",
    "]\n",
    "\n",
    "plot_pca(features=features, title=\"POS bigrams Ibsen Ghosts\", feature_selection=True, k=45)"
   ]
  },
  {
   "cell_type": "code",
   "execution_count": null,
   "metadata": {},
   "outputs": [],
   "source": [
    "features = [\n",
    "    (doc.n_grams(n=3, punct=False, pos=True, propn=False), doc.translator)\n",
    "    for doc in docs[\"Ibsen\"]\n",
    "    if \"Ghosts\" in doc.filename\n",
    "]\n",
    "\n",
    "plot_pca(features=features, title=\"POS trigrams Ibsen Ghosts\", feature_selection=True, k=45)"
   ]
  },
  {
   "cell_type": "code",
   "execution_count": null,
   "metadata": {},
   "outputs": [],
   "source": [
    "features = [\n",
    "    (doc.n_grams(n=2, punct=True, pos=True, propn=False), doc.translator)\n",
    "    for doc in docs[\"Ibsen\"]\n",
    "    if \"Ghosts\" in doc.filename\n",
    "]\n",
    "\n",
    "plot_pca(features=features, title=\"POS bigrams with punctuation Ibsen Ghosts\", feature_selection=True, k=45)"
   ]
  },
  {
   "cell_type": "code",
   "execution_count": null,
   "metadata": {},
   "outputs": [],
   "source": [
    "features = [\n",
    "    (doc.n_grams(n=3, punct=True, pos=True, propn=False), doc.translator)\n",
    "    for doc in docs[\"Ibsen\"]\n",
    "    if \"Ghosts\" in doc.filename\n",
    "]\n",
    "\n",
    "plot_pca(features=features, title=\"POS trigrams with punctuation Ibsen Ghosts\", feature_selection=True, k=45)"
   ]
  },
  {
   "cell_type": "markdown",
   "metadata": {},
   "source": [
    "#### Syntactic *n*-grams"
   ]
  },
  {
   "cell_type": "code",
   "execution_count": null,
   "metadata": {},
   "outputs": [],
   "source": [
    "features = [\n",
    "    (doc.n_grams_syntactic(n=2, propn=False), doc.translator)\n",
    "    for doc in docs[\"Ibsen\"]\n",
    "    if \"Ghosts\" in doc.filename\n",
    "]\n",
    "\n",
    "plot_pca(features=features, title=\"Syntactic bigrams Ibsen Ghosts\", feature_selection=True, k=45)"
   ]
  },
  {
   "cell_type": "code",
   "execution_count": null,
   "metadata": {},
   "outputs": [],
   "source": [
    "features = [\n",
    "    (doc.n_grams_syntactic(n=3, propn=False), doc.translator)\n",
    "    for doc in docs[\"Ibsen\"]\n",
    "    if \"Ghosts\" in doc.filename\n",
    "]\n",
    "\n",
    "plot_pca(features=features, title=\"Syntactic trigrams Ibsen Ghosts\", feature_selection=True, k=45)"
   ]
  },
  {
   "cell_type": "markdown",
   "metadata": {},
   "source": [
    "### Now, the other plays:"
   ]
  },
  {
   "cell_type": "markdown",
   "metadata": {},
   "source": [
    "#### Punctuation *n*-grams"
   ]
  },
  {
   "cell_type": "code",
   "execution_count": null,
   "metadata": {},
   "outputs": [],
   "source": [
    "features = [\n",
    "    (doc.n_grams(n=1, punct=True, pos=False, propn=False), doc.translator)\n",
    "    for doc in docs[\"Ibsen\"]\n",
    "    if not \"Ghosts\" in doc.filename\n",
    "]\n",
    "\n",
    "plot_pca(features=features, title=\"Punctuation unigrams Ibsen other plays\", feature_selection=False, k=45)"
   ]
  },
  {
   "cell_type": "code",
   "execution_count": null,
   "metadata": {},
   "outputs": [],
   "source": [
    "features = [\n",
    "    (doc.n_grams(n=2, punct=True, pos=False, propn=False), doc.translator)\n",
    "    for doc in docs[\"Ibsen\"]\n",
    "    if not \"Ghosts\" in doc.filename\n",
    "]\n",
    "\n",
    "plot_pca(features=features, title=\"Punctuation bigrams Ibsen other plays\", feature_selection=True, k=45)"
   ]
  },
  {
   "cell_type": "code",
   "execution_count": null,
   "metadata": {},
   "outputs": [],
   "source": [
    "features = [\n",
    "    (doc.n_grams(n=3, punct=True, pos=False, propn=False), doc.translator)\n",
    "    for doc in docs[\"Ibsen\"]\n",
    "    if not \"Ghosts\" in doc.filename\n",
    "]\n",
    "\n",
    "plot_pca(features=features, title=\"Punctuation trigrams Ibsen other plays\", feature_selection=True, k=45)"
   ]
  },
  {
   "cell_type": "markdown",
   "metadata": {},
   "source": [
    "#### Word *n*-grams"
   ]
  },
  {
   "cell_type": "code",
   "execution_count": null,
   "metadata": {},
   "outputs": [],
   "source": [
    "features = [\n",
    "    (doc.n_grams(n=1, punct=False, pos=False, propn=False), doc.translator)\n",
    "    for doc in docs[\"Ibsen\"]\n",
    "    if not \"Ghosts\" in doc.filename\n",
    "]\n",
    "\n",
    "plot_pca(features=features, title=\"Word unigrams Ibsen other plays\", feature_selection=True, k=45)"
   ]
  },
  {
   "cell_type": "code",
   "execution_count": null,
   "metadata": {},
   "outputs": [],
   "source": [
    "features = [\n",
    "    (doc.n_grams(n=2, punct=False, pos=False, propn=False), doc.translator)\n",
    "    for doc in docs[\"Ibsen\"]\n",
    "    if not \"Ghosts\" in doc.filename\n",
    "]\n",
    "\n",
    "plot_pca(features=features, title=\"Word bigrams Ibsen other plays\", feature_selection=True, k=45)"
   ]
  },
  {
   "cell_type": "markdown",
   "metadata": {},
   "source": [
    "#### POS *n*-grams"
   ]
  },
  {
   "cell_type": "code",
   "execution_count": null,
   "metadata": {},
   "outputs": [],
   "source": [
    "features = [\n",
    "    (doc.n_grams(n=2, punct=False, pos=True, propn=False), doc.translator)\n",
    "    for doc in docs[\"Ibsen\"]\n",
    "    if not \"Ghosts\" in doc.filename\n",
    "]\n",
    "\n",
    "plot_pca(features=features, title=\"POS bigrams Ibsen other plays\", feature_selection=True, k=45)"
   ]
  },
  {
   "cell_type": "code",
   "execution_count": null,
   "metadata": {},
   "outputs": [],
   "source": [
    "features = [\n",
    "    (doc.n_grams(n=3, punct=False, pos=True, propn=False), doc.translator)\n",
    "    for doc in docs[\"Ibsen\"]\n",
    "    if not \"Ghosts\" in doc.filename\n",
    "]\n",
    "\n",
    "plot_pca(features=features, title=\"POS trigrams Ibsen other plays\", feature_selection=True, k=45)"
   ]
  },
  {
   "cell_type": "code",
   "execution_count": null,
   "metadata": {},
   "outputs": [],
   "source": [
    "features = [\n",
    "    (doc.n_grams(n=2, punct=True, pos=True, propn=False), doc.translator)\n",
    "    for doc in docs[\"Ibsen\"]\n",
    "    if not \"Ghosts\" in doc.filename\n",
    "]\n",
    "\n",
    "plot_pca(features=features, title=\"POS bigrams with punctuation Ibsen other plays\", feature_selection=True, k=45)"
   ]
  },
  {
   "cell_type": "code",
   "execution_count": null,
   "metadata": {},
   "outputs": [],
   "source": [
    "features = [\n",
    "    (doc.n_grams(n=3, punct=True, pos=True, propn=False), doc.translator)\n",
    "    for doc in docs[\"Ibsen\"]\n",
    "    if not \"Ghosts\" in doc.filename\n",
    "]\n",
    "\n",
    "plot_pca(features=features, title=\"POS trigrams with punctuation Ibsen other plays\", feature_selection=True, k=45)"
   ]
  },
  {
   "cell_type": "markdown",
   "metadata": {},
   "source": [
    "#### Syntactic *n*-grams"
   ]
  },
  {
   "cell_type": "code",
   "execution_count": null,
   "metadata": {},
   "outputs": [],
   "source": [
    "features = [\n",
    "    (doc.n_grams_syntactic(n=2, propn=False), doc.translator)\n",
    "    for doc in docs[\"Ibsen\"]\n",
    "    if not \"Ghosts\" in doc.filename\n",
    "]\n",
    "\n",
    "plot_pca(features=features, title=\"Syntactic bigrams Ibsen other plays\", feature_selection=True, k=45)"
   ]
  },
  {
   "cell_type": "code",
   "execution_count": null,
   "metadata": {},
   "outputs": [],
   "source": [
    "features = [\n",
    "    (doc.n_grams_syntactic(n=3, propn=False), doc.translator)\n",
    "    for doc in docs[\"Ibsen\"]\n",
    "    if not \"Ghosts\" in doc.filename\n",
    "]\n",
    "\n",
    "plot_pca(features=features, title=\"Syntactic trigrams Ibsen other plays\", feature_selection=True, k=45)"
   ]
  },
  {
   "cell_type": "markdown",
   "metadata": {},
   "source": [
    "### Lastly, all the plays together:"
   ]
  },
  {
   "cell_type": "markdown",
   "metadata": {},
   "source": [
    "#### Punctuation *n*-grams"
   ]
  },
  {
   "cell_type": "code",
   "execution_count": null,
   "metadata": {},
   "outputs": [],
   "source": [
    "features = [\n",
    "    (doc.n_grams(n=1, punct=True, pos=False, propn=False), doc.translator)\n",
    "    for doc in docs[\"Ibsen\"]\n",
    "]\n",
    "\n",
    "plot_pca(features=features, title=\"Punctuation unigrams Ibsen all plays\", feature_selection=False, k=45)"
   ]
  },
  {
   "cell_type": "code",
   "execution_count": null,
   "metadata": {},
   "outputs": [],
   "source": [
    "features = [\n",
    "    (doc.n_grams(n=2, punct=True, pos=False, propn=False), doc.translator)\n",
    "    for doc in docs[\"Ibsen\"]\n",
    "]\n",
    "\n",
    "plot_pca(features=features, title=\"Punctuation bigrams Ibsen all plays\", feature_selection=True, k=45)"
   ]
  },
  {
   "cell_type": "code",
   "execution_count": null,
   "metadata": {},
   "outputs": [],
   "source": [
    "features = [\n",
    "    (doc.n_grams(n=3, punct=True, pos=False, propn=False), doc.translator)\n",
    "    for doc in docs[\"Ibsen\"]\n",
    "]\n",
    "\n",
    "plot_pca(features=features, title=\"Punctuation trigrams Ibsen all plays\", feature_selection=True, k=45)"
   ]
  },
  {
   "cell_type": "markdown",
   "metadata": {},
   "source": [
    "#### Word *n*-grams"
   ]
  },
  {
   "cell_type": "code",
   "execution_count": null,
   "metadata": {},
   "outputs": [],
   "source": [
    "features = [\n",
    "    (doc.n_grams(n=1, punct=False, pos=False, propn=False), doc.translator)\n",
    "    for doc in docs[\"Ibsen\"]\n",
    "]\n",
    "\n",
    "plot_pca(features=features, title=\"Word unigrams Ibsen all plays\", feature_selection=True, k=45)"
   ]
  },
  {
   "cell_type": "code",
   "execution_count": null,
   "metadata": {},
   "outputs": [],
   "source": [
    "features = [\n",
    "    (doc.n_grams(n=2, punct=False, pos=False, propn=False), doc.translator)\n",
    "    for doc in docs[\"Ibsen\"]\n",
    "]\n",
    "\n",
    "plot_pca(features=features, title=\"Word bigrams Ibsen all plays\", feature_selection=True, k=45)"
   ]
  },
  {
   "cell_type": "markdown",
   "metadata": {},
   "source": [
    "#### POS *n*-grams"
   ]
  },
  {
   "cell_type": "code",
   "execution_count": null,
   "metadata": {},
   "outputs": [],
   "source": [
    "features = [\n",
    "    (doc.n_grams(n=2, punct=False, pos=True, propn=False), doc.translator)\n",
    "    for doc in docs[\"Ibsen\"]\n",
    "]\n",
    "\n",
    "plot_pca(features=features, title=\"POS bigrams Ibsen all plays\", feature_selection=True, k=45)"
   ]
  },
  {
   "cell_type": "code",
   "execution_count": null,
   "metadata": {},
   "outputs": [],
   "source": [
    "features = [\n",
    "    (doc.n_grams(n=3, punct=False, pos=True, propn=False), doc.translator)\n",
    "    for doc in docs[\"Ibsen\"]\n",
    "]\n",
    "\n",
    "plot_pca(features=features, title=\"POS trigrams Ibsen all plays\", feature_selection=True, k=45)"
   ]
  },
  {
   "cell_type": "code",
   "execution_count": null,
   "metadata": {},
   "outputs": [],
   "source": [
    "features = [\n",
    "    (doc.n_grams(n=2, punct=True, pos=True, propn=False), doc.translator)\n",
    "    for doc in docs[\"Ibsen\"]\n",
    "]\n",
    "\n",
    "plot_pca(features=features, title=\"POS bigrams with punctuation Ibsen all plays\", feature_selection=True, k=45)"
   ]
  },
  {
   "cell_type": "code",
   "execution_count": null,
   "metadata": {},
   "outputs": [],
   "source": [
    "features = [\n",
    "    (doc.n_grams(n=3, punct=True, pos=True, propn=False), doc.translator)\n",
    "    for doc in docs[\"Ibsen\"]\n",
    "]\n",
    "\n",
    "plot_pca(features=features, title=\"POS trigrams with punctuation Ibsen all plays\", feature_selection=True, k=45)"
   ]
  },
  {
   "cell_type": "markdown",
   "metadata": {},
   "source": [
    "#### Syntactic *n*-grams"
   ]
  },
  {
   "cell_type": "code",
   "execution_count": null,
   "metadata": {},
   "outputs": [],
   "source": [
    "features = [\n",
    "    (doc.n_grams_syntactic(n=2, propn=False), doc.translator)\n",
    "    for doc in docs[\"Ibsen\"]\n",
    "]\n",
    "\n",
    "plot_pca(features=features, title=\"Syntactic bigrams Ibsen all plays\", feature_selection=True, k=45)"
   ]
  },
  {
   "cell_type": "code",
   "execution_count": null,
   "metadata": {},
   "outputs": [],
   "source": [
    "features = [\n",
    "    (doc.n_grams_syntactic(n=3, propn=False), doc.translator)\n",
    "    for doc in docs[\"Ibsen\"]\n",
    "]\n",
    "\n",
    "plot_pca(features=features, title=\"Syntactic trigrams Ibsen other plays\", feature_selection=True, k=45)"
   ]
  },
  {
   "cell_type": "markdown",
   "metadata": {},
   "source": [
    "## *Don Quixote* corpus"
   ]
  },
  {
   "cell_type": "markdown",
   "metadata": {},
   "source": [
    "This corpus comprises three parallel translations for the two parts of *Don Quixote*. So, we can just generate the PCA visualizations for all the feature sets."
   ]
  },
  {
   "cell_type": "markdown",
   "metadata": {},
   "source": [
    "#### Punctuation *n*-grams"
   ]
  },
  {
   "cell_type": "code",
   "execution_count": null,
   "metadata": {},
   "outputs": [],
   "source": [
    "features = [\n",
    "    (doc.n_grams(n=1, punct=True, pos=False, propn=False), doc.translator)\n",
    "    for doc in docs[\"Quixote\"]\n",
    "]\n",
    "\n",
    "plot_pca(features=features, title=\"Punctuation unigrams Quixote\", feature_selection=False, k=45)"
   ]
  },
  {
   "cell_type": "code",
   "execution_count": null,
   "metadata": {},
   "outputs": [],
   "source": [
    "features = [\n",
    "    (doc.n_grams(n=2, punct=True, pos=False, propn=False), doc.translator)\n",
    "    for doc in docs[\"Quixote\"]\n",
    "]\n",
    "\n",
    "plot_pca(features=features, title=\"Punctuation bigrams Quixote\", feature_selection=True, k=45)"
   ]
  },
  {
   "cell_type": "code",
   "execution_count": null,
   "metadata": {},
   "outputs": [],
   "source": [
    "features = [\n",
    "    (doc.n_grams(n=3, punct=True, pos=False, propn=False), doc.translator)\n",
    "    for doc in docs[\"Quixote\"]\n",
    "]\n",
    "\n",
    "plot_pca(features=features, title=\"Punctuation trigrams Quixote\", feature_selection=True, k=45)"
   ]
  },
  {
   "cell_type": "markdown",
   "metadata": {},
   "source": [
    "#### Word *n*-grams"
   ]
  },
  {
   "cell_type": "code",
   "execution_count": null,
   "metadata": {},
   "outputs": [],
   "source": [
    "features = [\n",
    "    (doc.n_grams(n=1, punct=False, pos=False, propn=False), doc.translator)\n",
    "    for doc in docs[\"Quixote\"]\n",
    "]\n",
    "\n",
    "plot_pca(features=features, title=\"Word unigrams Quixote\", feature_selection=True, k=45)"
   ]
  },
  {
   "cell_type": "code",
   "execution_count": null,
   "metadata": {},
   "outputs": [],
   "source": [
    "features = [\n",
    "    (doc.n_grams(n=2, punct=False, pos=False, propn=False), doc.translator)\n",
    "    for doc in docs[\"Quixote\"]\n",
    "]\n",
    "\n",
    "plot_pca(features=features, title=\"Word bigrams Quixote\", feature_selection=True, k=45)"
   ]
  },
  {
   "cell_type": "markdown",
   "metadata": {},
   "source": [
    "#### POS *n*-grams"
   ]
  },
  {
   "cell_type": "code",
   "execution_count": null,
   "metadata": {},
   "outputs": [],
   "source": [
    "features = [\n",
    "    (doc.n_grams(n=2, punct=False, pos=True, propn=False), doc.translator)\n",
    "    for doc in docs[\"Quixote\"]\n",
    "]\n",
    "\n",
    "plot_pca(features=features, title=\"POS bigrams Quixote\", feature_selection=True, k=45)"
   ]
  },
  {
   "cell_type": "code",
   "execution_count": null,
   "metadata": {},
   "outputs": [],
   "source": [
    "features = [\n",
    "    (doc.n_grams(n=3, punct=False, pos=True, propn=False), doc.translator)\n",
    "    for doc in docs[\"Quixote\"]\n",
    "]\n",
    "\n",
    "plot_pca(features=features, title=\"POS trigrams Quixote\", feature_selection=True, k=45)"
   ]
  },
  {
   "cell_type": "code",
   "execution_count": null,
   "metadata": {},
   "outputs": [],
   "source": [
    "features = [\n",
    "    (doc.n_grams(n=2, punct=True, pos=True, propn=False), doc.translator)\n",
    "    for doc in docs[\"Quixote\"]\n",
    "]\n",
    "\n",
    "plot_pca(features=features, title=\"POS bigrams with punctuation Quixote\", feature_selection=True, k=45)"
   ]
  },
  {
   "cell_type": "code",
   "execution_count": null,
   "metadata": {},
   "outputs": [],
   "source": [
    "features = [\n",
    "    (doc.n_grams(n=3, punct=True, pos=True, propn=False), doc.translator)\n",
    "    for doc in docs[\"Quixote\"]\n",
    "]\n",
    "\n",
    "plot_pca(features=features, title=\"POS trigrams with punctuation Quixote\", feature_selection=True, k=45)"
   ]
  },
  {
   "cell_type": "markdown",
   "metadata": {},
   "source": [
    "#### Syntactic *n*-grams"
   ]
  },
  {
   "cell_type": "code",
   "execution_count": null,
   "metadata": {},
   "outputs": [],
   "source": [
    "features = [\n",
    "    (doc.n_grams_syntactic(n=2, propn=False), doc.translator)\n",
    "    for doc in docs[\"Quixote\"]\n",
    "]\n",
    "\n",
    "plot_pca(features=features, title=\"Syntactic bigrams Quixote\", feature_selection=True, k=45)"
   ]
  },
  {
   "cell_type": "code",
   "execution_count": null,
   "metadata": {},
   "outputs": [],
   "source": [
    "features = [\n",
    "    (doc.n_grams_syntactic(n=3, propn=False), doc.translator)\n",
    "    for doc in docs[\"Quixote\"]\n",
    "]\n",
    "\n",
    "plot_pca(features=features, title=\"Syntactic trigrams Quixote\", feature_selection=True, k=45)"
   ]
  }
 ],
 "metadata": {
  "kernelspec": {
   "display_name": "Python [conda env:spacy]",
   "language": "python",
   "name": "conda-env-spacy-py"
  },
  "language_info": {
   "codemirror_mode": {
    "name": "ipython",
    "version": 3
   },
   "file_extension": ".py",
   "mimetype": "text/x-python",
   "name": "python",
   "nbconvert_exporter": "python",
   "pygments_lexer": "ipython3",
   "version": "3.6.7"
  }
 },
 "nbformat": 4,
 "nbformat_minor": 4
}