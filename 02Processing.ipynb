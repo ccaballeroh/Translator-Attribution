{
 "nbformat": 4,
 "nbformat_minor": 2,
 "metadata": {
  "language_info": {
   "name": "python",
   "codemirror_mode": {
    "name": "ipython",
    "version": 3
   },
   "version": "3.6.7-final"
  },
  "orig_nbformat": 2,
  "file_extension": ".py",
  "mimetype": "text/x-python",
  "name": "python",
  "npconvert_exporter": "python",
  "pygments_lexer": "ipython3",
  "version": 3,
  "kernelspec": {
   "name": "python36764bitspacyconda81cbf537626c4c91a9ad866d10139160",
   "display_name": "Python 3.6.7 64-bit ('spacy': conda)"
  }
 },
 "cells": [
  {
   "cell_type": "code",
   "execution_count": 1,
   "metadata": {},
   "outputs": [],
   "source": [
    "from helper.analysis import MyDoc\n",
    "from pathlib import Path\n",
    "import spacy\n",
    "import pickle"
   ]
  },
  {
   "cell_type": "code",
   "execution_count": 2,
   "metadata": {},
   "outputs": [],
   "source": [
    "CORPORA = Path(r\"./Corpora/\")\n",
    "PICKLE = Path(r\"./auxfiles/pickle/\")\n",
    "nlp = spacy.load(\"en_core_web_md\")\n",
    "\n",
    "for translator in [\"Quixote\", \"Ibsen\"]:\n",
    "    path = CORPORA/f\"Proc_{translator}\" \n",
    "    docs = [MyDoc(file, nlp) for file in path.iterdir() if file.suffix == \".txt\"]\n",
    "    doc_data = pickle.dumps(docs)\n",
    "    with open(PICKLE/f\"{translator}.pickle\", \"wb\") as f:\n",
    "        f.write(doc_data)"
   ]
  },
  {
   "cell_type": "markdown",
   "metadata": {},
   "source": [
    "If we were to pick up the process from this point, we can load the pickle file from disk."
   ]
  },
  {
   "cell_type": "code",
   "execution_count": null,
   "metadata": {},
   "outputs": [],
   "source": [
    "# with open(PICKLE/\"Quixote.pickle\", \"rb\") as f:\n",
    "#     doc_data=f.read()\n",
    "\n",
    "# docs = pickle.loads(doc_data)"
   ]
  }
 ]
}