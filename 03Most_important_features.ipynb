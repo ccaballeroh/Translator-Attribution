{
  "cells": [
    {
      "cell_type": "markdown",
      "metadata": {
        "id": "view-in-github",
        "colab_type": "text"
      },
      "source": [
        "<a href=\"https://colab.research.google.com/github/ccaballeroh/Translator-Attribution/blob/master/03Most_important_features.ipynb\" target=\"_parent\"><img src=\"https://colab.research.google.com/assets/colab-badge.svg\" alt=\"Open In Colab\"/></a>"
      ]
    },
    {
      "cell_type": "markdown",
      "metadata": {
        "id": "bxRkXRnu6ymW",
        "colab_type": "text"
      },
      "source": [
        "# Extraction of Most Relevant Features\n",
        "\n",
        "On this notebook, we extract the most relevant features in the classification process for each translator. In order to do this, we can retrieve the learned weights from a linear classifier (e.g., Logistic Regression, although a Support Vector Machine using a linear *kernel* also have those properties as well as the Naïve Bayes classifier) and get the $n$ largest. The corresponding $n$ features would thus be the most relevant for each class. In case of a binary classifier, the $n$ largest weights would correspond to the *positive* class, whereas the $n$ most negative weights would correspond to the *negative* class.\n",
        "\n",
        "Since scikit-learn trains $N$ binary classifiers when given an N-class multiclass problem, we can retrieve the $n$ largest weights&mdash;and their corresponding features&mdash;for each classifier. This notebook saves to disk the $n$ most relevant features for each translator in the corpora for each feature set and for three classifiers: logistic regression, linear support vector machine, and a naïve Bayes classifier. The results are saved as bar plots and also tabular (CSV, HTML and, $\\LaTeX$) in the `results\\figs\\most` and `results\\tables` folders respectively.\n",
        "\n",
        "Also on this Notebook, there's code for generating the confusion matrices product of training a Logistic Regression classifier on the *entire* dataset. We train on the entire dataset because we have proven already&mdash;via 10-fold cross-validation&mdash;that the accuracy of the classifier is high enough. The confusion matrices are generated for each feature set and are also saved to disk in the `results\\figs\\cm` folder.\n",
        "\n",
        "\n",
        "**NOTE:** This notebook can be run on Google Colab after having followed the instructions found in the [README](./README.md) file in this repository."
      ]
    },
    {
      "cell_type": "code",
      "metadata": {
        "id": "-jZ3uI9mRKh2",
        "colab_type": "code",
        "colab": {}
      },
      "source": [
        "from pathlib import Path\n",
        "import sys\n",
        "\n",
        "IN_COLAB = \"google.colab\" in sys.modules"
      ],
      "execution_count": null,
      "outputs": []
    },
    {
      "cell_type": "code",
      "metadata": {
        "id": "1HK4MsUARPCG",
        "colab_type": "code",
        "colab": {}
      },
      "source": [
        "if IN_COLAB:\n",
        "    from google.colab import drive\n",
        "    drive.mount('/content/drive/')\n",
        "    ROOT = Path(r\"./drive/My Drive/Translator-Attribution\")\n",
        "    sys.path.insert(0,f\"{ROOT}/\")\n",
        "    import warnings\n",
        "    warnings.filterwarnings(\"ignore\")\n",
        "else:\n",
        "    from helper.analysis import ROOT"
      ],
      "execution_count": null,
      "outputs": []
    },
    {
      "cell_type": "code",
      "metadata": {
        "id": "COM-qODNRCqx",
        "colab_type": "code",
        "colab": {}
      },
      "source": [
        "from helper.features import convert_data, plot_most_relevant, plot_confusion_matrix, train_extract_most_relevant, save_tables"
      ],
      "execution_count": null,
      "outputs": []
    },
    {
      "cell_type": "markdown",
      "metadata": {
        "id": "pkkRVjg86ymq",
        "colab_type": "text"
      },
      "source": [
        "These are the files to process. They are the entirety of the feature sets obtained using [01Processing](./01Processing.ipynb)."
      ]
    },
    {
      "cell_type": "code",
      "metadata": {
        "id": "4F_KDYeF6ymr",
        "colab_type": "code",
        "colab": {}
      },
      "source": [
        "from helper.analysis import JSON_FOLDER\n",
        "features_files = [file for file in JSON_FOLDER.iterdir() if file.name.startswith(\"features\")]"
      ],
      "execution_count": null,
      "outputs": []
    },
    {
      "cell_type": "markdown",
      "metadata": {
        "id": "2spuxmx76ymv",
        "colab_type": "text"
      },
      "source": [
        "## Most Relevant Features\n",
        "\n",
        "The next cells define a couple of functions to generate and save the bar plots and tabular data of the $n=15$ most relevant features in the classification process for each translator and each feature set using three classifiers: Logistic Regression, Linear Support Vector Machine, and Naïve Bayes.\n",
        "\n",
        "To do feature selection using the $\\chi^2$ statistic, leave the following cell to `True`. Otherwise, change it to `False`.\n",
        "\n"
      ]
    },
    {
      "cell_type": "code",
      "metadata": {
        "id": "UDXpqk-amUOt",
        "colab_type": "code",
        "colab": {}
      },
      "source": [
        "feature_selection = True"
      ],
      "execution_count": null,
      "outputs": []
    },
    {
      "cell_type": "code",
      "metadata": {
        "id": "zOJ1kKwV6ym1",
        "colab_type": "code",
        "colab": {}
      },
      "source": [
        "for model_name in [\"LogisticRegression\", \"SVM\", \"NaiveBayes\"]:\n",
        "    for author in [\"Ibsen\", \"Quixote\"]:\n",
        "        for file in [file for file in features_files if author in file.name]:\n",
        "            data = convert_data(file=file)\n",
        "            args = {\n",
        "                \"model_name\" : model_name,\n",
        "                \"X\":data[\"X\"],\n",
        "                \"y\":data[\"y\"],\n",
        "                \"encoder\":data[\"encoder\"],\n",
        "                \"dict_vectorizer\":data[\"dict_vectorizer\"],\n",
        "                \"feature_selection\":feature_selection\n",
        "                \n",
        "            }\n",
        "            exp_results = train_extract_most_relevant(**args)            \n",
        "            most_relevant = exp_results[\"most_relevant\"]\n",
        "\n",
        "            for translator in data[\"encoder\"].classes_:\n",
        "                plot_most_relevant(data=most_relevant, translator=translator, model=model_name, file=file)\n",
        "                df = most_relevant[translator]\n",
        "                save_tables(df=df, translator=translator, file=file, model_name=model_name)\n",
        "            "
      ],
      "execution_count": null,
      "outputs": []
    },
    {
      "cell_type": "markdown",
      "metadata": {
        "id": "UEW-0ZAO6ym5",
        "colab_type": "text"
      },
      "source": [
        "## Confusion Matrices\n",
        "\n",
        "The following code generates the Confusion Matrices for all the feature sets using a logistic regression classifier."
      ]
    },
    {
      "cell_type": "code",
      "metadata": {
        "id": "8EWgJR3U6ym6",
        "colab_type": "code",
        "colab": {}
      },
      "source": [
        "for author in [\"Ibsen\", \"Quixote\"]:\n",
        "    for file in [file for file in features_files if author in file.name]:\n",
        "        data = convert_data(file=file)\n",
        "        X = data[\"X\"]\n",
        "        y = data[\"y\"]\n",
        "        encoder = data[\"encoder\"]\n",
        "        plot_confusion_matrix(X=X, y=y, encoder=encoder, file=file)"
      ],
      "execution_count": null,
      "outputs": []
    }
  ],
  "metadata": {
    "kernelspec": {
      "display_name": "Python 3.6.7 64-bit ('spacy': conda)",
      "language": "python",
      "name": "python36764bitspacyconda81cbf537626c4c91a9ad866d10139160"
    },
    "language_info": {
      "codemirror_mode": {
        "name": "ipython",
        "version": 3
      },
      "file_extension": ".py",
      "mimetype": "text/x-python",
      "name": "python",
      "nbconvert_exporter": "python",
      "pygments_lexer": "ipython3",
      "version": "3.6.7-final"
    },
    "colab": {
      "name": "03Most_important.ipynb",
      "provenance": [],
      "include_colab_link": true
    }
  },
  "nbformat": 4,
  "nbformat_minor": 0
}