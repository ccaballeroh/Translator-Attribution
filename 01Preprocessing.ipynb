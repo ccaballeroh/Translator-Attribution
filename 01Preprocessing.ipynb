{
 "cells": [
  {
   "cell_type": "markdown",
   "metadata": {},
   "source": [
    "# Preprocessing\n",
    "\n",
    "## Quixote\n",
    "\n",
    "To remove numbers and brackets from Quixote corpus. Leave punctuation."
   ]
  },
  {
   "cell_type": "code",
   "execution_count": 37,
   "metadata": {},
   "outputs": [],
   "source": [
    "import re\n",
    "import os\n",
    "from pathlib import Path"
   ]
  },
  {
   "cell_type": "code",
   "execution_count": 23,
   "metadata": {},
   "outputs": [],
   "source": [
    "CORPORA = Path(r\"./Corpora/\")"
   ]
  },
  {
   "cell_type": "code",
   "execution_count": 23,
   "metadata": {},
   "outputs": [],
   "source": [
    "INPUT_FOLDER = CORPORA/\"Raw_Quixote/\"\n",
    "OUTPUT_FOLDER = CORPORA/\"Proc_Quixote/\"\n",
    "\n",
    "if not OUTPUT_FOLDER.exists():\n",
    "    OUTPUT_FOLDER.mkdir()"
   ]
  },
  {
   "cell_type": "markdown",
   "metadata": {},
   "source": [
    "Find special characters used in the corpus in order to replace them"
   ]
  },
  {
   "cell_type": "code",
   "execution_count": 25,
   "metadata": {},
   "outputs": [],
   "source": [
    "chars = set()\n",
    "for file in INPUT_FOLDER.iterdir():\n",
    "    with file.open(\"r\") as f:\n",
    "        text = f.read()\n",
    "    chars = chars.union(set(text))\n",
    "\n",
    "special = list(filter(lambda char: True if ord(char) > 127 else False, chars))"
   ]
  },
  {
   "cell_type": "code",
   "execution_count": 26,
   "metadata": {},
   "outputs": [
    {
     "data": {
      "text/plain": [
       "['ü', '—', 'è', '‘', '“', 'ù', 'û', '«', 'é', '’', 'â', 'ç', '”', 'ë', 'à']"
      ]
     },
     "execution_count": 26,
     "metadata": {},
     "output_type": "execute_result"
    }
   ],
   "source": [
    "special"
   ]
  },
  {
   "cell_type": "code",
   "execution_count": 27,
   "metadata": {},
   "outputs": [
    {
     "data": {
      "text/plain": [
       "{'à': 'a',\n",
       " 'é': 'e',\n",
       " '’': \"'\",\n",
       " '«': '\"',\n",
       " 'ë': 'e',\n",
       " '“': '\"',\n",
       " '‘': \"'\",\n",
       " 'ù': 'u',\n",
       " 'ü': 'u',\n",
       " '”': '\"',\n",
       " '—': '-',\n",
       " 'û': 'u',\n",
       " 'â': 'a',\n",
       " 'ç': 'z',\n",
       " 'è': 'e'}"
      ]
     },
     "execution_count": 27,
     "metadata": {},
     "output_type": "execute_result"
    }
   ],
   "source": [
    "REPLACE = dict(zip(\n",
    "    ['à', 'é', '’', '«', 'ë', '“', '‘', 'ù', 'ü', '”', '—', 'û', 'â', 'ç', 'è'], \n",
    "    ['a','e', \"'\",'\"','e','\"',\"'\",'u','u','\"','-','u','a','z','e'],\n",
    ")\n",
    "              )\n",
    "REPLACE"
   ]
  },
  {
   "cell_type": "code",
   "execution_count": 28,
   "metadata": {},
   "outputs": [],
   "source": [
    "def remove_numbers(text):\n",
    "    \"\"\"\n",
    "    \"\"\"\n",
    "    pattern = re.compile(r\"((-?\\[\\d+\\]-?)|(-?\\(\\d+\\)-?))\")\n",
    "    clean_text = pattern.sub(r\" \", text)\n",
    "    return clean_text\n",
    "\n",
    "def collapse_spaces(text):\n",
    "    \"\"\"\n",
    "    \"\"\"\n",
    "    pattern = re.compile(r\"\\s+\")\n",
    "    clean_text = pattern.sub(r\" \", text)\n",
    "    return clean_text\n",
    "\n",
    "\n",
    "def remove_special(text, REPLACE):\n",
    "    \"\"\"\n",
    "    \"\"\"\n",
    "    for char, subs in REPLACE.items():\n",
    "        text = text.replace(char.lower(), subs)\n",
    "    return text"
   ]
  },
  {
   "cell_type": "code",
   "execution_count": 29,
   "metadata": {},
   "outputs": [],
   "source": [
    "for filename in INPUT_FOLDER.iterdir():\n",
    "    with filename.open(\"r\") as file:\n",
    "        file_content = file.read()\n",
    "    file_content = collapse_spaces(remove_numbers(file_content))\n",
    "    file_content = remove_special(file_content, REPLACE)\n",
    "    with open(OUTPUT_FOLDER/(filename.stem + \"_proc.txt\"), \"w\", encoding=\"UTF-8\") as file:\n",
    "        file.write(file_content)"
   ]
  },
  {
   "cell_type": "markdown",
   "metadata": {},
   "source": [
    "## Ibsen"
   ]
  },
  {
   "cell_type": "markdown",
   "metadata": {},
   "source": [
    "Preprocessing of Ibsen corpus"
   ]
  },
  {
   "cell_type": "code",
   "execution_count": 40,
   "metadata": {},
   "outputs": [],
   "source": [
    "def remove_front_back_matter(filename, output_folder):\n",
    "    \"\"\"Remove legal information from Project Gutenberg files.\n",
    "    \n",
    "    Reads the file with 'filename' in the 'input_folder' folder and\n",
    "    outputs the same file with the \"proc\" word appended at the end\n",
    "    of the filename in the 'output_folder', but without the lines at\n",
    "    the beginning and at the end of the original file containing\n",
    "    legal information from Project Gutenberg.\n",
    "    \n",
    "    :filename     'Path' - name of the file to process\n",
    "    :out_folder   'Path' - name of the outout folder\n",
    "    \n",
    "    It returns None\n",
    "    \"\"\"\n",
    "    \n",
    "    lines = []\n",
    "    write = False\n",
    "    with open(filename, \"r\", encoding=\"UTF-8\") as f:\n",
    "        for line in f:\n",
    "            if line.strip().startswith(\"*** START OF\"):\n",
    "                write = True\n",
    "            elif line.strip().startswith(\"*** END OF\"):\n",
    "                write = False\n",
    "                break\n",
    "            else:\n",
    "                if write:\n",
    "                    lines.append(line)\n",
    "                else:\n",
    "                    pass\n",
    "                \n",
    "    with open(output_folder/(filename.stem + \"_proc.txt\"), \"a\", encoding=\"UTF-8\") as g:\n",
    "        for line in lines:\n",
    "            g.write(line)\n",
    "    return None\n",
    "\n",
    "\n",
    "def chunks(filename, CHUNK_SIZE=5000):\n",
    "    \"\"\"Generator that yields the following chunk of the file.\n",
    "    \n",
    "    The output is a string with the following chunk size\n",
    "    CHUNK_SIZE of the file 'filename' in the folder 'input folder'.\n",
    "    \n",
    "    :filename      'Path'    - name of file to process\n",
    "    :CHUNK_SIZE    'Integer' - size of chunk\n",
    "    \n",
    "    yields a 'String' of size of 'CHUNK_SIZE'\n",
    "    \"\"\"\n",
    "    SIZE = os.stat(filename).st_size  # filesize\n",
    "    with open(filename, \"r\", encoding=\"UTF-8\") as f:\n",
    "        for _ in range(SIZE//CHUNK_SIZE):\n",
    "            # reads the lines that amount to the Chunksize\n",
    "            # and yields a string \n",
    "            yield \"\".join(f.readlines(CHUNK_SIZE))"
   ]
  },
  {
   "cell_type": "code",
   "execution_count": 41,
   "metadata": {},
   "outputs": [],
   "source": [
    "RAW_IBSEN_FOLDER = CORPORA/\"Raw_Ibsen/\"\n",
    "PROC_IBSEN_FOLDER = CORPORA/\"Proc_Ibsen_/\"\n",
    "\n",
    "if not PROC_IBSEN_FOLDER.exists():\n",
    "    PROC_IBSEN_FOLDER.mkdir()"
   ]
  },
  {
   "cell_type": "code",
   "execution_count": 42,
   "metadata": {},
   "outputs": [],
   "source": [
    "for file in RAW_IBSEN_FOLDER.iterdir():\n",
    "    remove_front_back_matter(file, PROC_IBSEN_FOLDER)"
   ]
  },
  {
   "cell_type": "code",
   "execution_count": 45,
   "metadata": {},
   "outputs": [],
   "source": [
    "for file in [file for file in PROC_IBSEN_FOLDER.iterdir() if file.suffix == \".txt\"]:\n",
    "    str_gen = chunks(file, CHUNK_SIZE=5000)\n",
    "    num = 0\n",
    "    for chunk in str_gen:\n",
    "        num += 1\n",
    "        with open(PROC_IBSEN_FOLDER/(file.stem + f\"_part{num:03}.txt\"), \"w\") as f:\n",
    "            f.write(chunk)    "
   ]
  },
  {
   "cell_type": "code",
   "execution_count": 55,
   "metadata": {},
   "outputs": [],
   "source": [
    "INPUT_FOLDER = PROC_IBSEN_FOLDER\n",
    "OUTPUT_FOLDER = CORPORA/\"Proc_Ibsen_final_/\"\n",
    "\n",
    "if not OUTPUT_FOLDER.exists():\n",
    "    OUTPUT_FOLDER.mkdir()"
   ]
  },
  {
   "cell_type": "code",
   "execution_count": 56,
   "metadata": {},
   "outputs": [],
   "source": [
    "chars = set()\n",
    "for file in [file for file in INPUT_FOLDER.iterdir() \n",
    "             if not file.stem.endswith(\"proc\")\n",
    "             and file.suffix == \".txt\"]:\n",
    "    with open(file, \"r\") as f:\n",
    "        text = f.read()\n",
    "    chars = chars.union(set(text))\n",
    "\n",
    "special = list(filter(lambda char: True if ord(char) > 127 else False, chars))"
   ]
  },
  {
   "cell_type": "code",
   "execution_count": 57,
   "metadata": {},
   "outputs": [
    {
     "data": {
      "text/plain": [
       "['ê', 'ü', 'é', 'â', 'ú', 'ó', 'ö', 'ë']"
      ]
     },
     "execution_count": 57,
     "metadata": {},
     "output_type": "execute_result"
    }
   ],
   "source": [
    "special"
   ]
  },
  {
   "cell_type": "code",
   "execution_count": 58,
   "metadata": {},
   "outputs": [],
   "source": [
    "REPLACE = dict(zip(['ê', 'ü', 'é', 'â', 'ú', 'ó', 'ö', 'ë'], \n",
    "                  ['e', 'u', 'e', 'a', 'u', 'o', 'o', 'e']))"
   ]
  },
  {
   "cell_type": "code",
   "execution_count": 60,
   "metadata": {},
   "outputs": [],
   "source": [
    "for file in [file for file in INPUT_FOLDER.iterdir() \n",
    "                 if not file.stem.endswith(\"proc\")\n",
    "                 and file.suffix == \".txt\"]:\n",
    "    with open(file, \"r\") as f:\n",
    "        file_content = f.read()\n",
    "    file_content = collapse_spaces(remove_numbers(file_content))\n",
    "    file_content = remove_special(file_content, REPLACE)\n",
    "    with open(OUTPUT_FOLDER/(file.stem + \"_proc.txt\"), \"w\", encoding=\"UTF-8\") as f:\n",
    "        f.write(file_content)"
   ]
  }
 ],
 "metadata": {
  "kernelspec": {
   "display_name": "Python [conda env:spacy]",
   "language": "python",
   "name": "conda-env-spacy-py"
  },
  "language_info": {
   "codemirror_mode": {
    "name": "ipython",
    "version": 3
   },
   "file_extension": ".py",
   "mimetype": "text/x-python",
   "name": "python",
   "nbconvert_exporter": "python",
   "pygments_lexer": "ipython3",
   "version": "3.6.7"
  }
 },
 "nbformat": 4,
 "nbformat_minor": 4
}
