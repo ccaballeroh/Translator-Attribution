{
 "cells": [
  {
   "cell_type": "markdown",
   "metadata": {},
   "source": [
    "# Term frequency (TF) and TF-IDF"
   ]
  },
  {
   "cell_type": "code",
   "execution_count": 1,
   "metadata": {},
   "outputs": [],
   "source": [
    "import json, os"
   ]
  },
  {
   "cell_type": "code",
   "execution_count": 2,
   "metadata": {},
   "outputs": [],
   "source": [
    "from helper.functions import tf_by_translator, tfidf_by_translator, save_dataset_to_json"
   ]
  },
  {
   "cell_type": "code",
   "execution_count": 3,
   "metadata": {},
   "outputs": [],
   "source": [
    "FOLDER = \".\\\\auxfiles\\\\json\\\\\""
   ]
  },
  {
   "cell_type": "markdown",
   "metadata": {},
   "source": [
    "## Quixote"
   ]
  },
  {
   "cell_type": "code",
   "execution_count": 4,
   "metadata": {},
   "outputs": [],
   "source": [
    "file_list = os.listdir(FOLDER)"
   ]
  },
  {
   "cell_type": "code",
   "execution_count": 5,
   "metadata": {},
   "outputs": [],
   "source": [
    "Quixote_files = [filename for filename in file_list if filename.split(\"_\")[0].endswith(\"Quixote\")]"
   ]
  },
  {
   "cell_type": "code",
   "execution_count": 6,
   "metadata": {},
   "outputs": [
    {
     "name": "stdout",
     "output_type": "stream",
     "text": [
      "file saved\n",
      "file saved\n",
      "file saved\n",
      "file saved\n",
      "file saved\n",
      "file saved\n",
      "file saved\n",
      "file saved\n",
      "file saved\n",
      "file saved\n",
      "file saved\n",
      "file saved\n",
      "file saved\n",
      "file saved\n",
      "file saved\n",
      "file saved\n",
      "file saved\n",
      "file saved\n",
      "file saved\n",
      "file saved\n",
      "file saved\n",
      "file saved\n",
      "file saved\n",
      "file saved\n",
      "file saved\n",
      "file saved\n",
      "file saved\n",
      "file saved\n"
     ]
    }
   ],
   "source": [
    "for file in Quixote_files:\n",
    "    with open(FOLDER + file, 'r') as f:\n",
    "        dataset = json.loads(f.read())\n",
    "    features_tf = tf_by_translator(dataset)\n",
    "    features_tfidf = tfidf_by_translator(dataset)\n",
    "    save_dataset_to_json(features_tf, f\"{file[:-5]}_tf\")\n",
    "    save_dataset_to_json(features_tfidf, f\"{file[:-5]}_tfidf\")"
   ]
  },
  {
   "cell_type": "markdown",
   "metadata": {},
   "source": [
    "## Ibsen"
   ]
  },
  {
   "cell_type": "code",
   "execution_count": null,
   "metadata": {},
   "outputs": [],
   "source": [
    "file_list = os.listdir(FOLDER)"
   ]
  },
  {
   "cell_type": "code",
   "execution_count": null,
   "metadata": {},
   "outputs": [],
   "source": [
    "Ibsen_files = [filename for filename in file_list if filename.split(\"_\")[0].endswith(\"Ibsen\")]"
   ]
  },
  {
   "cell_type": "code",
   "execution_count": null,
   "metadata": {},
   "outputs": [],
   "source": [
    "for file in Ibsen_files:\n",
    "    with open(FOLDER + file, 'r') as f:\n",
    "        dataset = json.loads(f.read())\n",
    "    features_tf = tf_by_translator(dataset)\n",
    "    features_tfidf = tfidf_by_translator(dataset)\n",
    "    save_dataset_to_json(features_tf, f\"{file[:-5]}_tf\")\n",
    "    save_dataset_to_json(features_tfidf, f\"{file[:-5]}_tfidf\")"
   ]
  },
  {
   "cell_type": "code",
   "execution_count": null,
   "metadata": {},
   "outputs": [],
   "source": [
    "# featureset = [\n",
    "#     ({\"this\":1, \"is\":1, \"a\":2, \"sample\":1}, \"translator 1\"),\n",
    "#     ({\"this\":1, \"is\":1, \"another\":2, \"example\":3}, \"translator 2\"),\n",
    "#     #({\"this\": 1, \"is\":1, \"yet\":3, \"another\":5}, \"translator 2\"),\n",
    "#     #({\"this\":4, \"was\":8, \"fun\":1}, \"translator 3\"),\n",
    "#           ]\n",
    "\n",
    "# tf_by_translator(featureset)\n",
    "\n",
    "# tfidf_by_translator(featureset)"
   ]
  }
 ],
 "metadata": {
  "kernelspec": {
   "display_name": "Python [conda env:spacy]",
   "language": "python",
   "name": "conda-env-spacy-py"
  },
  "language_info": {
   "codemirror_mode": {
    "name": "ipython",
    "version": 3
   },
   "file_extension": ".py",
   "mimetype": "text/x-python",
   "name": "python",
   "nbconvert_exporter": "python",
   "pygments_lexer": "ipython3",
   "version": "3.6.7"
  }
 },
 "nbformat": 4,
 "nbformat_minor": 4
}
