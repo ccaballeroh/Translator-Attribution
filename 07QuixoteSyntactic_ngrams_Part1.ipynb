{
 "cells": [
  {
   "cell_type": "markdown",
   "metadata": {},
   "source": [
    "## Syntactic information extraction"
   ]
  },
  {
   "cell_type": "markdown",
   "metadata": {},
   "source": [
    "This notebook outputs the syntactic analysis with the Stanford output format for every file in the Quixote corpus. A script in Python 2 can parse those files and produce files with *noncontinous* syntactic n-grams."
   ]
  },
  {
   "cell_type": "code",
   "execution_count": 1,
   "metadata": {},
   "outputs": [],
   "source": [
    "import os\n",
    "import spacy\n",
    "import pickle"
   ]
  },
  {
   "cell_type": "code",
   "execution_count": 2,
   "metadata": {},
   "outputs": [],
   "source": [
    "CORPUS_FOLDER = \".\\\\Corpora\\\\Proc_Quixote\\\\\"\n",
    "TXT_FOLDER = \".\\\\auxfiles\\\\txt\\\\Quixote\\\\\"\n",
    "file_list = os.listdir(CORPUS_FOLDER)"
   ]
  },
  {
   "cell_type": "code",
   "execution_count": 3,
   "metadata": {},
   "outputs": [],
   "source": [
    "nlp = spacy.load(\"en_core_web_md\")"
   ]
  },
  {
   "cell_type": "code",
   "execution_count": 4,
   "metadata": {},
   "outputs": [],
   "source": [
    "def get_root(sentence):\n",
    "    for token in sentence:\n",
    "        if token.dep_ == \"ROOT\":\n",
    "            root_node = token\n",
    "    return root_node\n",
    "\n",
    "def output_Standford(sentence, file):\n",
    "    root = get_root(sentence)\n",
    "    for token in sentence:\n",
    "        if token == root:\n",
    "            print(\"root\", \"(\", \"ROOT\", \"-\", 0, \", \", token.text, \"-\", token.i+1, \")\", sep=\"\", file=file)\n",
    "        else:\n",
    "            print(token.dep_, \"(\", token.head, \"-\", token.head.i+1, \", \", token.text, \"-\", token.i+1, \")\", sep=\"\", file=file)\n",
    "    return None"
   ]
  },
  {
   "cell_type": "markdown",
   "metadata": {},
   "source": [
    "Load corpus analysis from disk."
   ]
  },
  {
   "cell_type": "code",
   "execution_count": 5,
   "metadata": {},
   "outputs": [],
   "source": [
    "with open(\".\\\\auxfiles\\pickle\\\\quixote_proc.pickle\", \"rb\") as f:\n",
    "    doc_data=f.read()\n",
    "\n",
    "docs = pickle.loads(doc_data)"
   ]
  },
  {
   "cell_type": "code",
   "execution_count": 6,
   "metadata": {},
   "outputs": [],
   "source": [
    "for doc, filename in docs:\n",
    "    with open(f\"{TXT_FOLDER}{filename[:-4]}_parsed.txt\", mode=\"w\", encoding=\"UTF-8\") as file:\n",
    "        for sentence in doc.sents:\n",
    "            output_Standford(sentence, file)\n",
    "            print(\"\", file=file)"
   ]
  },
  {
   "cell_type": "code",
   "execution_count": null,
   "metadata": {
    "collapsed": true,
    "jupyter": {
     "outputs_hidden": true
    }
   },
   "outputs": [],
   "source": [
    "%load ./auxfiles/txt/prueba_parser_Jarvis_p1_ch23.txt"
   ]
  },
  {
   "cell_type": "markdown",
   "metadata": {},
   "source": [
    "In a Python 2 console, run:\n",
    "\n",
    "```\n",
    "!python ./helper/sn_grams.py ./auxfiles/txt/input.txt ./auxfiles/txt/output.txt 2 3 5 0\n",
    "```"
   ]
  },
  {
   "cell_type": "code",
   "execution_count": null,
   "metadata": {
    "collapsed": true,
    "jupyter": {
     "outputs_hidden": true
    }
   },
   "outputs": [],
   "source": [
    "%load ./auxfiles/txt/output.txt"
   ]
  }
 ],
 "metadata": {
  "kernelspec": {
   "display_name": "Python [conda env:spacy]",
   "language": "python",
   "name": "conda-env-spacy-py"
  },
  "language_info": {
   "codemirror_mode": {
    "name": "ipython",
    "version": 3
   },
   "file_extension": ".py",
   "mimetype": "text/x-python",
   "name": "python",
   "nbconvert_exporter": "python",
   "pygments_lexer": "ipython3",
   "version": "3.6.7"
  }
 },
 "nbformat": 4,
 "nbformat_minor": 4
}
