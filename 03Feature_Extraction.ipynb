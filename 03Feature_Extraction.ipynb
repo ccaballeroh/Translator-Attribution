{
 "nbformat": 4,
 "nbformat_minor": 2,
 "metadata": {
  "language_info": {
   "name": "python",
   "codemirror_mode": {
    "name": "ipython",
    "version": 3
   },
   "version": "3.6.7-final"
  },
  "orig_nbformat": 2,
  "file_extension": ".py",
  "mimetype": "text/x-python",
  "name": "python",
  "npconvert_exporter": "python",
  "pygments_lexer": "ipython3",
  "version": 3,
  "kernelspec": {
   "name": "python36764bitspacyconda81cbf537626c4c91a9ad866d10139160",
   "display_name": "Python 3.6.7 64-bit ('spacy': conda)"
  }
 },
 "cells": [
  {
   "cell_type": "code",
   "execution_count": 1,
   "metadata": {},
   "outputs": [],
   "source": [
    "import pickle\n",
    "from helper.analysis import save_dataset_to_json\n",
    "from pathlib import Path\n",
    "\n",
    "PICKLE = Path(r\"./auxfiles/pickle/\")"
   ]
  },
  {
   "cell_type": "code",
   "execution_count": 2,
   "metadata": {},
   "outputs": [],
   "source": [
    "def load_pickle(translator):\n",
    "    with open(PICKLE/f\"{translator}.pickle\", \"rb\") as f:\n",
    "        return pickle.loads(f.read())"
   ]
  },
  {
   "cell_type": "markdown",
   "metadata": {},
   "source": [
    "# Quixote & Ibsen"
   ]
  },
  {
   "cell_type": "code",
   "execution_count": 3,
   "metadata": {},
   "outputs": [],
   "source": [
    "authors = [\"Quixote\", \"Ibsen\"]"
   ]
  },
  {
   "cell_type": "code",
   "execution_count": 4,
   "metadata": {},
   "outputs": [
    {
     "output_type": "stream",
     "name": "stdout",
     "text": "file saved\nfile saved\nfile saved\nfile saved\nfile saved\nfile saved\nfile saved\nfile saved\nfile saved\nfile saved\nfile saved\nfile saved\nfile saved\nfile saved\nfile saved\nfile saved\nfile saved\nfile saved\nfile saved\nfile saved\nfile saved\nfile saved\nfile saved\nfile saved\n"
    }
   ],
   "source": [
    "for author in authors:\n",
    "    docs = load_pickle(author)\n",
    "    for punct in [True, False]:\n",
    "        for n in range(3):\n",
    "            FILETEMPLATE = f\"features{author}_{n+1}grams{'_punct' if punct else ''}\"\n",
    "            save_dataset_to_json([(doc.n_grams(n=n+1, punct=punct), doc.translator) for doc in docs], FILETEMPLATE)\n",
    "        for n in range(2):\n",
    "            FILETEMPLATE = f\"features{author}_{n+1}gramsPOS{'_punct' if punct else ''}\"\n",
    "            save_dataset_to_json([(doc.n_gramsPOS(n=n+1, punct=punct), doc.translator) for doc in docs], FILETEMPLATE)\n",
    "        for _ in range(1):\n",
    "            FILETEMPLATE = f\"features{author}_cohesive{'_punct' if punct else ''}\"\n",
    "            save_dataset_to_json([(doc.cohesive(punct=punct), doc.translator) for doc in docs], FILETEMPLATE)"
   ]
  }
 ]
}