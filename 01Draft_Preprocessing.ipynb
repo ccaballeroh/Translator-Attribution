{
 "cells": [
  {
   "cell_type": "markdown",
   "metadata": {},
   "source": [
    "# Preprocessing"
   ]
  },
  {
   "cell_type": "code",
   "execution_count": 1,
   "metadata": {},
   "outputs": [],
   "source": [
    "import re\n",
    "import os\n",
    "from pathlib import Path"
   ]
  },
  {
   "cell_type": "code",
   "execution_count": 2,
   "metadata": {},
   "outputs": [],
   "source": [
    "def remove_numbers(text):\n",
    "    \"\"\"\n",
    "    \"\"\"\n",
    "    pattern = re.compile(r\"((-?\\[\\d+\\]-?)|(-?\\(\\d+\\)-?))\")\n",
    "    clean_text = pattern.sub(r\" \", text)\n",
    "    return clean_text\n",
    "\n",
    "def collapse_spaces(text):\n",
    "    \"\"\"\n",
    "    \"\"\"\n",
    "    pattern = re.compile(r\"\\s+\")\n",
    "    clean_text = pattern.sub(r\" \", text)\n",
    "    return clean_text\n",
    "\n",
    "\n",
    "def remove_special(text, REPLACE):\n",
    "    \"\"\"\n",
    "    \"\"\"\n",
    "    for char, subs in REPLACE.items():\n",
    "        text = text.replace(char.lower(), subs)\n",
    "    return text\n",
    "\n",
    "def special_characters(INPUT_FOLDER):\n",
    "    chars = set()\n",
    "    for file in INPUT_FOLDER.iterdir():\n",
    "        with file.open(\"r\") as f:\n",
    "            text = f.read()\n",
    "        chars = chars.union(set(text))\n",
    "    return list(filter(lambda char: True if ord(char) > 127 else False, chars))\n",
    "\n",
    "def preprocess(INPUT_FOLDER, OUTPUT_FOLDER, REPLACE):\n",
    "    for filename in INPUT_FOLDER.iterdir():\n",
    "        with filename.open(\"r\") as file:\n",
    "            file_content = file.read()\n",
    "        file_content = collapse_spaces(remove_numbers(file_content))\n",
    "        file_content = remove_special(file_content, REPLACE)\n",
    "        with open(OUTPUT_FOLDER/(filename.stem + \"_proc.txt\"), \"w\", encoding=\"UTF-8\") as file:\n",
    "            file.write(file_content)\n",
    "\n",
    "def remove_front_back_matter(filename, output_folder):\n",
    "    \"\"\"Remove legal information from Project Gutenberg files.\n",
    "    \n",
    "    Reads the file with 'filename' in the 'input_folder' folder and\n",
    "    outputs the same file with the \"proc\" word appended at the end\n",
    "    of the filename in the 'output_folder', but without the lines at\n",
    "    the beginning and at the end of the original file containing\n",
    "    legal information from Project Gutenberg.\n",
    "    \n",
    "    :filename     'Path' - name of the file to process\n",
    "    :out_folder   'Path' - name of the outout folder\n",
    "    \n",
    "    It returns None\n",
    "    \"\"\"\n",
    "    \n",
    "    lines = []\n",
    "    write = False\n",
    "    with open(filename, \"r\", encoding=\"UTF-8\") as f:\n",
    "        for line in f:\n",
    "            if line.strip().startswith(\"*** START OF\"):\n",
    "                write = True\n",
    "            elif line.strip().startswith(\"*** END OF\"):\n",
    "                write = False\n",
    "                break\n",
    "            else:\n",
    "                if write:\n",
    "                    lines.append(line)\n",
    "                else:\n",
    "                    pass\n",
    "                \n",
    "    with open(output_folder/(filename.stem + \"_proc.txt\"), \"a\", encoding=\"UTF-8\") as g:\n",
    "        for line in lines:\n",
    "            g.write(line)\n",
    "    return None\n",
    "\n",
    "\n",
    "def chunks(filename, CHUNK_SIZE=5000):\n",
    "    \"\"\"Generator that yields the following chunk of the file.\n",
    "    \n",
    "    The output is a string with the following chunk size\n",
    "    CHUNK_SIZE of the file 'filename' in the folder 'input folder'.\n",
    "    \n",
    "    :filename      'Path'    - name of file to process\n",
    "    :CHUNK_SIZE    'Integer' - size of chunk\n",
    "    \n",
    "    yields a 'String' of size of 'CHUNK_SIZE'\n",
    "    \"\"\"\n",
    "    SIZE = os.stat(filename).st_size  # filesize\n",
    "    with open(filename, \"r\", encoding=\"UTF-8\") as f:\n",
    "        for _ in range(SIZE//CHUNK_SIZE):\n",
    "            # reads the lines that amount to the Chunksize\n",
    "            # and yields a string \n",
    "            yield \"\".join(f.readlines(CHUNK_SIZE))\n",
    "\n",
    "def cleaning(FOLDER):\n",
    "    for file in FOLDER.iterdir():\n",
    "        file.unlink()\n",
    "    else:\n",
    "        FOLDER.rmdir()"
   ]
  },
  {
   "cell_type": "code",
   "execution_count": 3,
   "metadata": {},
   "outputs": [],
   "source": [
    "CORPORA = Path(r\"./Corpora/\")"
   ]
  },
  {
   "cell_type": "markdown",
   "metadata": {},
   "source": [
    "## Quixote\n",
    "\n",
    "To remove numbers and brackets from Quixote corpus. Leave punctuation."
   ]
  },
  {
   "cell_type": "code",
   "execution_count": 4,
   "metadata": {},
   "outputs": [],
   "source": [
    "INPUT_FOLDER = CORPORA/\"Raw_Quixote/\"\n",
    "OUTPUT_FOLDER = CORPORA/\"Proc_Quixote/\"\n",
    "\n",
    "if not OUTPUT_FOLDER.exists():\n",
    "    OUTPUT_FOLDER.mkdir()"
   ]
  },
  {
   "cell_type": "markdown",
   "metadata": {},
   "source": [
    "Find special characters used in the corpus in order to replace them"
   ]
  },
  {
   "cell_type": "code",
   "execution_count": 5,
   "metadata": {},
   "outputs": [
    {
     "data": {
      "text/plain": [
       "['û', '’', '”', '‘', 'ü', 'â', 'à', '—', 'ù', '“', 'ë', 'é', 'ç', '«', 'è']"
      ]
     },
     "execution_count": 5,
     "metadata": {},
     "output_type": "execute_result"
    }
   ],
   "source": [
    "special_characters(INPUT_FOLDER)"
   ]
  },
  {
   "cell_type": "code",
   "execution_count": 6,
   "metadata": {},
   "outputs": [],
   "source": [
    "REPLACE = dict(zip(\n",
    "    ['à', 'é', '’', '«', 'ë', '“', '‘', 'ù', 'ü', '”', '—', 'û', 'â', 'ç', 'è'], \n",
    "    ['a','e', \"'\",'\"','e','\"',\"'\",'u','u','\"','-','u','a','z','e'],\n",
    ")\n",
    "              )"
   ]
  },
  {
   "cell_type": "code",
   "execution_count": 7,
   "metadata": {},
   "outputs": [],
   "source": [
    "preprocess(INPUT_FOLDER, OUTPUT_FOLDER, REPLACE)"
   ]
  },
  {
   "cell_type": "markdown",
   "metadata": {},
   "source": [
    "## Ibsen"
   ]
  },
  {
   "cell_type": "code",
   "execution_count": 8,
   "metadata": {},
   "outputs": [],
   "source": [
    "INPUT_FOLDER = CORPORA/\"Raw_Ibsen/\"\n",
    "TEMP_OUTPUT_FOLDER = CORPORA/\"Proc_Ibsen_/\"\n",
    "\n",
    "if not TEMP_OUTPUT_FOLDER.exists():\n",
    "    TEMP_OUTPUT_FOLDER.mkdir()"
   ]
  },
  {
   "cell_type": "code",
   "execution_count": 9,
   "metadata": {},
   "outputs": [],
   "source": [
    "for file in INPUT_FOLDER.iterdir():\n",
    "    remove_front_back_matter(file, TEMP_OUTPUT_FOLDER)"
   ]
  },
  {
   "cell_type": "code",
   "execution_count": 10,
   "metadata": {},
   "outputs": [],
   "source": [
    "for file in [file for file in TEMP_OUTPUT_FOLDER.iterdir() if file.suffix == \".txt\"]:\n",
    "    str_gen = chunks(file, CHUNK_SIZE=5000)\n",
    "    num = 0\n",
    "    for chunk in str_gen:\n",
    "        num += 1\n",
    "        with open(TEMP_OUTPUT_FOLDER/(file.stem + f\"_part{num:03}.txt\"), \"w\") as f:\n",
    "            f.write(chunk)\n",
    "    file.unlink()"
   ]
  },
  {
   "cell_type": "code",
   "execution_count": 11,
   "metadata": {},
   "outputs": [],
   "source": [
    "INPUT_FOLDER = TEMP_OUTPUT_FOLDER\n",
    "OUTPUT_FOLDER = CORPORA/\"Proc_Ibsen/\"\n",
    "\n",
    "if not OUTPUT_FOLDER.exists():\n",
    "    OUTPUT_FOLDER.mkdir()"
   ]
  },
  {
   "cell_type": "code",
   "execution_count": 12,
   "metadata": {},
   "outputs": [
    {
     "data": {
      "text/plain": [
       "['ê', 'ú', 'ó', 'ü', 'ö', 'â', 'ë', 'é']"
      ]
     },
     "execution_count": 12,
     "metadata": {},
     "output_type": "execute_result"
    }
   ],
   "source": [
    "special_characters(INPUT_FOLDER)"
   ]
  },
  {
   "cell_type": "code",
   "execution_count": 13,
   "metadata": {},
   "outputs": [],
   "source": [
    "REPLACE = dict(zip(['ê', 'ü', 'é', 'â', 'ú', 'ó', 'ö', 'ë'], \n",
    "                  ['e', 'u', 'e', 'a', 'u', 'o', 'o', 'e']))"
   ]
  },
  {
   "cell_type": "code",
   "execution_count": 14,
   "metadata": {},
   "outputs": [],
   "source": [
    "preprocess(INPUT_FOLDER, OUTPUT_FOLDER, REPLACE)\n",
    "cleaning(TEMP_OUTPUT_FOLDER)"
   ]
  }
 ],
 "metadata": {
  "kernelspec": {
   "display_name": "Python [conda env:spacy]",
   "language": "python",
   "name": "conda-env-spacy-py"
  },
  "language_info": {
   "codemirror_mode": {
    "name": "ipython",
    "version": 3
   },
   "file_extension": ".py",
   "mimetype": "text/x-python",
   "name": "python",
   "nbconvert_exporter": "python",
   "pygments_lexer": "ipython3",
   "version": "3.6.7"
  }
 },
 "nbformat": 4,
 "nbformat_minor": 4
}
