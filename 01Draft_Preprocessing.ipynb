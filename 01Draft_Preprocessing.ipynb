{
 "cells": [
  {
   "cell_type": "markdown",
   "metadata": {},
   "source": [
    "# Preprocessing\n",
    "\n",
    "To remove numbers and brackets from Quixote corpus. Leave punctuation."
   ]
  },
  {
   "cell_type": "code",
   "execution_count": 9,
   "metadata": {},
   "outputs": [],
   "source": [
    "import os\n",
    "import re"
   ]
  },
  {
   "cell_type": "code",
   "execution_count": 2,
   "metadata": {},
   "outputs": [],
   "source": [
    "INPUT_FOLDER = '.\\\\Corpora\\\\Raw_Quixote\\\\'\n",
    "OUTPUT_FOLDER = '.\\\\Corpora\\\\Proc_Quixote\\\\'\n",
    "filenames = os.listdir(INPUT_FOLDER)"
   ]
  },
  {
   "cell_type": "markdown",
   "metadata": {},
   "source": [
    "Find special characters used in the corpus in order to replace them"
   ]
  },
  {
   "cell_type": "code",
   "execution_count": 6,
   "metadata": {},
   "outputs": [],
   "source": [
    "chars = set()\n",
    "for file in filenames:\n",
    "    with open(INPUT_FOLDER + file, \"r\") as f:\n",
    "        text = f.read()\n",
    "    chars = chars.union(set(text))\n",
    "\n",
    "special = list(filter(lambda char: True if ord(char) > 127 else False, chars))"
   ]
  },
  {
   "cell_type": "code",
   "execution_count": 4,
   "metadata": {},
   "outputs": [
    {
     "data": {
      "text/plain": [
       "['’', 'ü', '“', '«', 'è', 'ë', 'ù', 'à', '”', 'û', 'ç', 'é', '‘', '—', 'â']"
      ]
     },
     "execution_count": 4,
     "metadata": {},
     "output_type": "execute_result"
    }
   ],
   "source": [
    "special"
   ]
  },
  {
   "cell_type": "code",
   "execution_count": 5,
   "metadata": {},
   "outputs": [
    {
     "data": {
      "text/plain": [
       "{'à': 'a',\n",
       " 'é': 'e',\n",
       " '’': \"'\",\n",
       " '«': '\"',\n",
       " 'ë': 'e',\n",
       " '“': '\"',\n",
       " '‘': \"'\",\n",
       " 'ù': 'u',\n",
       " 'ü': 'u',\n",
       " '”': '\"',\n",
       " '—': '-',\n",
       " 'û': 'u',\n",
       " 'â': 'a',\n",
       " 'ç': 'z',\n",
       " 'è': 'e'}"
      ]
     },
     "execution_count": 5,
     "metadata": {},
     "output_type": "execute_result"
    }
   ],
   "source": [
    "REPLACE = dict(zip(\n",
    "    ['à', 'é', '’', '«', 'ë', '“', '‘', 'ù', 'ü', '”', '—', 'û', 'â', 'ç', 'è'], \n",
    "    ['a','e', \"'\",'\"','e','\"',\"'\",'u','u','\"','-','u','a','z','e'],\n",
    ")\n",
    "              )\n",
    "REPLACE"
   ]
  },
  {
   "cell_type": "code",
   "execution_count": 29,
   "metadata": {},
   "outputs": [],
   "source": [
    "def remove_numbers(text):\n",
    "    \"\"\"\n",
    "    \"\"\"\n",
    "    pattern = re.compile(r\"((-?\\[\\d+\\]-?)|(-?\\(\\d+\\)-?))\")\n",
    "    clean_text = pattern.sub(r\" \", text)\n",
    "    return clean_text\n",
    "\n",
    "def collapse_spaces(text):\n",
    "    \"\"\"\n",
    "    \"\"\"\n",
    "    pattern = re.compile(r\"\\s+\")\n",
    "    clean_text = pattern.sub(r\" \", text)\n",
    "    return clean_text\n",
    "\n",
    "\n",
    "def remove_special(text, REPLACE):\n",
    "    \"\"\"\n",
    "    \"\"\"\n",
    "    for char, subs in REPLACE.items():\n",
    "        text = text.replace(char.lower(), subs)\n",
    "    return text"
   ]
  },
  {
   "cell_type": "code",
   "execution_count": 8,
   "metadata": {},
   "outputs": [],
   "source": [
    "for filename in filenames:\n",
    "    with open(INPUT_FOLDER + filename, \"r\") as file:\n",
    "        file_content = file.read()\n",
    "    file_content = collapse_spaces(remove_numbers(file_content))\n",
    "    file_content = remove_special(file_content, REPLACE)\n",
    "    with open(OUTPUT_FOLDER + filename[:-4] + \"_proc.txt\", \"w\", encoding=\"UTF-8\") as file:\n",
    "        file.write(file_content)"
   ]
  },
  {
   "cell_type": "markdown",
   "metadata": {},
   "source": [
    "# Ibsen"
   ]
  },
  {
   "cell_type": "markdown",
   "metadata": {},
   "source": [
    "Preprocessing of Ibsen corpus"
   ]
  },
  {
   "cell_type": "code",
   "execution_count": 10,
   "metadata": {},
   "outputs": [],
   "source": [
    "def remove_front_back_matter(input_folder, filename, output_folder):\n",
    "    \"\"\"Remove legal information from Project Gutenberg files.\n",
    "    \n",
    "    Reads the file with 'filename' in the 'input_folder' folder and\n",
    "    outputs the same file with the \"proc\" word appended at the end\n",
    "    of the filename in the 'output_folder', but without the lines at\n",
    "    the beginning and at the end of the original file containing\n",
    "    legal information from Project Gutenberg.\n",
    "    \n",
    "    :input_folder 'String' - name of the input folder\n",
    "    :filename     'String' - name of the file to process\n",
    "    :out_folder   'String' - name of the outout folder\n",
    "    \n",
    "    It returns None\n",
    "    \"\"\"\n",
    "    \n",
    "    lines = []\n",
    "    write = False\n",
    "    with open(input_folder + filename, \"r\", encoding=\"UTF-8\") as f:\n",
    "        for line in f:\n",
    "            if line.strip().startswith(\"*** START OF\"):\n",
    "                write = True\n",
    "            elif line.strip().startswith(\"*** END OF\"):\n",
    "                write = False\n",
    "                break\n",
    "            else:\n",
    "                if write:\n",
    "                    lines.append(line)\n",
    "                else:\n",
    "                    pass\n",
    "                \n",
    "    with open(\"\".join([output_folder, filename[:-4], \"_proc.txt\"]), \"a\", encoding=\"UTF-8\") as g:\n",
    "        for line in lines:\n",
    "            g.write(line)\n",
    "    return None\n",
    "\n",
    "\n",
    "def chunks(input_folder, filename, CHUNK_SIZE=5000):\n",
    "    \"\"\"Generator that yields the following chunk of the file.\n",
    "    \n",
    "    The output is a string with the following chunk size\n",
    "    CHUNK_SIZE of the file 'filename' in the folder 'input folder'.\n",
    "    \n",
    "    :input_folder  'String' - name of input folder\n",
    "    :filename      'String' - name of file to process\n",
    "    :CHUNK_SIZE    'Integer' - size of chunk\n",
    "    \n",
    "    yields a 'String' of size of 'CHUNK_SIZE'\n",
    "    \"\"\"\n",
    "    SIZE = os.stat(input_folder + filename).st_size  # filesize\n",
    "    with open(input_folder + filename, \"r\", encoding=\"UTF-8\") as f:\n",
    "        for _ in range(SIZE//CHUNK_SIZE):\n",
    "            # reads the lines that amount to the Chunksize\n",
    "            # and yields a string \n",
    "            yield \"\".join(f.readlines(CHUNK_SIZE))"
   ]
  },
  {
   "cell_type": "code",
   "execution_count": 11,
   "metadata": {},
   "outputs": [],
   "source": [
    "RAW_IBSEN_FOLDER = \".\\\\Corpora\\\\Raw_Ibsen\\\\\"\n",
    "PROC_IBSEN_FOLDER = \".\\\\Corpora\\\\Proc_Ibsen\\\\\"\n",
    "\n",
    "file_list = os.listdir(RAW_IBSEN_FOLDER)"
   ]
  },
  {
   "cell_type": "code",
   "execution_count": 12,
   "metadata": {},
   "outputs": [
    {
     "data": {
      "text/plain": [
       "['Archer_Ghosts.txt',\n",
       " 'Archer_John_Gabriel_Borkman.txt',\n",
       " 'Archer_Little_Eyolf.txt',\n",
       " 'Archer_When_We_Dead_Awaken.txt',\n",
       " 'Sharp_An_Enemy_Of_The_People.txt',\n",
       " 'Sharp_Ghosts.txt',\n",
       " 'Sharp_Pillars_Of_Society.txt',\n",
       " 'Sharp_Rosmersholm.txt']"
      ]
     },
     "execution_count": 12,
     "metadata": {},
     "output_type": "execute_result"
    }
   ],
   "source": [
    "file_list"
   ]
  },
  {
   "cell_type": "code",
   "execution_count": 13,
   "metadata": {},
   "outputs": [],
   "source": [
    "for file in file_list:\n",
    "    remove_front_back_matter(RAW_IBSEN_FOLDER, file, PROC_IBSEN_FOLDER)"
   ]
  },
  {
   "cell_type": "code",
   "execution_count": 15,
   "metadata": {},
   "outputs": [
    {
     "data": {
      "text/plain": [
       "['Archer_Ghosts_proc.txt',\n",
       " 'Archer_John_Gabriel_Borkman_proc.txt',\n",
       " 'Archer_Little_Eyolf_proc.txt',\n",
       " 'Archer_When_We_Dead_Awaken_proc.txt',\n",
       " 'Sharp_An_Enemy_Of_The_People_proc.txt',\n",
       " 'Sharp_Ghosts_proc.txt',\n",
       " 'Sharp_Pillars_Of_Society_proc.txt',\n",
       " 'Sharp_Rosmersholm_proc.txt']"
      ]
     },
     "execution_count": 15,
     "metadata": {},
     "output_type": "execute_result"
    }
   ],
   "source": [
    "proc_file_list = os.listdir(PROC_IBSEN_FOLDER)\n",
    "proc_file_list"
   ]
  },
  {
   "cell_type": "code",
   "execution_count": 26,
   "metadata": {},
   "outputs": [],
   "source": [
    "for file in proc_file_list:\n",
    "    str_gen = chunks(PROC_IBSEN_FOLDER, file, CHUNK_SIZE=5000)\n",
    "    num = 0\n",
    "    for chunk in str_gen:\n",
    "        num += 1\n",
    "        with open(PROC_IBSEN_FOLDER + f\"{file[:-4]}_part{num:03}.txt\", \"w\") as f:\n",
    "            f.write(chunk)    "
   ]
  },
  {
   "cell_type": "code",
   "execution_count": 30,
   "metadata": {},
   "outputs": [
    {
     "data": {
      "text/plain": [
       "['Archer_Ghosts_proc_part001.txt',\n",
       " 'Archer_Ghosts_proc_part002.txt',\n",
       " 'Archer_Ghosts_proc_part003.txt',\n",
       " 'Archer_Ghosts_proc_part004.txt',\n",
       " 'Archer_Ghosts_proc_part005.txt',\n",
       " 'Archer_Ghosts_proc_part006.txt',\n",
       " 'Archer_Ghosts_proc_part007.txt',\n",
       " 'Archer_Ghosts_proc_part008.txt',\n",
       " 'Archer_Ghosts_proc_part009.txt',\n",
       " 'Archer_Ghosts_proc_part010.txt']"
      ]
     },
     "execution_count": 30,
     "metadata": {},
     "output_type": "execute_result"
    }
   ],
   "source": [
    "file_list = os.listdir(PROC_IBSEN_FOLDER)\n",
    "[file for file in file_list if not file[:-4].endswith(\"proc\")][:10]"
   ]
  },
  {
   "cell_type": "code",
   "execution_count": 33,
   "metadata": {},
   "outputs": [],
   "source": [
    "INPUT_FOLDER = \".\\\\Corpora\\\\Proc_Ibsen\\\\\"\n",
    "filenames = os.listdir(INPUT_FOLDER)\n",
    "\n",
    "OUTPUT_FOLDER = \".\\\\Corpora\\\\Proc_Ibsen_final\\\\\""
   ]
  },
  {
   "cell_type": "code",
   "execution_count": 34,
   "metadata": {},
   "outputs": [],
   "source": [
    "chars = set()\n",
    "for file in filenames:\n",
    "    with open(INPUT_FOLDER + file, \"r\") as f:\n",
    "        text = f.read()\n",
    "    chars = chars.union(set(text))\n",
    "\n",
    "special = list(filter(lambda char: True if ord(char) > 127 else False, chars))"
   ]
  },
  {
   "cell_type": "code",
   "execution_count": 35,
   "metadata": {},
   "outputs": [
    {
     "data": {
      "text/plain": [
       "['¶',\n",
       " '¼',\n",
       " 'â',\n",
       " 'ü',\n",
       " 'ó',\n",
       " 'ª',\n",
       " '«',\n",
       " '³',\n",
       " '¢',\n",
       " 'ë',\n",
       " 'Ã',\n",
       " '©',\n",
       " 'ö',\n",
       " 'é',\n",
       " 'º',\n",
       " 'ê',\n",
       " 'ú']"
      ]
     },
     "execution_count": 35,
     "metadata": {},
     "output_type": "execute_result"
    }
   ],
   "source": [
    "special"
   ]
  },
  {
   "cell_type": "code",
   "execution_count": 36,
   "metadata": {},
   "outputs": [
    {
     "data": {
      "text/plain": [
       "{'¶': '',\n",
       " '¼': '',\n",
       " 'â': 'a',\n",
       " 'ü': 'u',\n",
       " 'ó': 'o',\n",
       " 'ª': 'a.',\n",
       " '«': '\"',\n",
       " '³': '',\n",
       " '¢': '',\n",
       " 'ë': 'e',\n",
       " 'Ã': 'A',\n",
       " '©': '',\n",
       " 'ö': 'o',\n",
       " 'é': 'e',\n",
       " 'º': 'o.',\n",
       " 'ê': 'e',\n",
       " 'ú': 'u'}"
      ]
     },
     "execution_count": 36,
     "metadata": {},
     "output_type": "execute_result"
    }
   ],
   "source": [
    "REPLACE = dict(zip(['¶', '¼', 'â', 'ü', 'ó', 'ª', '«', '³', '¢', 'ë', 'Ã', '©', 'ö', 'é', 'º', 'ê', 'ú'], \n",
    "                  ['', '', 'a', 'u', 'o', 'a.', '\"', '', '', 'e', 'A', '', 'o', 'e', 'o.', 'e', 'u']))\n",
    "REPLACE"
   ]
  },
  {
   "cell_type": "code",
   "execution_count": 37,
   "metadata": {},
   "outputs": [],
   "source": [
    "for filename in [file for file in file_list if not file[:-4].endswith(\"proc\")]:\n",
    "    with open(INPUT_FOLDER + filename, \"r\") as file:\n",
    "        file_content = file.read()\n",
    "    file_content = collapse_spaces(remove_numbers(file_content))\n",
    "    file_content = remove_special(file_content, REPLACE)\n",
    "    with open(OUTPUT_FOLDER + filename[:-4] + \"_proc.txt\", \"w\", encoding=\"UTF-8\") as file:\n",
    "        file.write(file_content)"
   ]
  }
 ],
 "metadata": {
  "kernelspec": {
   "display_name": "Python [conda env:spacy]",
   "language": "python",
   "name": "conda-env-spacy-py"
  },
  "language_info": {
   "codemirror_mode": {
    "name": "ipython",
    "version": 3
   },
   "file_extension": ".py",
   "mimetype": "text/x-python",
   "name": "python",
   "nbconvert_exporter": "python",
   "pygments_lexer": "ipython3",
   "version": "3.6.7"
  }
 },
 "nbformat": 4,
 "nbformat_minor": 4
}
