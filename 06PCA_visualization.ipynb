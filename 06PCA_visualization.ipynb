{
  "nbformat": 4,
  "nbformat_minor": 0,
  "metadata": {
    "kernelspec": {
      "display_name": "Python [conda env:spacy]",
      "language": "python",
      "name": "conda-env-spacy-py"
    },
    "language_info": {
      "codemirror_mode": {
        "name": "ipython",
        "version": 3
      },
      "file_extension": ".py",
      "mimetype": "text/x-python",
      "name": "python",
      "nbconvert_exporter": "python",
      "pygments_lexer": "ipython3",
      "version": "3.6.7"
    },
    "colab": {
      "name": "04PCA_visualization.ipynb",
      "provenance": [],
      "include_colab_link": true
    }
  },
  "cells": [
    {
      "cell_type": "markdown",
      "metadata": {
        "id": "view-in-github",
        "colab_type": "text"
      },
      "source": [
        "<a href=\"https://colab.research.google.com/github/ccaballeroh/Translator-Attribution/blob/master/04PCA_visualization.ipynb\" target=\"_parent\"><img src=\"https://colab.research.google.com/assets/colab-badge.svg\" alt=\"Open In Colab\"/></a>"
      ]
    },
    {
      "cell_type": "markdown",
      "metadata": {
        "id": "SXPyut82tPjG",
        "colab_type": "text"
      },
      "source": [
        "# PCA Visualization\n",
        "\n",
        "This Notebook generates 2-D visualization of the corpora using Principal Component Analysis for different feature sets.\n",
        "\n",
        "The plots are saved in `./results/figs/pca/`"
      ]
    },
    {
      "cell_type": "code",
      "metadata": {
        "id": "wcPNyeQytPjH",
        "colab_type": "code",
        "colab": {}
      },
      "source": [
        "from pathlib import Path\n",
        "import sys\n",
        "\n",
        "IN_COLAB = \"google.colab\" in sys.modules"
      ],
      "execution_count": 0,
      "outputs": []
    },
    {
      "cell_type": "code",
      "metadata": {
        "id": "X9B5z3pktPjN",
        "colab_type": "code",
        "colab": {}
      },
      "source": [
        "if IN_COLAB:\n",
        "    from google.colab import drive\n",
        "    drive.mount('/content/drive/')\n",
        "    ROOT = Path(r\"./drive/My Drive/Translator-Attribution\")\n",
        "    sys.path.insert(0,f\"{ROOT}/\")\n",
        "    import warnings\n",
        "    warnings.filterwarnings(\"ignore\")\n",
        "else:\n",
        "    from helper.analysis import ROOT"
      ],
      "execution_count": 0,
      "outputs": []
    },
    {
      "cell_type": "code",
      "metadata": {
        "id": "fO3IvkWWtPjR",
        "colab_type": "code",
        "colab": {}
      },
      "source": [
        "import pickle\n",
        "import platform\n",
        "\n",
        "from helper.utils import plot_pca"
      ],
      "execution_count": 0,
      "outputs": []
    },
    {
      "cell_type": "markdown",
      "metadata": {
        "id": "m4ZYdQyftPjV",
        "colab_type": "text"
      },
      "source": [
        "First, we load from the `./auxfiles/pickle/` folder the corpora analyzed to a dictionary, where the name of the author is the key."
      ]
    },
    {
      "cell_type": "code",
      "metadata": {
        "id": "-8HkgmNmtPjW",
        "colab_type": "code",
        "colab": {}
      },
      "source": [
        "PICKLE = Path(fr\"{ROOT}/auxfiles/pickle/\")"
      ],
      "execution_count": 0,
      "outputs": []
    },
    {
      "cell_type": "code",
      "metadata": {
        "id": "bUpkBHG7tPjc",
        "colab_type": "code",
        "colab": {}
      },
      "source": [
        "docs = {}\n",
        "for author in [\"Quixote\", \"Ibsen\"]:\n",
        "    with open(PICKLE / f\"{author}_{platform.system()}.pickle\", \"rb\") as f:\n",
        "        doc_data = f.read()\n",
        "    docs[author] = pickle.loads(doc_data)"
      ],
      "execution_count": 0,
      "outputs": []
    },
    {
      "cell_type": "markdown",
      "metadata": {
        "id": "X7cEwbITtPjg",
        "colab_type": "text"
      },
      "source": [
        "## Ibsen Corpus\n",
        "\n",
        "The Ibsen corpus comprises two kinds of documents: one set of documents are translations from the same play, *Ghosts*; the other are different plays translated by two translators with no overlap in the translations.\n",
        "\n",
        "So we can visualize each feature set for the parallel texts (i.e., *Ghosts*), for the other plays, and for all."
      ]
    },
    {
      "cell_type": "markdown",
      "metadata": {
        "id": "UDwHG2P9tPjh",
        "colab_type": "text"
      },
      "source": [
        "### First the parallel works:"
      ]
    },
    {
      "cell_type": "markdown",
      "metadata": {
        "id": "4AHmbbRntPji",
        "colab_type": "text"
      },
      "source": [
        "#### Punctuation *n*-grams"
      ]
    },
    {
      "cell_type": "code",
      "metadata": {
        "id": "vpNMAp-9tPjj",
        "colab_type": "code",
        "colab": {}
      },
      "source": [
        "features = [\n",
        "    (doc.n_grams(n=1, punct=True, pos=False, propn=False), doc.translator)\n",
        "    for doc in docs[\"Ibsen\"]\n",
        "    if \"Ghosts\" in doc.filename\n",
        "]\n",
        "\n",
        "plot_pca(features=features, title=\"Punctuation unigrams Ibsen Ghosts\", feature_selection=False, k=45)"
      ],
      "execution_count": 0,
      "outputs": []
    },
    {
      "cell_type": "code",
      "metadata": {
        "id": "7d4McM5UtPjn",
        "colab_type": "code",
        "colab": {}
      },
      "source": [
        "features = [\n",
        "    (doc.n_grams(n=2, punct=True, pos=False, propn=False), doc.translator)\n",
        "    for doc in docs[\"Ibsen\"]\n",
        "    if \"Ghosts\" in doc.filename\n",
        "]\n",
        "\n",
        "plot_pca(features=features, title=\"Punctuation bigrams Ibsen Ghosts\", feature_selection=True, k=45)"
      ],
      "execution_count": 0,
      "outputs": []
    },
    {
      "cell_type": "code",
      "metadata": {
        "id": "A-3vxvJXtPjr",
        "colab_type": "code",
        "colab": {}
      },
      "source": [
        "features = [\n",
        "    (doc.n_grams(n=3, punct=True, pos=False, propn=False), doc.translator)\n",
        "    for doc in docs[\"Ibsen\"]\n",
        "    if \"Ghosts\" in doc.filename\n",
        "]\n",
        "\n",
        "plot_pca(features=features, title=\"Punctuation trigrams Ibsen Ghosts\", feature_selection=True, k=45)"
      ],
      "execution_count": 0,
      "outputs": []
    },
    {
      "cell_type": "markdown",
      "metadata": {
        "id": "wTlt3-0OtPju",
        "colab_type": "text"
      },
      "source": [
        "#### Word *n*-grams"
      ]
    },
    {
      "cell_type": "code",
      "metadata": {
        "id": "jH8ygjiBtPjv",
        "colab_type": "code",
        "colab": {}
      },
      "source": [
        "features = [\n",
        "    (doc.n_grams(n=1, punct=False, pos=False, propn=False), doc.translator)\n",
        "    for doc in docs[\"Ibsen\"]\n",
        "    if \"Ghosts\" in doc.filename\n",
        "]\n",
        "\n",
        "plot_pca(features=features, title=\"Word unigrams Ibsen Ghosts\", feature_selection=True, k=45)"
      ],
      "execution_count": 0,
      "outputs": []
    },
    {
      "cell_type": "code",
      "metadata": {
        "id": "lmnXjtiLtPjz",
        "colab_type": "code",
        "colab": {}
      },
      "source": [
        "features = [\n",
        "    (doc.n_grams(n=2, punct=False, pos=False, propn=False), doc.translator)\n",
        "    for doc in docs[\"Ibsen\"]\n",
        "    if \"Ghosts\" in doc.filename\n",
        "]\n",
        "\n",
        "plot_pca(features=features, title=\"Word bigrams Ibsen Ghosts\", feature_selection=True, k=45)"
      ],
      "execution_count": 0,
      "outputs": []
    },
    {
      "cell_type": "markdown",
      "metadata": {
        "id": "j6cHJPAWtPj3",
        "colab_type": "text"
      },
      "source": [
        "#### POS *n*-grams"
      ]
    },
    {
      "cell_type": "code",
      "metadata": {
        "id": "vIs21anTtPj4",
        "colab_type": "code",
        "colab": {}
      },
      "source": [
        "features = [\n",
        "    (doc.n_grams(n=2, punct=False, pos=True, propn=False), doc.translator)\n",
        "    for doc in docs[\"Ibsen\"]\n",
        "    if \"Ghosts\" in doc.filename\n",
        "]\n",
        "\n",
        "plot_pca(features=features, title=\"POS bigrams Ibsen Ghosts\", feature_selection=True, k=45)"
      ],
      "execution_count": 0,
      "outputs": []
    },
    {
      "cell_type": "code",
      "metadata": {
        "id": "vcH-KPNjtPj7",
        "colab_type": "code",
        "colab": {}
      },
      "source": [
        "features = [\n",
        "    (doc.n_grams(n=3, punct=False, pos=True, propn=False), doc.translator)\n",
        "    for doc in docs[\"Ibsen\"]\n",
        "    if \"Ghosts\" in doc.filename\n",
        "]\n",
        "\n",
        "plot_pca(features=features, title=\"POS trigrams Ibsen Ghosts\", feature_selection=True, k=45)"
      ],
      "execution_count": 0,
      "outputs": []
    },
    {
      "cell_type": "code",
      "metadata": {
        "id": "BcZl7nyitPj_",
        "colab_type": "code",
        "colab": {}
      },
      "source": [
        "features = [\n",
        "    (doc.n_grams(n=2, punct=True, pos=True, propn=False), doc.translator)\n",
        "    for doc in docs[\"Ibsen\"]\n",
        "    if \"Ghosts\" in doc.filename\n",
        "]\n",
        "\n",
        "plot_pca(features=features, title=\"POS bigrams with punctuation Ibsen Ghosts\", feature_selection=True, k=45)"
      ],
      "execution_count": 0,
      "outputs": []
    },
    {
      "cell_type": "code",
      "metadata": {
        "id": "vy6a-pS8tPkC",
        "colab_type": "code",
        "colab": {}
      },
      "source": [
        "features = [\n",
        "    (doc.n_grams(n=3, punct=True, pos=True, propn=False), doc.translator)\n",
        "    for doc in docs[\"Ibsen\"]\n",
        "    if \"Ghosts\" in doc.filename\n",
        "]\n",
        "\n",
        "plot_pca(features=features, title=\"POS trigrams with punctuation Ibsen Ghosts\", feature_selection=True, k=45)"
      ],
      "execution_count": 0,
      "outputs": []
    },
    {
      "cell_type": "markdown",
      "metadata": {
        "id": "Oe3OA-umtPkF",
        "colab_type": "text"
      },
      "source": [
        "#### Syntactic *n*-grams"
      ]
    },
    {
      "cell_type": "code",
      "metadata": {
        "id": "hFV9olyGtPkG",
        "colab_type": "code",
        "colab": {}
      },
      "source": [
        "features = [\n",
        "    (doc.n_grams_syntactic(n=2, propn=False), doc.translator)\n",
        "    for doc in docs[\"Ibsen\"]\n",
        "    if \"Ghosts\" in doc.filename\n",
        "]\n",
        "\n",
        "plot_pca(features=features, title=\"Syntactic bigrams Ibsen Ghosts\", feature_selection=True, k=45)"
      ],
      "execution_count": 0,
      "outputs": []
    },
    {
      "cell_type": "code",
      "metadata": {
        "id": "Lh71dkLLtPkK",
        "colab_type": "code",
        "colab": {}
      },
      "source": [
        "features = [\n",
        "    (doc.n_grams_syntactic(n=3, propn=False), doc.translator)\n",
        "    for doc in docs[\"Ibsen\"]\n",
        "    if \"Ghosts\" in doc.filename\n",
        "]\n",
        "\n",
        "plot_pca(features=features, title=\"Syntactic trigrams Ibsen Ghosts\", feature_selection=True, k=45)"
      ],
      "execution_count": 0,
      "outputs": []
    },
    {
      "cell_type": "markdown",
      "metadata": {
        "id": "Mji7Hua2tPkO",
        "colab_type": "text"
      },
      "source": [
        "#### Cohesive markers"
      ]
    },
    {
      "cell_type": "code",
      "metadata": {
        "id": "-dGGs_tNtPkP",
        "colab_type": "code",
        "colab": {}
      },
      "source": [
        "features = [\n",
        "    (doc.cohesive(punct=False), doc.translator)\n",
        "    for doc in docs[\"Ibsen\"]\n",
        "    if \"Ghosts\" in doc.filename\n",
        "]\n",
        "\n",
        "plot_pca(features=features, title=\"Cohesive markers Ibsen Ghosts\", feature_selection=True, k=45)"
      ],
      "execution_count": 0,
      "outputs": []
    },
    {
      "cell_type": "code",
      "metadata": {
        "id": "UtirjEEgtPkS",
        "colab_type": "code",
        "colab": {}
      },
      "source": [
        "features = [\n",
        "    (doc.cohesive(punct=True), doc.translator)\n",
        "    for doc in docs[\"Ibsen\"]\n",
        "    if \"Ghosts\" in doc.filename\n",
        "]\n",
        "\n",
        "plot_pca(features=features, title=\"Cohesive markers with punctuation Ibsen Ghosts\", feature_selection=True, k=45)"
      ],
      "execution_count": 0,
      "outputs": []
    },
    {
      "cell_type": "markdown",
      "metadata": {
        "id": "-WTplJeFtPkV",
        "colab_type": "text"
      },
      "source": [
        "### Now, the other plays:"
      ]
    },
    {
      "cell_type": "markdown",
      "metadata": {
        "id": "gSG5ghyftPkV",
        "colab_type": "text"
      },
      "source": [
        "#### Punctuation *n*-grams"
      ]
    },
    {
      "cell_type": "code",
      "metadata": {
        "id": "aBB8hEc6tPkW",
        "colab_type": "code",
        "colab": {}
      },
      "source": [
        "features = [\n",
        "    (doc.n_grams(n=1, punct=True, pos=False, propn=False), doc.translator)\n",
        "    for doc in docs[\"Ibsen\"]\n",
        "    if not \"Ghosts\" in doc.filename\n",
        "]\n",
        "\n",
        "plot_pca(features=features, title=\"Punctuation unigrams Ibsen other plays\", feature_selection=False, k=45)"
      ],
      "execution_count": 0,
      "outputs": []
    },
    {
      "cell_type": "code",
      "metadata": {
        "id": "K9ZK8duatPkZ",
        "colab_type": "code",
        "colab": {}
      },
      "source": [
        "features = [\n",
        "    (doc.n_grams(n=2, punct=True, pos=False, propn=False), doc.translator)\n",
        "    for doc in docs[\"Ibsen\"]\n",
        "    if not \"Ghosts\" in doc.filename\n",
        "]\n",
        "\n",
        "plot_pca(features=features, title=\"Punctuation bigrams Ibsen other plays\", feature_selection=True, k=45)"
      ],
      "execution_count": 0,
      "outputs": []
    },
    {
      "cell_type": "code",
      "metadata": {
        "id": "cka_K940tPkc",
        "colab_type": "code",
        "colab": {}
      },
      "source": [
        "features = [\n",
        "    (doc.n_grams(n=3, punct=True, pos=False, propn=False), doc.translator)\n",
        "    for doc in docs[\"Ibsen\"]\n",
        "    if not \"Ghosts\" in doc.filename\n",
        "]\n",
        "\n",
        "plot_pca(features=features, title=\"Punctuation trigrams Ibsen other plays\", feature_selection=True, k=45)"
      ],
      "execution_count": 0,
      "outputs": []
    },
    {
      "cell_type": "markdown",
      "metadata": {
        "id": "sS8bo1PNtPkf",
        "colab_type": "text"
      },
      "source": [
        "#### Word *n*-grams"
      ]
    },
    {
      "cell_type": "code",
      "metadata": {
        "id": "4poecQqntPkf",
        "colab_type": "code",
        "colab": {}
      },
      "source": [
        "features = [\n",
        "    (doc.n_grams(n=1, punct=False, pos=False, propn=False), doc.translator)\n",
        "    for doc in docs[\"Ibsen\"]\n",
        "    if not \"Ghosts\" in doc.filename\n",
        "]\n",
        "\n",
        "plot_pca(features=features, title=\"Word unigrams Ibsen other plays\", feature_selection=True, k=45)"
      ],
      "execution_count": 0,
      "outputs": []
    },
    {
      "cell_type": "code",
      "metadata": {
        "id": "31l5w2eftPki",
        "colab_type": "code",
        "colab": {}
      },
      "source": [
        "features = [\n",
        "    (doc.n_grams(n=2, punct=False, pos=False, propn=False), doc.translator)\n",
        "    for doc in docs[\"Ibsen\"]\n",
        "    if not \"Ghosts\" in doc.filename\n",
        "]\n",
        "\n",
        "plot_pca(features=features, title=\"Word bigrams Ibsen other plays\", feature_selection=True, k=45)"
      ],
      "execution_count": 0,
      "outputs": []
    },
    {
      "cell_type": "markdown",
      "metadata": {
        "id": "9W4zukRKtPkn",
        "colab_type": "text"
      },
      "source": [
        "#### POS *n*-grams"
      ]
    },
    {
      "cell_type": "code",
      "metadata": {
        "id": "wMLzsqD7tPko",
        "colab_type": "code",
        "colab": {}
      },
      "source": [
        "features = [\n",
        "    (doc.n_grams(n=2, punct=False, pos=True, propn=False), doc.translator)\n",
        "    for doc in docs[\"Ibsen\"]\n",
        "    if not \"Ghosts\" in doc.filename\n",
        "]\n",
        "\n",
        "plot_pca(features=features, title=\"POS bigrams Ibsen other plays\", feature_selection=True, k=45)"
      ],
      "execution_count": 0,
      "outputs": []
    },
    {
      "cell_type": "code",
      "metadata": {
        "id": "EK3PtMFQtPkt",
        "colab_type": "code",
        "colab": {}
      },
      "source": [
        "features = [\n",
        "    (doc.n_grams(n=3, punct=False, pos=True, propn=False), doc.translator)\n",
        "    for doc in docs[\"Ibsen\"]\n",
        "    if not \"Ghosts\" in doc.filename\n",
        "]\n",
        "\n",
        "plot_pca(features=features, title=\"POS trigrams Ibsen other plays\", feature_selection=True, k=45)"
      ],
      "execution_count": 0,
      "outputs": []
    },
    {
      "cell_type": "code",
      "metadata": {
        "id": "XgTYg8kMtPkw",
        "colab_type": "code",
        "colab": {}
      },
      "source": [
        "features = [\n",
        "    (doc.n_grams(n=2, punct=True, pos=True, propn=False), doc.translator)\n",
        "    for doc in docs[\"Ibsen\"]\n",
        "    if not \"Ghosts\" in doc.filename\n",
        "]\n",
        "\n",
        "plot_pca(features=features, title=\"POS bigrams with punctuation Ibsen other plays\", feature_selection=True, k=45)"
      ],
      "execution_count": 0,
      "outputs": []
    },
    {
      "cell_type": "code",
      "metadata": {
        "id": "hRxfcPI-tPk0",
        "colab_type": "code",
        "colab": {}
      },
      "source": [
        "features = [\n",
        "    (doc.n_grams(n=3, punct=True, pos=True, propn=False), doc.translator)\n",
        "    for doc in docs[\"Ibsen\"]\n",
        "    if not \"Ghosts\" in doc.filename\n",
        "]\n",
        "\n",
        "plot_pca(features=features, title=\"POS trigrams with punctuation Ibsen other plays\", feature_selection=True, k=45)"
      ],
      "execution_count": 0,
      "outputs": []
    },
    {
      "cell_type": "markdown",
      "metadata": {
        "id": "oUFsfRQutPk3",
        "colab_type": "text"
      },
      "source": [
        "#### Syntactic *n*-grams"
      ]
    },
    {
      "cell_type": "code",
      "metadata": {
        "id": "hYNNp5W9tPk4",
        "colab_type": "code",
        "colab": {}
      },
      "source": [
        "features = [\n",
        "    (doc.n_grams_syntactic(n=2, propn=False), doc.translator)\n",
        "    for doc in docs[\"Ibsen\"]\n",
        "    if not \"Ghosts\" in doc.filename\n",
        "]\n",
        "\n",
        "plot_pca(features=features, title=\"Syntactic bigrams Ibsen other plays\", feature_selection=True, k=45)"
      ],
      "execution_count": 0,
      "outputs": []
    },
    {
      "cell_type": "code",
      "metadata": {
        "id": "_Y2ynafptPk7",
        "colab_type": "code",
        "colab": {}
      },
      "source": [
        "features = [\n",
        "    (doc.n_grams_syntactic(n=3, propn=False), doc.translator)\n",
        "    for doc in docs[\"Ibsen\"]\n",
        "    if not \"Ghosts\" in doc.filename\n",
        "]\n",
        "\n",
        "plot_pca(features=features, title=\"Syntactic trigrams Ibsen other plays\", feature_selection=True, k=45)"
      ],
      "execution_count": 0,
      "outputs": []
    },
    {
      "cell_type": "markdown",
      "metadata": {
        "id": "sEy4Pn2btPk-",
        "colab_type": "text"
      },
      "source": [
        "#### Cohesive markers"
      ]
    },
    {
      "cell_type": "code",
      "metadata": {
        "id": "4di3-ntCtPk_",
        "colab_type": "code",
        "colab": {}
      },
      "source": [
        "features = [\n",
        "    (doc.cohesive(punct=False), doc.translator)\n",
        "    for doc in docs[\"Ibsen\"]\n",
        "    if not \"Ghosts\" in doc.filename\n",
        "]\n",
        "\n",
        "plot_pca(features=features, title=\"Cohesive markers Ibsen other plays\", feature_selection=True, k=45)"
      ],
      "execution_count": 0,
      "outputs": []
    },
    {
      "cell_type": "code",
      "metadata": {
        "id": "kVc11YMUtPlC",
        "colab_type": "code",
        "colab": {}
      },
      "source": [
        "features = [\n",
        "    (doc.cohesive(punct=True), doc.translator)\n",
        "    for doc in docs[\"Ibsen\"]\n",
        "    if not \"Ghosts\" in doc.filename\n",
        "]\n",
        "\n",
        "plot_pca(features=features, title=\"Cohesive markers with punctuation Ibsen other plays\", feature_selection=True, k=45)"
      ],
      "execution_count": 0,
      "outputs": []
    },
    {
      "cell_type": "markdown",
      "metadata": {
        "id": "nYi2duGstPlF",
        "colab_type": "text"
      },
      "source": [
        "### Lastly, all the plays together:"
      ]
    },
    {
      "cell_type": "markdown",
      "metadata": {
        "id": "JhxClxCGtPlF",
        "colab_type": "text"
      },
      "source": [
        "#### Punctuation *n*-grams"
      ]
    },
    {
      "cell_type": "code",
      "metadata": {
        "id": "rz-MU8WttPlG",
        "colab_type": "code",
        "colab": {}
      },
      "source": [
        "features = [\n",
        "    (doc.n_grams(n=1, punct=True, pos=False, propn=False), doc.translator)\n",
        "    for doc in docs[\"Ibsen\"]\n",
        "]\n",
        "\n",
        "plot_pca(features=features, title=\"Punctuation unigrams Ibsen all plays\", feature_selection=False, k=45)"
      ],
      "execution_count": 0,
      "outputs": []
    },
    {
      "cell_type": "code",
      "metadata": {
        "id": "MpB66MaFtPlJ",
        "colab_type": "code",
        "colab": {}
      },
      "source": [
        "features = [\n",
        "    (doc.n_grams(n=2, punct=True, pos=False, propn=False), doc.translator)\n",
        "    for doc in docs[\"Ibsen\"]\n",
        "]\n",
        "\n",
        "plot_pca(features=features, title=\"Punctuation bigrams Ibsen all plays\", feature_selection=True, k=45)"
      ],
      "execution_count": 0,
      "outputs": []
    },
    {
      "cell_type": "code",
      "metadata": {
        "id": "3cFKT3NStPlM",
        "colab_type": "code",
        "colab": {}
      },
      "source": [
        "features = [\n",
        "    (doc.n_grams(n=3, punct=True, pos=False, propn=False), doc.translator)\n",
        "    for doc in docs[\"Ibsen\"]\n",
        "]\n",
        "\n",
        "plot_pca(features=features, title=\"Punctuation trigrams Ibsen all plays\", feature_selection=True, k=45)"
      ],
      "execution_count": 0,
      "outputs": []
    },
    {
      "cell_type": "markdown",
      "metadata": {
        "id": "yVlvcw02tPlQ",
        "colab_type": "text"
      },
      "source": [
        "#### Word *n*-grams"
      ]
    },
    {
      "cell_type": "code",
      "metadata": {
        "id": "HiTRoNyrtPlQ",
        "colab_type": "code",
        "colab": {}
      },
      "source": [
        "features = [\n",
        "    (doc.n_grams(n=1, punct=False, pos=False, propn=False), doc.translator)\n",
        "    for doc in docs[\"Ibsen\"]\n",
        "]\n",
        "\n",
        "plot_pca(features=features, title=\"Word unigrams Ibsen all plays\", feature_selection=True, k=45)"
      ],
      "execution_count": 0,
      "outputs": []
    },
    {
      "cell_type": "code",
      "metadata": {
        "id": "xMWREeA5tPlU",
        "colab_type": "code",
        "colab": {}
      },
      "source": [
        "features = [\n",
        "    (doc.n_grams(n=2, punct=False, pos=False, propn=False), doc.translator)\n",
        "    for doc in docs[\"Ibsen\"]\n",
        "]\n",
        "\n",
        "plot_pca(features=features, title=\"Word bigrams Ibsen all plays\", feature_selection=True, k=45)"
      ],
      "execution_count": 0,
      "outputs": []
    },
    {
      "cell_type": "markdown",
      "metadata": {
        "id": "96YwqBtbtPlY",
        "colab_type": "text"
      },
      "source": [
        "#### POS *n*-grams"
      ]
    },
    {
      "cell_type": "code",
      "metadata": {
        "id": "Un64R88EtPlZ",
        "colab_type": "code",
        "colab": {}
      },
      "source": [
        "features = [\n",
        "    (doc.n_grams(n=2, punct=False, pos=True, propn=False), doc.translator)\n",
        "    for doc in docs[\"Ibsen\"]\n",
        "]\n",
        "\n",
        "plot_pca(features=features, title=\"POS bigrams Ibsen all plays\", feature_selection=True, k=45)"
      ],
      "execution_count": 0,
      "outputs": []
    },
    {
      "cell_type": "code",
      "metadata": {
        "id": "ZJCy1RPstPlc",
        "colab_type": "code",
        "colab": {}
      },
      "source": [
        "features = [\n",
        "    (doc.n_grams(n=3, punct=False, pos=True, propn=False), doc.translator)\n",
        "    for doc in docs[\"Ibsen\"]\n",
        "]\n",
        "\n",
        "plot_pca(features=features, title=\"POS trigrams Ibsen all plays\", feature_selection=True, k=45)"
      ],
      "execution_count": 0,
      "outputs": []
    },
    {
      "cell_type": "code",
      "metadata": {
        "id": "8OxQNmiatPlg",
        "colab_type": "code",
        "colab": {}
      },
      "source": [
        "features = [\n",
        "    (doc.n_grams(n=2, punct=True, pos=True, propn=False), doc.translator)\n",
        "    for doc in docs[\"Ibsen\"]\n",
        "]\n",
        "\n",
        "plot_pca(features=features, title=\"POS bigrams with punctuation Ibsen all plays\", feature_selection=True, k=45)"
      ],
      "execution_count": 0,
      "outputs": []
    },
    {
      "cell_type": "code",
      "metadata": {
        "id": "8EuhM7QItPll",
        "colab_type": "code",
        "colab": {}
      },
      "source": [
        "features = [\n",
        "    (doc.n_grams(n=3, punct=True, pos=True, propn=False), doc.translator)\n",
        "    for doc in docs[\"Ibsen\"]\n",
        "]\n",
        "\n",
        "plot_pca(features=features, title=\"POS trigrams with punctuation Ibsen all plays\", feature_selection=True, k=45)"
      ],
      "execution_count": 0,
      "outputs": []
    },
    {
      "cell_type": "markdown",
      "metadata": {
        "id": "7iQnw4R-tPlp",
        "colab_type": "text"
      },
      "source": [
        "#### Syntactic *n*-grams"
      ]
    },
    {
      "cell_type": "code",
      "metadata": {
        "id": "dqz_MaG1tPlq",
        "colab_type": "code",
        "colab": {}
      },
      "source": [
        "features = [\n",
        "    (doc.n_grams_syntactic(n=2, propn=False), doc.translator)\n",
        "    for doc in docs[\"Ibsen\"]\n",
        "]\n",
        "\n",
        "plot_pca(features=features, title=\"Syntactic bigrams Ibsen all plays\", feature_selection=True, k=45)"
      ],
      "execution_count": 0,
      "outputs": []
    },
    {
      "cell_type": "code",
      "metadata": {
        "id": "o0x5SOqJtPlu",
        "colab_type": "code",
        "colab": {}
      },
      "source": [
        "features = [\n",
        "    (doc.n_grams_syntactic(n=3, propn=False), doc.translator)\n",
        "    for doc in docs[\"Ibsen\"]\n",
        "]\n",
        "\n",
        "plot_pca(features=features, title=\"Syntactic trigrams Ibsen all plays\", feature_selection=True, k=45)"
      ],
      "execution_count": 0,
      "outputs": []
    },
    {
      "cell_type": "markdown",
      "metadata": {
        "id": "rBuZB527tPly",
        "colab_type": "text"
      },
      "source": [
        "#### Cohesive markers"
      ]
    },
    {
      "cell_type": "code",
      "metadata": {
        "id": "ioKYmxvmtPlz",
        "colab_type": "code",
        "colab": {}
      },
      "source": [
        "features = [\n",
        "    (doc.cohesive(punct=False), doc.translator)\n",
        "    for doc in docs[\"Ibsen\"]\n",
        "]\n",
        "\n",
        "plot_pca(features=features, title=\"Cohesive markers Ibsen all plays\", feature_selection=True, k=45)"
      ],
      "execution_count": 0,
      "outputs": []
    },
    {
      "cell_type": "code",
      "metadata": {
        "id": "n8CcWzBXtPl2",
        "colab_type": "code",
        "colab": {}
      },
      "source": [
        "features = [\n",
        "    (doc.cohesive(punct=True), doc.translator)\n",
        "    for doc in docs[\"Ibsen\"]\n",
        "]\n",
        "\n",
        "plot_pca(features=features, title=\"Cohesive markers with punctuation Ibsen all plays\", feature_selection=True, k=45)"
      ],
      "execution_count": 0,
      "outputs": []
    },
    {
      "cell_type": "markdown",
      "metadata": {
        "id": "TKA-OyrXtPl4",
        "colab_type": "text"
      },
      "source": [
        "## *Don Quixote* corpus"
      ]
    },
    {
      "cell_type": "markdown",
      "metadata": {
        "id": "QDoyclV0tPl4",
        "colab_type": "text"
      },
      "source": [
        "This corpus comprises three parallel translations for the two parts of *Don Quixote*. So, we can just generate the PCA visualizations for all the feature sets."
      ]
    },
    {
      "cell_type": "markdown",
      "metadata": {
        "id": "DHwiZ44JtPl5",
        "colab_type": "text"
      },
      "source": [
        "#### Punctuation *n*-grams"
      ]
    },
    {
      "cell_type": "code",
      "metadata": {
        "id": "FV7bmMRltPl5",
        "colab_type": "code",
        "colab": {}
      },
      "source": [
        "features = [\n",
        "    (doc.n_grams(n=1, punct=True, pos=False, propn=False), doc.translator)\n",
        "    for doc in docs[\"Quixote\"]\n",
        "]\n",
        "\n",
        "plot_pca(features=features, title=\"Punctuation unigrams Quixote\", feature_selection=False, k=45)"
      ],
      "execution_count": 0,
      "outputs": []
    },
    {
      "cell_type": "code",
      "metadata": {
        "id": "KsFOv3GMtPl8",
        "colab_type": "code",
        "colab": {}
      },
      "source": [
        "features = [\n",
        "    (doc.n_grams(n=2, punct=True, pos=False, propn=False), doc.translator)\n",
        "    for doc in docs[\"Quixote\"]\n",
        "]\n",
        "\n",
        "plot_pca(features=features, title=\"Punctuation bigrams Quixote\", feature_selection=True, k=45)"
      ],
      "execution_count": 0,
      "outputs": []
    },
    {
      "cell_type": "code",
      "metadata": {
        "id": "J350TAzctPl_",
        "colab_type": "code",
        "colab": {}
      },
      "source": [
        "features = [\n",
        "    (doc.n_grams(n=3, punct=True, pos=False, propn=False), doc.translator)\n",
        "    for doc in docs[\"Quixote\"]\n",
        "]\n",
        "\n",
        "plot_pca(features=features, title=\"Punctuation trigrams Quixote\", feature_selection=True, k=45)"
      ],
      "execution_count": 0,
      "outputs": []
    },
    {
      "cell_type": "markdown",
      "metadata": {
        "id": "TZzH_Pg7tPmE",
        "colab_type": "text"
      },
      "source": [
        "#### Word *n*-grams"
      ]
    },
    {
      "cell_type": "code",
      "metadata": {
        "id": "6YX6RfhFtPmF",
        "colab_type": "code",
        "colab": {}
      },
      "source": [
        "features = [\n",
        "    (doc.n_grams(n=1, punct=False, pos=False, propn=False), doc.translator)\n",
        "    for doc in docs[\"Quixote\"]\n",
        "]\n",
        "\n",
        "plot_pca(features=features, title=\"Word unigrams Quixote\", feature_selection=True, k=45)"
      ],
      "execution_count": 0,
      "outputs": []
    },
    {
      "cell_type": "code",
      "metadata": {
        "id": "ghRPMOaGtPmJ",
        "colab_type": "code",
        "colab": {}
      },
      "source": [
        "features = [\n",
        "    (doc.n_grams(n=2, punct=False, pos=False, propn=False), doc.translator)\n",
        "    for doc in docs[\"Quixote\"]\n",
        "]\n",
        "\n",
        "plot_pca(features=features, title=\"Word bigrams Quixote\", feature_selection=True, k=45)"
      ],
      "execution_count": 0,
      "outputs": []
    },
    {
      "cell_type": "markdown",
      "metadata": {
        "id": "5vvNzjuGtPmO",
        "colab_type": "text"
      },
      "source": [
        "#### POS *n*-grams"
      ]
    },
    {
      "cell_type": "code",
      "metadata": {
        "id": "5K-CWhf5tPmP",
        "colab_type": "code",
        "colab": {}
      },
      "source": [
        "features = [\n",
        "    (doc.n_grams(n=2, punct=False, pos=True, propn=False), doc.translator)\n",
        "    for doc in docs[\"Quixote\"]\n",
        "]\n",
        "\n",
        "plot_pca(features=features, title=\"POS bigrams Quixote\", feature_selection=True, k=45)"
      ],
      "execution_count": 0,
      "outputs": []
    },
    {
      "cell_type": "code",
      "metadata": {
        "id": "TNLm5UjRtPmU",
        "colab_type": "code",
        "colab": {}
      },
      "source": [
        "features = [\n",
        "    (doc.n_grams(n=3, punct=False, pos=True, propn=False), doc.translator)\n",
        "    for doc in docs[\"Quixote\"]\n",
        "]\n",
        "\n",
        "plot_pca(features=features, title=\"POS trigrams Quixote\", feature_selection=True, k=45)"
      ],
      "execution_count": 0,
      "outputs": []
    },
    {
      "cell_type": "code",
      "metadata": {
        "id": "u1D_ppEztPmX",
        "colab_type": "code",
        "colab": {}
      },
      "source": [
        "features = [\n",
        "    (doc.n_grams(n=2, punct=True, pos=True, propn=False), doc.translator)\n",
        "    for doc in docs[\"Quixote\"]\n",
        "]\n",
        "\n",
        "plot_pca(features=features, title=\"POS bigrams with punctuation Quixote\", feature_selection=True, k=45)"
      ],
      "execution_count": 0,
      "outputs": []
    },
    {
      "cell_type": "code",
      "metadata": {
        "id": "AZRXY1kotPmZ",
        "colab_type": "code",
        "colab": {}
      },
      "source": [
        "features = [\n",
        "    (doc.n_grams(n=3, punct=True, pos=True, propn=False), doc.translator)\n",
        "    for doc in docs[\"Quixote\"]\n",
        "]\n",
        "\n",
        "plot_pca(features=features, title=\"POS trigrams with punctuation Quixote\", feature_selection=True, k=45)"
      ],
      "execution_count": 0,
      "outputs": []
    },
    {
      "cell_type": "markdown",
      "metadata": {
        "id": "dv6aCQXctPmb",
        "colab_type": "text"
      },
      "source": [
        "#### Syntactic *n*-grams"
      ]
    },
    {
      "cell_type": "code",
      "metadata": {
        "id": "p3qXJrSQtPmc",
        "colab_type": "code",
        "colab": {}
      },
      "source": [
        "features = [\n",
        "    (doc.n_grams_syntactic(n=2, propn=False), doc.translator)\n",
        "    for doc in docs[\"Quixote\"]\n",
        "]\n",
        "\n",
        "plot_pca(features=features, title=\"Syntactic bigrams Quixote\", feature_selection=True, k=45)"
      ],
      "execution_count": 0,
      "outputs": []
    },
    {
      "cell_type": "code",
      "metadata": {
        "id": "85scoIkltPmg",
        "colab_type": "code",
        "colab": {}
      },
      "source": [
        "features = [\n",
        "    (doc.n_grams_syntactic(n=3, propn=False), doc.translator)\n",
        "    for doc in docs[\"Quixote\"]\n",
        "]\n",
        "\n",
        "plot_pca(features=features, title=\"Syntactic trigrams Quixote\", feature_selection=True, k=45)"
      ],
      "execution_count": 0,
      "outputs": []
    },
    {
      "cell_type": "markdown",
      "metadata": {
        "id": "uuRvMQmYtPml",
        "colab_type": "text"
      },
      "source": [
        "#### Cohesive markers"
      ]
    },
    {
      "cell_type": "code",
      "metadata": {
        "id": "Dn0JyD2ltPmm",
        "colab_type": "code",
        "colab": {}
      },
      "source": [
        "features = [\n",
        "    (doc.cohesive(punct=False), doc.translator)\n",
        "    for doc in docs[\"Quixote\"]\n",
        "]\n",
        "\n",
        "plot_pca(features=features, title=\"Cohesive markers Quixote\", feature_selection=True, k=45)"
      ],
      "execution_count": 0,
      "outputs": []
    },
    {
      "cell_type": "code",
      "metadata": {
        "id": "EtjZpcYftPmo",
        "colab_type": "code",
        "colab": {}
      },
      "source": [
        "features = [\n",
        "    (doc.cohesive(punct=True), doc.translator)\n",
        "    for doc in docs[\"Quixote\"]\n",
        "]\n",
        "\n",
        "plot_pca(features=features, title=\"Cohesive markers with punctuation Quixote\", feature_selection=True, k=45)"
      ],
      "execution_count": 0,
      "outputs": []
    }
  ]
}